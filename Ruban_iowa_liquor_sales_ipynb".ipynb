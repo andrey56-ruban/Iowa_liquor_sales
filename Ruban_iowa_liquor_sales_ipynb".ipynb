{
  "nbformat": 4,
  "nbformat_minor": 0,
  "metadata": {
    "colab": {
      "name": "Ruban_iowa_liquor_sales.ipynb\"",
      "provenance": [],
      "collapsed_sections": [],
      "include_colab_link": true
    },
    "kernelspec": {
      "name": "python3",
      "display_name": "Python 3"
    },
    "accelerator": "GPU"
  },
  "cells": [
    {
      "cell_type": "markdown",
      "metadata": {
        "id": "view-in-github",
        "colab_type": "text"
      },
      "source": [
        "<a href=\"https://colab.research.google.com/github/andrey56-ruban/Iowa_liquor_sales/blob/main/Ruban_iowa_liquor_sales_ipynb%22.ipynb\" target=\"_parent\"><img src=\"https://colab.research.google.com/assets/colab-badge.svg\" alt=\"Open In Colab\"/></a>"
      ]
    },
    {
      "cell_type": "markdown",
      "metadata": {
        "id": "oGG50io9hOjy"
      },
      "source": [
        "## Using BigQuery's Client Library\n",
        "There are multiple means to work with BigQuery while using Colaboratory, including through [magics](https://colab.sandbox.google.com/github/jakevdp/PythonDataScienceHandbook/blob/master/notebooks/01.03-Magic-Commands.ipynb) and `pandas-gbq`. This example will work through the BigQuery Python client (`google-cloud-bigquery`). If you want more information on working through magics, see the [library reference documentation](https://googleapis.github.io/google-cloud-python/latest/bigquery/magics.html). For an example, see the [Getting started with BigQuery](https://colab.research.google.com/notebooks/bigquery.ipynb) notebook.\n",
        "\n",
        "See the following resources for more information about using the `google-cloud-bigquery` library:\n",
        "\n",
        "*   [API methods table](https://googleapis.github.io/google-cloud-python/latest/bigquery/generated/google.cloud.bigquery.client.Client.html#google.cloud.bigquery.client.Client)\n",
        "*  [BigQuery documentation](https://cloud.google.com/bigquery/docs)\n",
        "*  [Library reference documentation](https://googlecloudplatform.github.io/google-cloud-python/latest/bigquery/usage.html)"
      ]
    },
    {
      "cell_type": "markdown",
      "metadata": {
        "id": "V5EcpD6P4eu7"
      },
      "source": [
        "## Install `plotnine`\n",
        "\n",
        "This notebook uses the `plotnine` library which is not included with Colaboratory by default. `plotnine` is a visualization library similar to the  `ggplot2` library widely popular among R users thanks to its ability to quickly and consistently develop useful data visualizations."
      ]
    },
    {
      "cell_type": "code",
      "metadata": {
        "id": "sqhH3XgnCs8r",
        "colab": {
          "base_uri": "https://localhost:8080/"
        },
        "outputId": "0701007b-ce86-47a6-957b-8fd79a5b0a60"
      },
      "source": [
        "!pip install 'plotnine[all]'"
      ],
      "execution_count": null,
      "outputs": [
        {
          "output_type": "stream",
          "text": [
            "Requirement already satisfied: plotnine[all] in /usr/local/lib/python3.6/dist-packages (0.6.0)\n",
            "Requirement already satisfied: numpy>=1.16.0 in /usr/local/lib/python3.6/dist-packages (from plotnine[all]) (1.18.5)\n",
            "Requirement already satisfied: statsmodels>=0.9.0 in /usr/local/lib/python3.6/dist-packages (from plotnine[all]) (0.10.2)\n",
            "Requirement already satisfied: descartes>=1.1.0 in /usr/local/lib/python3.6/dist-packages (from plotnine[all]) (1.1.0)\n",
            "Requirement already satisfied: pandas>=0.25.0 in /usr/local/lib/python3.6/dist-packages (from plotnine[all]) (1.1.4)\n",
            "Requirement already satisfied: patsy>=0.4.1 in /usr/local/lib/python3.6/dist-packages (from plotnine[all]) (0.5.1)\n",
            "Requirement already satisfied: scipy>=1.2.0 in /usr/local/lib/python3.6/dist-packages (from plotnine[all]) (1.4.1)\n",
            "Requirement already satisfied: mizani>=0.6.0 in /usr/local/lib/python3.6/dist-packages (from plotnine[all]) (0.6.0)\n",
            "Requirement already satisfied: matplotlib>=3.1.1 in /usr/local/lib/python3.6/dist-packages (from plotnine[all]) (3.2.2)\n",
            "Collecting scikit-misc; extra == \"all\"\n",
            "\u001b[?25l  Downloading https://files.pythonhosted.org/packages/e5/a9/7e539368f6a3c7cc071481fad9872825b174cd86408be40bd8b286d3977c/scikit_misc-0.1.3-cp36-cp36m-manylinux1_x86_64.whl (8.7MB)\n",
            "\u001b[K     |████████████████████████████████| 8.7MB 13.2MB/s \n",
            "\u001b[?25hRequirement already satisfied: scikit-learn; extra == \"all\" in /usr/local/lib/python3.6/dist-packages (from plotnine[all]) (0.22.2.post1)\n",
            "Requirement already satisfied: pytz>=2017.2 in /usr/local/lib/python3.6/dist-packages (from pandas>=0.25.0->plotnine[all]) (2018.9)\n",
            "Requirement already satisfied: python-dateutil>=2.7.3 in /usr/local/lib/python3.6/dist-packages (from pandas>=0.25.0->plotnine[all]) (2.8.1)\n",
            "Requirement already satisfied: six in /usr/local/lib/python3.6/dist-packages (from patsy>=0.4.1->plotnine[all]) (1.15.0)\n",
            "Requirement already satisfied: palettable in /usr/local/lib/python3.6/dist-packages (from mizani>=0.6.0->plotnine[all]) (3.3.0)\n",
            "Requirement already satisfied: pyparsing!=2.0.4,!=2.1.2,!=2.1.6,>=2.0.1 in /usr/local/lib/python3.6/dist-packages (from matplotlib>=3.1.1->plotnine[all]) (2.4.7)\n",
            "Requirement already satisfied: cycler>=0.10 in /usr/local/lib/python3.6/dist-packages (from matplotlib>=3.1.1->plotnine[all]) (0.10.0)\n",
            "Requirement already satisfied: kiwisolver>=1.0.1 in /usr/local/lib/python3.6/dist-packages (from matplotlib>=3.1.1->plotnine[all]) (1.3.1)\n",
            "Requirement already satisfied: joblib>=0.11 in /usr/local/lib/python3.6/dist-packages (from scikit-learn; extra == \"all\"->plotnine[all]) (0.17.0)\n",
            "Installing collected packages: scikit-misc\n",
            "Successfully installed scikit-misc-0.1.3\n"
          ],
          "name": "stdout"
        }
      ]
    },
    {
      "cell_type": "code",
      "metadata": {
        "id": "j8nSMkJIGqfb",
        "colab": {
          "base_uri": "https://localhost:8080/"
        },
        "outputId": "6fffd019-bea4-412e-ef1d-2c1a73aaae9b"
      },
      "source": [
        "from google.colab import auth\n",
        "auth.authenticate_user()\n",
        "print('Authenticated')"
      ],
      "execution_count": 1,
      "outputs": [
        {
          "output_type": "stream",
          "text": [
            "Authenticated\n"
          ],
          "name": "stdout"
        }
      ]
    },
    {
      "cell_type": "markdown",
      "metadata": {
        "id": "tE7Jei6NJG_p"
      },
      "source": [
        "### Declare your project\n",
        "Insert your project ID in between the quotation marks in the cell below. This sets the GCP project used throughout the notebook. You can find this information under the \"Project Info\" card on the [GCP Console Dashboard](https://console.cloud.google.com).\n",
        "\n",
        "If you decide to change projects, make sure you come back to this step to replace the project ID and then rerun the steps below."
      ]
    },
    {
      "cell_type": "code",
      "metadata": {
        "id": "I3jXGM_BB0vD"
      },
      "source": [
        "project_id = \"static-destiny-94216\""
      ],
      "execution_count": 2,
      "outputs": []
    },
    {
      "cell_type": "markdown",
      "metadata": {
        "id": "pteQi2HXY5MA"
      },
      "source": [
        "### Declare your dataset\n",
        "\n",
        "You also need to name a [BigQuery dataset](https://cloud.google.com/bigquery/docs/datasets-intro) to save some work in. The default is `samples_demo`, but you can change it.\n",
        "\n",
        "It is recommended you use a dataset just for this example. Code to create the dataset specified here is after the Setup section. You may run into a problems using a dateset that already has other data in it."
      ]
    },
    {
      "cell_type": "code",
      "metadata": {
        "id": "ln7_Q-hsZsfK"
      },
      "source": [
        "dataset_name = \"retail_demo\""
      ],
      "execution_count": 3,
      "outputs": []
    },
    {
      "cell_type": "markdown",
      "metadata": {
        "id": "SNoVMKsbB9P-"
      },
      "source": [
        "### Import libraries and instantiate the BigQuery client\n",
        "\n",
        "Next, import the required libraries, including the `google-cloud-bigquery` library. For convenience, Colaboratory already has the libraries necessary for calling Google Cloud APIs already installed. The other imported libraries aid the analysis.\n",
        "\n",
        "After importing libraries, the BigQuery \"client\" is created, which tells the `google-cloud-bigquery` library to connect to your project."
      ]
    },
    {
      "cell_type": "code",
      "metadata": {
        "id": "zR3M0Q444Xei"
      },
      "source": [
        "from google.cloud import bigquery\n",
        "import numpy as np\n",
        "import pandas as pd\n",
        "import plotnine as pn\n",
        "import threading\n",
        "import time\n",
        "\n",
        "client = bigquery.Client(project = project_id)"
      ],
      "execution_count": 4,
      "outputs": []
    },
    {
      "cell_type": "markdown",
      "metadata": {
        "id": "3Bc79p-kaDTe"
      },
      "source": [
        "## Create your dataset\n",
        "\n",
        "If the dataset you specified in Setup does not exist, create it.\n",
        "\n",
        "You'll see an error when you run this code if the dataset already exists. As stated above, it is recommended you use a dataset just for this example. But if your intended dataset already exists and you are comfortable using it, there is no harm in proceeding past this error."
      ]
    },
    {
      "cell_type": "code",
      "metadata": {
        "id": "1vIpJKTEaCcl",
        "colab": {
          "base_uri": "https://localhost:8080/",
          "height": 374
        },
        "outputId": "d58d4a5d-b291-4e68-e561-bd081744139b"
      },
      "source": [
        "dataset_id = \"{}.{}\".format(client.project, dataset_name)\n",
        "\n",
        "# Construct a full Dataset object to send to the API.\n",
        "dataset = bigquery.Dataset(dataset_id)\n",
        "\n",
        "# Send the dataset to the API for creation.\n",
        "# Raises google.api_core.exceptions.Conflict if the Dataset already\n",
        "# exists within the project.\n",
        "dataset = client.create_dataset(dataset)  # API request\n",
        "print(\"Created dataset {}.{}\".format(client.project, dataset.dataset_id))"
      ],
      "execution_count": 5,
      "outputs": [
        {
          "output_type": "error",
          "ename": "Conflict",
          "evalue": "ignored",
          "traceback": [
            "\u001b[0;31m---------------------------------------------------------------------------\u001b[0m",
            "\u001b[0;31mConflict\u001b[0m                                  Traceback (most recent call last)",
            "\u001b[0;32m<ipython-input-5-15e49d0dd204>\u001b[0m in \u001b[0;36m<module>\u001b[0;34m()\u001b[0m\n\u001b[1;32m      7\u001b[0m \u001b[0;31m# Raises google.api_core.exceptions.Conflict if the Dataset already\u001b[0m\u001b[0;34m\u001b[0m\u001b[0;34m\u001b[0m\u001b[0;34m\u001b[0m\u001b[0m\n\u001b[1;32m      8\u001b[0m \u001b[0;31m# exists within the project.\u001b[0m\u001b[0;34m\u001b[0m\u001b[0;34m\u001b[0m\u001b[0;34m\u001b[0m\u001b[0m\n\u001b[0;32m----> 9\u001b[0;31m \u001b[0mdataset\u001b[0m \u001b[0;34m=\u001b[0m \u001b[0mclient\u001b[0m\u001b[0;34m.\u001b[0m\u001b[0mcreate_dataset\u001b[0m\u001b[0;34m(\u001b[0m\u001b[0mdataset\u001b[0m\u001b[0;34m)\u001b[0m  \u001b[0;31m# API request\u001b[0m\u001b[0;34m\u001b[0m\u001b[0;34m\u001b[0m\u001b[0m\n\u001b[0m\u001b[1;32m     10\u001b[0m \u001b[0mprint\u001b[0m\u001b[0;34m(\u001b[0m\u001b[0;34m\"Created dataset {}.{}\"\u001b[0m\u001b[0;34m.\u001b[0m\u001b[0mformat\u001b[0m\u001b[0;34m(\u001b[0m\u001b[0mclient\u001b[0m\u001b[0;34m.\u001b[0m\u001b[0mproject\u001b[0m\u001b[0;34m,\u001b[0m \u001b[0mdataset\u001b[0m\u001b[0;34m.\u001b[0m\u001b[0mdataset_id\u001b[0m\u001b[0;34m)\u001b[0m\u001b[0;34m)\u001b[0m\u001b[0;34m\u001b[0m\u001b[0;34m\u001b[0m\u001b[0m\n",
            "\u001b[0;32m/usr/local/lib/python3.6/dist-packages/google/cloud/bigquery/client.py\u001b[0m in \u001b[0;36mcreate_dataset\u001b[0;34m(self, dataset, exists_ok, retry)\u001b[0m\n\u001b[1;32m    390\u001b[0m \u001b[0;34m\u001b[0m\u001b[0m\n\u001b[1;32m    391\u001b[0m         \u001b[0;32mtry\u001b[0m\u001b[0;34m:\u001b[0m\u001b[0;34m\u001b[0m\u001b[0;34m\u001b[0m\u001b[0m\n\u001b[0;32m--> 392\u001b[0;31m             \u001b[0mapi_response\u001b[0m \u001b[0;34m=\u001b[0m \u001b[0mself\u001b[0m\u001b[0;34m.\u001b[0m\u001b[0m_call_api\u001b[0m\u001b[0;34m(\u001b[0m\u001b[0mretry\u001b[0m\u001b[0;34m,\u001b[0m \u001b[0mmethod\u001b[0m\u001b[0;34m=\u001b[0m\u001b[0;34m\"POST\"\u001b[0m\u001b[0;34m,\u001b[0m \u001b[0mpath\u001b[0m\u001b[0;34m=\u001b[0m\u001b[0mpath\u001b[0m\u001b[0;34m,\u001b[0m \u001b[0mdata\u001b[0m\u001b[0;34m=\u001b[0m\u001b[0mdata\u001b[0m\u001b[0;34m)\u001b[0m\u001b[0;34m\u001b[0m\u001b[0;34m\u001b[0m\u001b[0m\n\u001b[0m\u001b[1;32m    393\u001b[0m             \u001b[0;32mreturn\u001b[0m \u001b[0mDataset\u001b[0m\u001b[0;34m.\u001b[0m\u001b[0mfrom_api_repr\u001b[0m\u001b[0;34m(\u001b[0m\u001b[0mapi_response\u001b[0m\u001b[0;34m)\u001b[0m\u001b[0;34m\u001b[0m\u001b[0;34m\u001b[0m\u001b[0m\n\u001b[1;32m    394\u001b[0m         \u001b[0;32mexcept\u001b[0m \u001b[0mgoogle\u001b[0m\u001b[0;34m.\u001b[0m\u001b[0mapi_core\u001b[0m\u001b[0;34m.\u001b[0m\u001b[0mexceptions\u001b[0m\u001b[0;34m.\u001b[0m\u001b[0mConflict\u001b[0m\u001b[0;34m:\u001b[0m\u001b[0;34m\u001b[0m\u001b[0;34m\u001b[0m\u001b[0m\n",
            "\u001b[0;32m/usr/local/lib/python3.6/dist-packages/google/cloud/bigquery/client.py\u001b[0m in \u001b[0;36m_call_api\u001b[0;34m(self, retry, **kwargs)\u001b[0m\n\u001b[1;32m    474\u001b[0m         \u001b[0;32mif\u001b[0m \u001b[0mretry\u001b[0m\u001b[0;34m:\u001b[0m\u001b[0;34m\u001b[0m\u001b[0;34m\u001b[0m\u001b[0m\n\u001b[1;32m    475\u001b[0m             \u001b[0mcall\u001b[0m \u001b[0;34m=\u001b[0m \u001b[0mretry\u001b[0m\u001b[0;34m(\u001b[0m\u001b[0mcall\u001b[0m\u001b[0;34m)\u001b[0m\u001b[0;34m\u001b[0m\u001b[0;34m\u001b[0m\u001b[0m\n\u001b[0;32m--> 476\u001b[0;31m         \u001b[0;32mreturn\u001b[0m \u001b[0mcall\u001b[0m\u001b[0;34m(\u001b[0m\u001b[0;34m)\u001b[0m\u001b[0;34m\u001b[0m\u001b[0;34m\u001b[0m\u001b[0m\n\u001b[0m\u001b[1;32m    477\u001b[0m \u001b[0;34m\u001b[0m\u001b[0m\n\u001b[1;32m    478\u001b[0m     \u001b[0;32mdef\u001b[0m \u001b[0mget_dataset\u001b[0m\u001b[0;34m(\u001b[0m\u001b[0mself\u001b[0m\u001b[0;34m,\u001b[0m \u001b[0mdataset_ref\u001b[0m\u001b[0;34m,\u001b[0m \u001b[0mretry\u001b[0m\u001b[0;34m=\u001b[0m\u001b[0mDEFAULT_RETRY\u001b[0m\u001b[0;34m)\u001b[0m\u001b[0;34m:\u001b[0m\u001b[0;34m\u001b[0m\u001b[0;34m\u001b[0m\u001b[0m\n",
            "\u001b[0;32m/usr/local/lib/python3.6/dist-packages/google/api_core/retry.py\u001b[0m in \u001b[0;36mretry_wrapped_func\u001b[0;34m(*args, **kwargs)\u001b[0m\n\u001b[1;32m    284\u001b[0m                 \u001b[0msleep_generator\u001b[0m\u001b[0;34m,\u001b[0m\u001b[0;34m\u001b[0m\u001b[0;34m\u001b[0m\u001b[0m\n\u001b[1;32m    285\u001b[0m                 \u001b[0mself\u001b[0m\u001b[0;34m.\u001b[0m\u001b[0m_deadline\u001b[0m\u001b[0;34m,\u001b[0m\u001b[0;34m\u001b[0m\u001b[0;34m\u001b[0m\u001b[0m\n\u001b[0;32m--> 286\u001b[0;31m                 \u001b[0mon_error\u001b[0m\u001b[0;34m=\u001b[0m\u001b[0mon_error\u001b[0m\u001b[0;34m,\u001b[0m\u001b[0;34m\u001b[0m\u001b[0;34m\u001b[0m\u001b[0m\n\u001b[0m\u001b[1;32m    287\u001b[0m             )\n\u001b[1;32m    288\u001b[0m \u001b[0;34m\u001b[0m\u001b[0m\n",
            "\u001b[0;32m/usr/local/lib/python3.6/dist-packages/google/api_core/retry.py\u001b[0m in \u001b[0;36mretry_target\u001b[0;34m(target, predicate, sleep_generator, deadline, on_error)\u001b[0m\n\u001b[1;32m    182\u001b[0m     \u001b[0;32mfor\u001b[0m \u001b[0msleep\u001b[0m \u001b[0;32min\u001b[0m \u001b[0msleep_generator\u001b[0m\u001b[0;34m:\u001b[0m\u001b[0;34m\u001b[0m\u001b[0;34m\u001b[0m\u001b[0m\n\u001b[1;32m    183\u001b[0m         \u001b[0;32mtry\u001b[0m\u001b[0;34m:\u001b[0m\u001b[0;34m\u001b[0m\u001b[0;34m\u001b[0m\u001b[0m\n\u001b[0;32m--> 184\u001b[0;31m             \u001b[0;32mreturn\u001b[0m \u001b[0mtarget\u001b[0m\u001b[0;34m(\u001b[0m\u001b[0;34m)\u001b[0m\u001b[0;34m\u001b[0m\u001b[0;34m\u001b[0m\u001b[0m\n\u001b[0m\u001b[1;32m    185\u001b[0m \u001b[0;34m\u001b[0m\u001b[0m\n\u001b[1;32m    186\u001b[0m         \u001b[0;31m# pylint: disable=broad-except\u001b[0m\u001b[0;34m\u001b[0m\u001b[0;34m\u001b[0m\u001b[0;34m\u001b[0m\u001b[0m\n",
            "\u001b[0;32m/usr/local/lib/python3.6/dist-packages/google/cloud/_http.py\u001b[0m in \u001b[0;36mapi_request\u001b[0;34m(self, method, path, query_params, data, content_type, headers, api_base_url, api_version, expect_json, _target_object)\u001b[0m\n\u001b[1;32m    391\u001b[0m \u001b[0;34m\u001b[0m\u001b[0m\n\u001b[1;32m    392\u001b[0m         \u001b[0;32mif\u001b[0m \u001b[0;32mnot\u001b[0m \u001b[0;36m200\u001b[0m \u001b[0;34m<=\u001b[0m \u001b[0mresponse\u001b[0m\u001b[0;34m.\u001b[0m\u001b[0mstatus_code\u001b[0m \u001b[0;34m<\u001b[0m \u001b[0;36m300\u001b[0m\u001b[0;34m:\u001b[0m\u001b[0;34m\u001b[0m\u001b[0;34m\u001b[0m\u001b[0m\n\u001b[0;32m--> 393\u001b[0;31m             \u001b[0;32mraise\u001b[0m \u001b[0mexceptions\u001b[0m\u001b[0;34m.\u001b[0m\u001b[0mfrom_http_response\u001b[0m\u001b[0;34m(\u001b[0m\u001b[0mresponse\u001b[0m\u001b[0;34m)\u001b[0m\u001b[0;34m\u001b[0m\u001b[0;34m\u001b[0m\u001b[0m\n\u001b[0m\u001b[1;32m    394\u001b[0m \u001b[0;34m\u001b[0m\u001b[0m\n\u001b[1;32m    395\u001b[0m         \u001b[0;32mif\u001b[0m \u001b[0mexpect_json\u001b[0m \u001b[0;32mand\u001b[0m \u001b[0mresponse\u001b[0m\u001b[0;34m.\u001b[0m\u001b[0mcontent\u001b[0m\u001b[0;34m:\u001b[0m\u001b[0;34m\u001b[0m\u001b[0;34m\u001b[0m\u001b[0m\n",
            "\u001b[0;31mConflict\u001b[0m: 409 POST https://bigquery.googleapis.com/bigquery/v2/projects/static-destiny-94216/datasets: Already Exists: Dataset static-destiny-94216:retail_demo"
          ]
        }
      ]
    },
    {
      "cell_type": "markdown",
      "metadata": {
        "id": "q0ztTjhlsf77"
      },
      "source": [
        "Изучим данные в первых 3 строках датасета bigquery-public-data.iowa_liquor_sales.sales"
      ]
    },
    {
      "cell_type": "code",
      "metadata": {
        "colab": {
          "base_uri": "https://localhost:8080/",
          "height": 298
        },
        "id": "x-yZlwE-e1dt",
        "outputId": "6793788e-035f-4f93-940a-731acfbb64a3"
      },
      "source": [
        "head_query = \"\"\"\n",
        "    SELECT\n",
        "     *\n",
        "    FROM \n",
        "      `bigquery-public-data.iowa_liquor_sales.sales`\n",
        "      LIMIT 3\n",
        "    \"\"\"\n",
        "head_query = client.query(head_query).to_dataframe()\n",
        "head_query"
      ],
      "execution_count": 6,
      "outputs": [
        {
          "output_type": "execute_result",
          "data": {
            "text/html": [
              "<div>\n",
              "<style scoped>\n",
              "    .dataframe tbody tr th:only-of-type {\n",
              "        vertical-align: middle;\n",
              "    }\n",
              "\n",
              "    .dataframe tbody tr th {\n",
              "        vertical-align: top;\n",
              "    }\n",
              "\n",
              "    .dataframe thead th {\n",
              "        text-align: right;\n",
              "    }\n",
              "</style>\n",
              "<table border=\"1\" class=\"dataframe\">\n",
              "  <thead>\n",
              "    <tr style=\"text-align: right;\">\n",
              "      <th></th>\n",
              "      <th>invoice_and_item_number</th>\n",
              "      <th>date</th>\n",
              "      <th>store_number</th>\n",
              "      <th>store_name</th>\n",
              "      <th>address</th>\n",
              "      <th>city</th>\n",
              "      <th>zip_code</th>\n",
              "      <th>store_location</th>\n",
              "      <th>county_number</th>\n",
              "      <th>county</th>\n",
              "      <th>category</th>\n",
              "      <th>category_name</th>\n",
              "      <th>vendor_number</th>\n",
              "      <th>vendor_name</th>\n",
              "      <th>item_number</th>\n",
              "      <th>item_description</th>\n",
              "      <th>pack</th>\n",
              "      <th>bottle_volume_ml</th>\n",
              "      <th>state_bottle_cost</th>\n",
              "      <th>state_bottle_retail</th>\n",
              "      <th>bottles_sold</th>\n",
              "      <th>sale_dollars</th>\n",
              "      <th>volume_sold_liters</th>\n",
              "      <th>volume_sold_gallons</th>\n",
              "    </tr>\n",
              "  </thead>\n",
              "  <tbody>\n",
              "    <tr>\n",
              "      <th>0</th>\n",
              "      <td>S03701600037</td>\n",
              "      <td>2012-01-24</td>\n",
              "      <td>3477</td>\n",
              "      <td>Sam's Club 6472 / Council Bluffs</td>\n",
              "      <td>3221 MANAWA CENTRE DR</td>\n",
              "      <td>COUNCIL BLUFFS</td>\n",
              "      <td>51501</td>\n",
              "      <td>POINT (-95.847163 41.225208)</td>\n",
              "      <td>78</td>\n",
              "      <td>Pottawattamie</td>\n",
              "      <td>1081700</td>\n",
              "      <td>DISTILLED SPIRITS SPECIALTY</td>\n",
              "      <td>434</td>\n",
              "      <td>Luxco-St Louis</td>\n",
              "      <td>75087</td>\n",
              "      <td>Juarez Gold Dss</td>\n",
              "      <td>12</td>\n",
              "      <td>1000</td>\n",
              "      <td>4.75</td>\n",
              "      <td>7.13</td>\n",
              "      <td>96</td>\n",
              "      <td>684.48</td>\n",
              "      <td>96.0</td>\n",
              "      <td>25.36</td>\n",
              "    </tr>\n",
              "    <tr>\n",
              "      <th>1</th>\n",
              "      <td>S06230800056</td>\n",
              "      <td>2012-06-25</td>\n",
              "      <td>3932</td>\n",
              "      <td>Main Street Spirits / Mapleton</td>\n",
              "      <td>311 MAIN ST</td>\n",
              "      <td>MAPLETON</td>\n",
              "      <td>51034</td>\n",
              "      <td>POINT (-95.79375 42.165915)</td>\n",
              "      <td>67</td>\n",
              "      <td>Monona</td>\n",
              "      <td>1081010</td>\n",
              "      <td>AMERICAN AMARETTO</td>\n",
              "      <td>434</td>\n",
              "      <td>Luxco-St Louis</td>\n",
              "      <td>76487</td>\n",
              "      <td>Paramount Amaretto</td>\n",
              "      <td>12</td>\n",
              "      <td>1000</td>\n",
              "      <td>4.04</td>\n",
              "      <td>6.06</td>\n",
              "      <td>5</td>\n",
              "      <td>30.30</td>\n",
              "      <td>5.0</td>\n",
              "      <td>1.32</td>\n",
              "    </tr>\n",
              "    <tr>\n",
              "      <th>2</th>\n",
              "      <td>INV-18932300070</td>\n",
              "      <td>2019-04-23</td>\n",
              "      <td>2643</td>\n",
              "      <td>Hy-Vee Wine and Spirits / Waterloo</td>\n",
              "      <td>2126 Kimball Ave</td>\n",
              "      <td>Waterloo</td>\n",
              "      <td>50701</td>\n",
              "      <td>None</td>\n",
              "      <td>7</td>\n",
              "      <td>BLACK HAWK</td>\n",
              "      <td>1081500</td>\n",
              "      <td>Triple Sec</td>\n",
              "      <td>434</td>\n",
              "      <td>LUXCO INC</td>\n",
              "      <td>86251</td>\n",
              "      <td>Juarez Triple Sec</td>\n",
              "      <td>12</td>\n",
              "      <td>1000</td>\n",
              "      <td>2.42</td>\n",
              "      <td>3.63</td>\n",
              "      <td>2</td>\n",
              "      <td>7.26</td>\n",
              "      <td>2.0</td>\n",
              "      <td>0.52</td>\n",
              "    </tr>\n",
              "  </tbody>\n",
              "</table>\n",
              "</div>"
            ],
            "text/plain": [
              "  invoice_and_item_number        date  ... volume_sold_liters volume_sold_gallons\n",
              "0            S03701600037  2012-01-24  ...               96.0               25.36\n",
              "1            S06230800056  2012-06-25  ...                5.0                1.32\n",
              "2         INV-18932300070  2019-04-23  ...                2.0                0.52\n",
              "\n",
              "[3 rows x 24 columns]"
            ]
          },
          "metadata": {
            "tags": []
          },
          "execution_count": 6
        }
      ]
    },
    {
      "cell_type": "markdown",
      "metadata": {
        "id": "sSGoPxTYs-rj"
      },
      "source": [
        "В датасете есть 24 столбца. Для построения аналитики в данном случае будем ипользовать только часть. Стоит отметить, что есть вычисляемые столбцы, которые можно не загружать если не хватает системных ресурсов: Sale (Dollars), Volume Sold (Liters), Volume Sold (Gallons)\n",
        "\n",
        "Описание всех столбцов датасета можно прочитать по ссылке: https://data.iowa.gov/Sales-Distribution/Iowa-Liquor-Sales/m3tr-qhgy\n"
      ]
    },
    {
      "cell_type": "markdown",
      "metadata": {
        "id": "FBouJwEFveh2"
      },
      "source": [
        "Оценим объем датасета в количестве строк, а так же узнаем период, за который доступна история продаж и присутствуют ли продажи за все месяцы"
      ]
    },
    {
      "cell_type": "code",
      "metadata": {
        "colab": {
          "base_uri": "https://localhost:8080/",
          "height": 80
        },
        "id": "p3egzGpuqci1",
        "outputId": "2c6e21e4-6fc9-45e3-9fb9-2689736cafc9"
      },
      "source": [
        "stat_query = \"\"\"\n",
        "    SELECT\n",
        "     count(*) as rows_count, \n",
        "     min(date) as min_date_orders,\n",
        "     max(date) as max_date_orders,\n",
        "     count(distinct DATE(EXTRACT(YEAR FROM date),EXTRACT(MONTH FROM date),1)) as count_month\n",
        "    FROM \n",
        "      `bigquery-public-data.iowa_liquor_sales.sales`\n",
        "    \"\"\"\n",
        "stat_query = client.query(stat_query).to_dataframe()\n",
        "stat_query"
      ],
      "execution_count": 16,
      "outputs": [
        {
          "output_type": "execute_result",
          "data": {
            "text/html": [
              "<div>\n",
              "<style scoped>\n",
              "    .dataframe tbody tr th:only-of-type {\n",
              "        vertical-align: middle;\n",
              "    }\n",
              "\n",
              "    .dataframe tbody tr th {\n",
              "        vertical-align: top;\n",
              "    }\n",
              "\n",
              "    .dataframe thead th {\n",
              "        text-align: right;\n",
              "    }\n",
              "</style>\n",
              "<table border=\"1\" class=\"dataframe\">\n",
              "  <thead>\n",
              "    <tr style=\"text-align: right;\">\n",
              "      <th></th>\n",
              "      <th>rows_count</th>\n",
              "      <th>min_date_orders</th>\n",
              "      <th>max_date_orders</th>\n",
              "      <th>count_month</th>\n",
              "    </tr>\n",
              "  </thead>\n",
              "  <tbody>\n",
              "    <tr>\n",
              "      <th>0</th>\n",
              "      <td>19884006</td>\n",
              "      <td>2012-01-03</td>\n",
              "      <td>2020-10-30</td>\n",
              "      <td>106</td>\n",
              "    </tr>\n",
              "  </tbody>\n",
              "</table>\n",
              "</div>"
            ],
            "text/plain": [
              "   rows_count min_date_orders max_date_orders  count_month\n",
              "0    19884006      2012-01-03      2020-10-30          106"
            ]
          },
          "metadata": {
            "tags": []
          },
          "execution_count": 16
        }
      ]
    },
    {
      "cell_type": "markdown",
      "metadata": {
        "id": "FWxCKpOz2tQJ"
      },
      "source": [
        "Объем датасета более 19 млн строк. Продажи предсталены за каждый месяц начина с 2012 по октябрь 2020. Получим часть данных из источника по наиболее информативным столбцам и за период с начала 2018 года, так как для выводов о текущей сложившейся ситуации на рынке алкогольных напитков Айовы и установления причинно-следственных связей достаточно данных за несколько последних лет"
      ]
    },
    {
      "cell_type": "code",
      "metadata": {
        "colab": {
          "base_uri": "https://localhost:8080/",
          "height": 728
        },
        "id": "t3sto4_Aq8BZ",
        "outputId": "1b674649-1da4-418f-bfa0-9549dfc2d361"
      },
      "source": [
        "df = \"\"\"\n",
        "    SELECT\n",
        "     date, store_number, city, county, category_name, vendor_name, \n",
        "     item_description, bottle_volume_ml/1000 as bottle_volume_liters, state_bottle_cost, state_bottle_retail,\n",
        "     bottles_sold, sale_dollars, volume_sold_liters\n",
        "    FROM \n",
        "      `bigquery-public-data.iowa_liquor_sales.sales`\n",
        "      where date>='2018-01-01'\n",
        "    \"\"\"\n",
        "df = client.query(df).to_dataframe()\n",
        "df"
      ],
      "execution_count": 17,
      "outputs": [
        {
          "output_type": "execute_result",
          "data": {
            "text/html": [
              "<div>\n",
              "<style scoped>\n",
              "    .dataframe tbody tr th:only-of-type {\n",
              "        vertical-align: middle;\n",
              "    }\n",
              "\n",
              "    .dataframe tbody tr th {\n",
              "        vertical-align: top;\n",
              "    }\n",
              "\n",
              "    .dataframe thead th {\n",
              "        text-align: right;\n",
              "    }\n",
              "</style>\n",
              "<table border=\"1\" class=\"dataframe\">\n",
              "  <thead>\n",
              "    <tr style=\"text-align: right;\">\n",
              "      <th></th>\n",
              "      <th>date</th>\n",
              "      <th>store_number</th>\n",
              "      <th>city</th>\n",
              "      <th>county</th>\n",
              "      <th>category_name</th>\n",
              "      <th>vendor_name</th>\n",
              "      <th>item_description</th>\n",
              "      <th>bottle_volume_liters</th>\n",
              "      <th>state_bottle_cost</th>\n",
              "      <th>state_bottle_retail</th>\n",
              "      <th>bottles_sold</th>\n",
              "      <th>sale_dollars</th>\n",
              "      <th>volume_sold_liters</th>\n",
              "    </tr>\n",
              "  </thead>\n",
              "  <tbody>\n",
              "    <tr>\n",
              "      <th>0</th>\n",
              "      <td>2018-10-18</td>\n",
              "      <td>3420</td>\n",
              "      <td>Windsor Heights</td>\n",
              "      <td>Polk</td>\n",
              "      <td>Imported Distilled Spirit Specialty</td>\n",
              "      <td>SAZERAC COMPANY  INC</td>\n",
              "      <td>Tortilla Gold Dss</td>\n",
              "      <td>1.000</td>\n",
              "      <td>4.85</td>\n",
              "      <td>7.28</td>\n",
              "      <td>768</td>\n",
              "      <td>5199.36</td>\n",
              "      <td>768.00</td>\n",
              "    </tr>\n",
              "    <tr>\n",
              "      <th>1</th>\n",
              "      <td>2019-12-05</td>\n",
              "      <td>2675</td>\n",
              "      <td>Coralville</td>\n",
              "      <td>JOHNSON</td>\n",
              "      <td>Aged Dark Rum</td>\n",
              "      <td>DIAGEO AMERICAS</td>\n",
              "      <td>Ron Zacapa 23YR</td>\n",
              "      <td>0.750</td>\n",
              "      <td>22.50</td>\n",
              "      <td>33.75</td>\n",
              "      <td>18</td>\n",
              "      <td>607.50</td>\n",
              "      <td>13.50</td>\n",
              "    </tr>\n",
              "    <tr>\n",
              "      <th>2</th>\n",
              "      <td>2018-03-08</td>\n",
              "      <td>3420</td>\n",
              "      <td>Windsor Heights</td>\n",
              "      <td>Polk</td>\n",
              "      <td>None</td>\n",
              "      <td>SAZERAC COMPANY  INC</td>\n",
              "      <td>Members Mark Silver Tequila</td>\n",
              "      <td>1.750</td>\n",
              "      <td>13.96</td>\n",
              "      <td>20.94</td>\n",
              "      <td>288</td>\n",
              "      <td>6030.72</td>\n",
              "      <td>504.00</td>\n",
              "    </tr>\n",
              "    <tr>\n",
              "      <th>3</th>\n",
              "      <td>2018-10-24</td>\n",
              "      <td>4201</td>\n",
              "      <td>Sioux City</td>\n",
              "      <td>WOODBURY</td>\n",
              "      <td>Gold Rum</td>\n",
              "      <td>LUXCO INC</td>\n",
              "      <td>Paramount Gold Rum</td>\n",
              "      <td>1.750</td>\n",
              "      <td>7.84</td>\n",
              "      <td>11.76</td>\n",
              "      <td>3</td>\n",
              "      <td>35.28</td>\n",
              "      <td>5.25</td>\n",
              "    </tr>\n",
              "    <tr>\n",
              "      <th>4</th>\n",
              "      <td>2019-12-19</td>\n",
              "      <td>2548</td>\n",
              "      <td>Altoona</td>\n",
              "      <td>POLK</td>\n",
              "      <td>Straight Rye Whiskies</td>\n",
              "      <td>Infinium Spirits</td>\n",
              "      <td>Templeton 4YR Rye</td>\n",
              "      <td>0.750</td>\n",
              "      <td>18.09</td>\n",
              "      <td>27.14</td>\n",
              "      <td>18</td>\n",
              "      <td>488.52</td>\n",
              "      <td>13.50</td>\n",
              "    </tr>\n",
              "    <tr>\n",
              "      <th>...</th>\n",
              "      <td>...</td>\n",
              "      <td>...</td>\n",
              "      <td>...</td>\n",
              "      <td>...</td>\n",
              "      <td>...</td>\n",
              "      <td>...</td>\n",
              "      <td>...</td>\n",
              "      <td>...</td>\n",
              "      <td>...</td>\n",
              "      <td>...</td>\n",
              "      <td>...</td>\n",
              "      <td>...</td>\n",
              "      <td>...</td>\n",
              "    </tr>\n",
              "    <tr>\n",
              "      <th>6884731</th>\n",
              "      <td>2018-02-27</td>\n",
              "      <td>3385</td>\n",
              "      <td>Cedar Rapids</td>\n",
              "      <td>LINN</td>\n",
              "      <td>American Dry Gins</td>\n",
              "      <td>PERNOD RICARD USA</td>\n",
              "      <td>Seagrams Extra Dry Gin</td>\n",
              "      <td>1.000</td>\n",
              "      <td>7.49</td>\n",
              "      <td>11.24</td>\n",
              "      <td>24</td>\n",
              "      <td>269.76</td>\n",
              "      <td>24.00</td>\n",
              "    </tr>\n",
              "    <tr>\n",
              "      <th>6884732</th>\n",
              "      <td>2018-09-04</td>\n",
              "      <td>2647</td>\n",
              "      <td>Cedar Rapids</td>\n",
              "      <td>LINN</td>\n",
              "      <td>American Dry Gins</td>\n",
              "      <td>PERNOD RICARD USA</td>\n",
              "      <td>Seagrams Extra Dry Gin</td>\n",
              "      <td>1.000</td>\n",
              "      <td>7.49</td>\n",
              "      <td>11.24</td>\n",
              "      <td>1</td>\n",
              "      <td>11.24</td>\n",
              "      <td>1.00</td>\n",
              "    </tr>\n",
              "    <tr>\n",
              "      <th>6884733</th>\n",
              "      <td>2018-04-23</td>\n",
              "      <td>2573</td>\n",
              "      <td>Muscatine</td>\n",
              "      <td>MUSCATINE</td>\n",
              "      <td>Straight Bourbon Whiskies</td>\n",
              "      <td>DIAGEO AMERICAS</td>\n",
              "      <td>Bulleit Bourbon</td>\n",
              "      <td>0.375</td>\n",
              "      <td>7.49</td>\n",
              "      <td>11.24</td>\n",
              "      <td>3</td>\n",
              "      <td>33.72</td>\n",
              "      <td>1.12</td>\n",
              "    </tr>\n",
              "    <tr>\n",
              "      <th>6884734</th>\n",
              "      <td>2018-11-20</td>\n",
              "      <td>2590</td>\n",
              "      <td>Cedar Rapids</td>\n",
              "      <td>LINN</td>\n",
              "      <td>Straight Bourbon Whiskies</td>\n",
              "      <td>DIAGEO AMERICAS</td>\n",
              "      <td>Bulleit Bourbon</td>\n",
              "      <td>0.375</td>\n",
              "      <td>7.49</td>\n",
              "      <td>11.24</td>\n",
              "      <td>2</td>\n",
              "      <td>22.48</td>\n",
              "      <td>0.75</td>\n",
              "    </tr>\n",
              "    <tr>\n",
              "      <th>6884735</th>\n",
              "      <td>2018-04-06</td>\n",
              "      <td>2626</td>\n",
              "      <td>Des Moines</td>\n",
              "      <td>POLK</td>\n",
              "      <td>Straight Bourbon Whiskies</td>\n",
              "      <td>DIAGEO AMERICAS</td>\n",
              "      <td>Bulleit Bourbon</td>\n",
              "      <td>0.375</td>\n",
              "      <td>7.49</td>\n",
              "      <td>11.24</td>\n",
              "      <td>4</td>\n",
              "      <td>44.96</td>\n",
              "      <td>1.50</td>\n",
              "    </tr>\n",
              "  </tbody>\n",
              "</table>\n",
              "<p>6884736 rows × 13 columns</p>\n",
              "</div>"
            ],
            "text/plain": [
              "               date store_number  ... sale_dollars volume_sold_liters\n",
              "0        2018-10-18         3420  ...      5199.36             768.00\n",
              "1        2019-12-05         2675  ...       607.50              13.50\n",
              "2        2018-03-08         3420  ...      6030.72             504.00\n",
              "3        2018-10-24         4201  ...        35.28               5.25\n",
              "4        2019-12-19         2548  ...       488.52              13.50\n",
              "...             ...          ...  ...          ...                ...\n",
              "6884731  2018-02-27         3385  ...       269.76              24.00\n",
              "6884732  2018-09-04         2647  ...        11.24               1.00\n",
              "6884733  2018-04-23         2573  ...        33.72               1.12\n",
              "6884734  2018-11-20         2590  ...        22.48               0.75\n",
              "6884735  2018-04-06         2626  ...        44.96               1.50\n",
              "\n",
              "[6884736 rows x 13 columns]"
            ]
          },
          "metadata": {
            "tags": []
          },
          "execution_count": 17
        }
      ]
    },
    {
      "cell_type": "markdown",
      "metadata": {
        "id": "un7a8LYAZK0v"
      },
      "source": [
        "Проверим в каких столбцах присутствуют пропущенные значения и в каком количестве"
      ]
    },
    {
      "cell_type": "code",
      "metadata": {
        "colab": {
          "base_uri": "https://localhost:8080/"
        },
        "id": "AKiMXRw7zQEi",
        "outputId": "09d4ad63-068a-462c-8695-a2a2775d8b81"
      },
      "source": [
        "print('Missing values for every column')\n",
        "print(df.isnull().sum())"
      ],
      "execution_count": 18,
      "outputs": [
        {
          "output_type": "stream",
          "text": [
            "Missing values for every column\n",
            "date                       0\n",
            "store_number               0\n",
            "city                    6592\n",
            "county                  6592\n",
            "category_name           5621\n",
            "vendor_name                3\n",
            "item_description           0\n",
            "bottle_volume_liters       0\n",
            "state_bottle_cost          0\n",
            "state_bottle_retail        0\n",
            "bottles_sold               0\n",
            "sale_dollars               0\n",
            "volume_sold_liters         0\n",
            "dtype: int64\n"
          ],
          "name": "stdout"
        }
      ]
    },
    {
      "cell_type": "markdown",
      "metadata": {
        "id": "zvCrUsXZZPNK"
      },
      "source": [
        "Так как пропущенные значения присутствуют в текстовых строках, то удалять их не будем из-за влияния на общие числовые показатели. Заменим пропущенные значения на значение No_name во всех столбцах"
      ]
    },
    {
      "cell_type": "code",
      "metadata": {
        "id": "d7cuvOpj2zdL"
      },
      "source": [
        "df.fillna('No_name', inplace=True)"
      ],
      "execution_count": 19,
      "outputs": []
    },
    {
      "cell_type": "markdown",
      "metadata": {
        "id": "LYXARUrjZoQI"
      },
      "source": [
        "Узнаем какие типы данных у каждого столбца, так как в дальнейшем нужно эффективно использовать ограниченую оперативную память и производить вычисления с использованием данных числовых столбцов"
      ]
    },
    {
      "cell_type": "code",
      "metadata": {
        "colab": {
          "base_uri": "https://localhost:8080/"
        },
        "id": "0bfdc9nGzymS",
        "outputId": "4c704a73-c257-4334-cf1d-6837ac12122f"
      },
      "source": [
        "df.dtypes"
      ],
      "execution_count": 20,
      "outputs": [
        {
          "output_type": "execute_result",
          "data": {
            "text/plain": [
              "date                     object\n",
              "store_number             object\n",
              "city                     object\n",
              "county                   object\n",
              "category_name            object\n",
              "vendor_name              object\n",
              "item_description         object\n",
              "bottle_volume_liters    float64\n",
              "state_bottle_cost       float64\n",
              "state_bottle_retail     float64\n",
              "bottles_sold              int64\n",
              "sale_dollars            float64\n",
              "volume_sold_liters      float64\n",
              "dtype: object"
            ]
          },
          "metadata": {
            "tags": []
          },
          "execution_count": 20
        }
      ]
    },
    {
      "cell_type": "markdown",
      "metadata": {
        "id": "o6Sp-GL_aGbu"
      },
      "source": [
        "Часть столбцов имеет общий тип - object, необходимо задать каждому столбцу его тип"
      ]
    },
    {
      "cell_type": "markdown",
      "metadata": {
        "id": "NRlUGp_PajCg"
      },
      "source": [
        "Столбец с датами переведем в тип дата-время, остальным задаем текстовый, целочисленный или дробный тип, в зависимости от данных в них содержащихся, которые видели на предпросмотре выше"
      ]
    },
    {
      "cell_type": "code",
      "metadata": {
        "id": "ECTviIxS7FfO"
      },
      "source": [
        "df['date'] = pd.to_datetime(df['date'])"
      ],
      "execution_count": 21,
      "outputs": []
    },
    {
      "cell_type": "code",
      "metadata": {
        "colab": {
          "base_uri": "https://localhost:8080/"
        },
        "id": "3AP_kYttz3q5",
        "outputId": "601aea34-fede-4905-9b5d-04f8d5ed787e"
      },
      "source": [
        "df.astype({'store_number': 'int32',\n",
        "           'city': 'string',\n",
        "           'county': 'string',\n",
        "           'category_name': 'string',\n",
        "           'vendor_name': 'string',\n",
        "           'item_description': 'string'\n",
        "           }).dtypes"
      ],
      "execution_count": 22,
      "outputs": [
        {
          "output_type": "execute_result",
          "data": {
            "text/plain": [
              "date                    datetime64[ns]\n",
              "store_number                     int32\n",
              "city                            string\n",
              "county                          string\n",
              "category_name                   string\n",
              "vendor_name                     string\n",
              "item_description                string\n",
              "bottle_volume_liters           float64\n",
              "state_bottle_cost              float64\n",
              "state_bottle_retail            float64\n",
              "bottles_sold                     int64\n",
              "sale_dollars                   float64\n",
              "volume_sold_liters             float64\n",
              "dtype: object"
            ]
          },
          "metadata": {
            "tags": []
          },
          "execution_count": 22
        }
      ]
    },
    {
      "cell_type": "markdown",
      "metadata": {
        "id": "2Ms5gDcpa_5v"
      },
      "source": [
        "Меня заинтересовали данные о количестве населения в каждом городе штата Айова, чтобы применить их для дополнительного анализа. Данные взяты с открытого источника. Импортирована таблица с сайта и представлена в виде датафрейма."
      ]
    },
    {
      "cell_type": "code",
      "metadata": {
        "colab": {
          "base_uri": "https://localhost:8080/",
          "height": 450
        },
        "id": "hApHk3KK-oYN",
        "outputId": "e9392753-fe5c-42e0-fd45-de477b87b19e"
      },
      "source": [
        "city_population=pd.read_html('https://worldpopulationreview.com/states/cities/iowa', index_col=0)[0]\n",
        "city_population = city_population.drop(['2010 Census','Change','Density (km²)'], axis=1)\n",
        "\n",
        "city_population.astype({'Name': 'string',\n",
        "                       '2020 Pop': 'float64'\n",
        "                       }).dtypes\n",
        "           \n",
        "city_population"
      ],
      "execution_count": 23,
      "outputs": [
        {
          "output_type": "execute_result",
          "data": {
            "text/html": [
              "<div>\n",
              "<style scoped>\n",
              "    .dataframe tbody tr th:only-of-type {\n",
              "        vertical-align: middle;\n",
              "    }\n",
              "\n",
              "    .dataframe tbody tr th {\n",
              "        vertical-align: top;\n",
              "    }\n",
              "\n",
              "    .dataframe thead th {\n",
              "        text-align: right;\n",
              "    }\n",
              "</style>\n",
              "<table border=\"1\" class=\"dataframe\">\n",
              "  <thead>\n",
              "    <tr style=\"text-align: right;\">\n",
              "      <th></th>\n",
              "      <th>Name</th>\n",
              "      <th>2020 Pop</th>\n",
              "    </tr>\n",
              "    <tr>\n",
              "      <th>Rank</th>\n",
              "      <th></th>\n",
              "      <th></th>\n",
              "    </tr>\n",
              "  </thead>\n",
              "  <tbody>\n",
              "    <tr>\n",
              "      <th>1</th>\n",
              "      <td>Des Moines</td>\n",
              "      <td>217891</td>\n",
              "    </tr>\n",
              "    <tr>\n",
              "      <th>2</th>\n",
              "      <td>Cedar Rapids</td>\n",
              "      <td>135502</td>\n",
              "    </tr>\n",
              "    <tr>\n",
              "      <th>3</th>\n",
              "      <td>Davenport</td>\n",
              "      <td>101965</td>\n",
              "    </tr>\n",
              "    <tr>\n",
              "      <th>4</th>\n",
              "      <td>Sioux City</td>\n",
              "      <td>81382</td>\n",
              "    </tr>\n",
              "    <tr>\n",
              "      <th>5</th>\n",
              "      <td>Iowa City</td>\n",
              "      <td>78440</td>\n",
              "    </tr>\n",
              "    <tr>\n",
              "      <th>...</th>\n",
              "      <td>...</td>\n",
              "      <td>...</td>\n",
              "    </tr>\n",
              "    <tr>\n",
              "      <th>496</th>\n",
              "      <td>Bussey</td>\n",
              "      <td>407</td>\n",
              "    </tr>\n",
              "    <tr>\n",
              "      <th>497</th>\n",
              "      <td>Earling</td>\n",
              "      <td>405</td>\n",
              "    </tr>\n",
              "    <tr>\n",
              "      <th>498</th>\n",
              "      <td>Cumming</td>\n",
              "      <td>405</td>\n",
              "    </tr>\n",
              "    <tr>\n",
              "      <th>499</th>\n",
              "      <td>New Vienna</td>\n",
              "      <td>404</td>\n",
              "    </tr>\n",
              "    <tr>\n",
              "      <th>500</th>\n",
              "      <td>Andrew</td>\n",
              "      <td>403</td>\n",
              "    </tr>\n",
              "  </tbody>\n",
              "</table>\n",
              "<p>500 rows × 2 columns</p>\n",
              "</div>"
            ],
            "text/plain": [
              "              Name  2020 Pop\n",
              "Rank                        \n",
              "1       Des Moines    217891\n",
              "2     Cedar Rapids    135502\n",
              "3        Davenport    101965\n",
              "4       Sioux City     81382\n",
              "5        Iowa City     78440\n",
              "...            ...       ...\n",
              "496         Bussey       407\n",
              "497        Earling       405\n",
              "498        Cumming       405\n",
              "499     New Vienna       404\n",
              "500         Andrew       403\n",
              "\n",
              "[500 rows x 2 columns]"
            ]
          },
          "metadata": {
            "tags": []
          },
          "execution_count": 23
        }
      ]
    },
    {
      "cell_type": "markdown",
      "metadata": {
        "id": "ClT6iVyubh0-"
      },
      "source": [
        "Добавим к существующему основному набору данных данные о популяции через левосторонее объединение"
      ]
    },
    {
      "cell_type": "code",
      "metadata": {
        "id": "_EbloZQW_gFO"
      },
      "source": [
        "df = pd.merge(df, city_population, left_on=['city'], right_on=['Name'], how=\"left\")"
      ],
      "execution_count": 24,
      "outputs": []
    },
    {
      "cell_type": "markdown",
      "metadata": {
        "id": "0y1Wt7MybtqQ"
      },
      "source": [
        "Проверим сколько пропущенных значений с величиной населения города"
      ]
    },
    {
      "cell_type": "code",
      "metadata": {
        "colab": {
          "base_uri": "https://localhost:8080/"
        },
        "id": "Y4mZTnU6AB0t",
        "outputId": "df09bb4e-b681-4057-99f4-16d99c6a5423"
      },
      "source": [
        "print('Part of missing values for every column')\n",
        "print(df.isnull().sum())"
      ],
      "execution_count": 25,
      "outputs": [
        {
          "output_type": "stream",
          "text": [
            "Part of missing values for every column\n",
            "date                        0\n",
            "store_number                0\n",
            "city                        0\n",
            "county                      0\n",
            "category_name               0\n",
            "vendor_name                 0\n",
            "item_description            0\n",
            "bottle_volume_liters        0\n",
            "state_bottle_cost           0\n",
            "state_bottle_retail         0\n",
            "bottles_sold                0\n",
            "sale_dollars                0\n",
            "volume_sold_liters          0\n",
            "Name                    88867\n",
            "2020 Pop                88867\n",
            "dtype: int64\n"
          ],
          "name": "stdout"
        }
      ]
    },
    {
      "cell_type": "markdown",
      "metadata": {
        "id": "I0UKdyGsb3ey"
      },
      "source": [
        "Посмотрим каким городам не нашлось соответсвие в исходном датасете"
      ]
    },
    {
      "cell_type": "code",
      "metadata": {
        "colab": {
          "base_uri": "https://localhost:8080/"
        },
        "id": "1GX8lCO5AhZ9",
        "outputId": "89e326ee-51c6-490a-9cf8-ee8cea15b888"
      },
      "source": [
        "df['city'][df.isnull().any(axis=1)].unique()"
      ],
      "execution_count": 27,
      "outputs": [
        {
          "output_type": "execute_result",
          "data": {
            "text/plain": [
              "array(['Leclaire', 'St Lucas', 'Delaware', 'ClearLake', 'No_name',\n",
              "       \"Arnold's Park\", 'Fort Atkinson', 'Tipton', 'Floyd', 'Mt Pleasant',\n",
              "       'Zwingle', 'Lemars', 'Jewell', 'Otumwa', 'Holy Cross', 'Amana',\n",
              "       'Wesley', 'St Ansgar', 'Baldwin', 'MUSCATINE', 'Bevington',\n",
              "       'Corwith', 'Lost Nation', 'Martelle', 'Harpers Ferry', 'Livermore',\n",
              "       'Arlington', 'Nichols', 'SAGEVILLE', 'LoneTree', 'St Charles',\n",
              "       'Templeton', 'Grand Mounds', 'Rudd', 'Saint Ansgar',\n",
              "       'Pleasant Valley', 'Middletown', 'Lohrville', 'Casey', 'Colesburg',\n",
              "       'Washta', 'Colorado Springs'], dtype=object)"
            ]
          },
          "metadata": {
            "tags": []
          },
          "execution_count": 27
        }
      ]
    },
    {
      "cell_type": "markdown",
      "metadata": {
        "id": "AFkcRM9hcDav"
      },
      "source": [
        "Просмотрел каждый город, сравнивая исходный и полученный датасет из веба, у части городов несовпали имена - выполним замену имени, у остальных количество населения менее 500 человек, потому население можно не заполнять так как их небольшое количество и учитывая размер населения - несущественное влияние на продажи алкоголя в штате "
      ]
    },
    {
      "cell_type": "code",
      "metadata": {
        "id": "B1UVKgd2GCkk"
      },
      "source": [
        "df.replace({'city' : {'St Ansgar' : 'St. Ansgar',\n",
        "                      'Saint Ansgar' : 'St. Ansgar',\n",
        "                      'Lemars' : 'Le Mars',\n",
        "                      'Grand Mounds' : 'Grand Mound',\n",
        "                      'MUSCATINE' : 'Muscatine',\n",
        "                      'ClearLake' : 'Clear Lake',\n",
        "                      'Mt Pleasant' : 'Mount Pleasant',\n",
        "                      'Fort Atkinson' : 'Atkins',\n",
        "                      \"Arnold's Park\" : 'Arnolds Park',\n",
        "                      'Jewell' : 'Jewell Junction',\n",
        "                      'LoneTree' : 'Lone Tree',\n",
        "                      'St Charles' : 'St. Charles'\n",
        "                      }}, inplace=True)"
      ],
      "execution_count": 28,
      "outputs": []
    },
    {
      "cell_type": "markdown",
      "metadata": {
        "id": "2k2-yJPIc4GK"
      },
      "source": [
        "Удалим столбцы ранее присоединенные. Если ресурсы ограничены, то естественно данный фрейм можно не присоединять к исходному, а все сравнения и объединения выполнять непосредстивенно перед построением аналитики на небольших наборах"
      ]
    },
    {
      "cell_type": "code",
      "metadata": {
        "id": "DpqlD8sNHHIV"
      },
      "source": [
        "df = df.drop([\"Name\", \"2020 Pop\"], axis=1)"
      ],
      "execution_count": 29,
      "outputs": []
    },
    {
      "cell_type": "markdown",
      "metadata": {
        "id": "JibmYx7VdVse"
      },
      "source": [
        "Переименуем столбцы"
      ]
    },
    {
      "cell_type": "code",
      "metadata": {
        "colab": {
          "base_uri": "https://localhost:8080/",
          "height": 419
        },
        "id": "oNZnmahNHgjq",
        "outputId": "b69c684b-f2b5-478f-95a5-79118d4e5ec1"
      },
      "source": [
        "city_population.rename(columns={\"Name\": \"city\", \"2020 Pop\": \"city_population\"}, inplace=True)\n",
        "city_population.reset_index()"
      ],
      "execution_count": 30,
      "outputs": [
        {
          "output_type": "execute_result",
          "data": {
            "text/html": [
              "<div>\n",
              "<style scoped>\n",
              "    .dataframe tbody tr th:only-of-type {\n",
              "        vertical-align: middle;\n",
              "    }\n",
              "\n",
              "    .dataframe tbody tr th {\n",
              "        vertical-align: top;\n",
              "    }\n",
              "\n",
              "    .dataframe thead th {\n",
              "        text-align: right;\n",
              "    }\n",
              "</style>\n",
              "<table border=\"1\" class=\"dataframe\">\n",
              "  <thead>\n",
              "    <tr style=\"text-align: right;\">\n",
              "      <th></th>\n",
              "      <th>Rank</th>\n",
              "      <th>city</th>\n",
              "      <th>city_population</th>\n",
              "    </tr>\n",
              "  </thead>\n",
              "  <tbody>\n",
              "    <tr>\n",
              "      <th>0</th>\n",
              "      <td>1</td>\n",
              "      <td>Des Moines</td>\n",
              "      <td>217891</td>\n",
              "    </tr>\n",
              "    <tr>\n",
              "      <th>1</th>\n",
              "      <td>2</td>\n",
              "      <td>Cedar Rapids</td>\n",
              "      <td>135502</td>\n",
              "    </tr>\n",
              "    <tr>\n",
              "      <th>2</th>\n",
              "      <td>3</td>\n",
              "      <td>Davenport</td>\n",
              "      <td>101965</td>\n",
              "    </tr>\n",
              "    <tr>\n",
              "      <th>3</th>\n",
              "      <td>4</td>\n",
              "      <td>Sioux City</td>\n",
              "      <td>81382</td>\n",
              "    </tr>\n",
              "    <tr>\n",
              "      <th>4</th>\n",
              "      <td>5</td>\n",
              "      <td>Iowa City</td>\n",
              "      <td>78440</td>\n",
              "    </tr>\n",
              "    <tr>\n",
              "      <th>...</th>\n",
              "      <td>...</td>\n",
              "      <td>...</td>\n",
              "      <td>...</td>\n",
              "    </tr>\n",
              "    <tr>\n",
              "      <th>495</th>\n",
              "      <td>496</td>\n",
              "      <td>Bussey</td>\n",
              "      <td>407</td>\n",
              "    </tr>\n",
              "    <tr>\n",
              "      <th>496</th>\n",
              "      <td>497</td>\n",
              "      <td>Earling</td>\n",
              "      <td>405</td>\n",
              "    </tr>\n",
              "    <tr>\n",
              "      <th>497</th>\n",
              "      <td>498</td>\n",
              "      <td>Cumming</td>\n",
              "      <td>405</td>\n",
              "    </tr>\n",
              "    <tr>\n",
              "      <th>498</th>\n",
              "      <td>499</td>\n",
              "      <td>New Vienna</td>\n",
              "      <td>404</td>\n",
              "    </tr>\n",
              "    <tr>\n",
              "      <th>499</th>\n",
              "      <td>500</td>\n",
              "      <td>Andrew</td>\n",
              "      <td>403</td>\n",
              "    </tr>\n",
              "  </tbody>\n",
              "</table>\n",
              "<p>500 rows × 3 columns</p>\n",
              "</div>"
            ],
            "text/plain": [
              "     Rank          city  city_population\n",
              "0       1    Des Moines           217891\n",
              "1       2  Cedar Rapids           135502\n",
              "2       3     Davenport           101965\n",
              "3       4    Sioux City            81382\n",
              "4       5     Iowa City            78440\n",
              "..    ...           ...              ...\n",
              "495   496        Bussey              407\n",
              "496   497       Earling              405\n",
              "497   498       Cumming              405\n",
              "498   499    New Vienna              404\n",
              "499   500        Andrew              403\n",
              "\n",
              "[500 rows x 3 columns]"
            ]
          },
          "metadata": {
            "tags": []
          },
          "execution_count": 30
        }
      ]
    },
    {
      "cell_type": "code",
      "metadata": {
        "colab": {
          "base_uri": "https://localhost:8080/",
          "height": 728
        },
        "id": "lt9NL2EdIXlE",
        "outputId": "5f35a302-0aaf-404e-f8e1-1e3ddf629f51"
      },
      "source": [
        "df = pd.merge(df, city_population, on=['city'], how=\"left\")\n",
        "df"
      ],
      "execution_count": 31,
      "outputs": [
        {
          "output_type": "execute_result",
          "data": {
            "text/html": [
              "<div>\n",
              "<style scoped>\n",
              "    .dataframe tbody tr th:only-of-type {\n",
              "        vertical-align: middle;\n",
              "    }\n",
              "\n",
              "    .dataframe tbody tr th {\n",
              "        vertical-align: top;\n",
              "    }\n",
              "\n",
              "    .dataframe thead th {\n",
              "        text-align: right;\n",
              "    }\n",
              "</style>\n",
              "<table border=\"1\" class=\"dataframe\">\n",
              "  <thead>\n",
              "    <tr style=\"text-align: right;\">\n",
              "      <th></th>\n",
              "      <th>date</th>\n",
              "      <th>store_number</th>\n",
              "      <th>city</th>\n",
              "      <th>county</th>\n",
              "      <th>category_name</th>\n",
              "      <th>vendor_name</th>\n",
              "      <th>item_description</th>\n",
              "      <th>bottle_volume_liters</th>\n",
              "      <th>state_bottle_cost</th>\n",
              "      <th>state_bottle_retail</th>\n",
              "      <th>bottles_sold</th>\n",
              "      <th>sale_dollars</th>\n",
              "      <th>volume_sold_liters</th>\n",
              "      <th>city_population</th>\n",
              "    </tr>\n",
              "  </thead>\n",
              "  <tbody>\n",
              "    <tr>\n",
              "      <th>0</th>\n",
              "      <td>2018-10-18</td>\n",
              "      <td>3420</td>\n",
              "      <td>Windsor Heights</td>\n",
              "      <td>Polk</td>\n",
              "      <td>Imported Distilled Spirit Specialty</td>\n",
              "      <td>SAZERAC COMPANY  INC</td>\n",
              "      <td>Tortilla Gold Dss</td>\n",
              "      <td>1.000</td>\n",
              "      <td>4.85</td>\n",
              "      <td>7.28</td>\n",
              "      <td>768</td>\n",
              "      <td>5199.36</td>\n",
              "      <td>768.00</td>\n",
              "      <td>4774.0</td>\n",
              "    </tr>\n",
              "    <tr>\n",
              "      <th>1</th>\n",
              "      <td>2019-12-05</td>\n",
              "      <td>2675</td>\n",
              "      <td>Coralville</td>\n",
              "      <td>JOHNSON</td>\n",
              "      <td>Aged Dark Rum</td>\n",
              "      <td>DIAGEO AMERICAS</td>\n",
              "      <td>Ron Zacapa 23YR</td>\n",
              "      <td>0.750</td>\n",
              "      <td>22.50</td>\n",
              "      <td>33.75</td>\n",
              "      <td>18</td>\n",
              "      <td>607.50</td>\n",
              "      <td>13.50</td>\n",
              "      <td>23106.0</td>\n",
              "    </tr>\n",
              "    <tr>\n",
              "      <th>2</th>\n",
              "      <td>2018-03-08</td>\n",
              "      <td>3420</td>\n",
              "      <td>Windsor Heights</td>\n",
              "      <td>Polk</td>\n",
              "      <td>No_name</td>\n",
              "      <td>SAZERAC COMPANY  INC</td>\n",
              "      <td>Members Mark Silver Tequila</td>\n",
              "      <td>1.750</td>\n",
              "      <td>13.96</td>\n",
              "      <td>20.94</td>\n",
              "      <td>288</td>\n",
              "      <td>6030.72</td>\n",
              "      <td>504.00</td>\n",
              "      <td>4774.0</td>\n",
              "    </tr>\n",
              "    <tr>\n",
              "      <th>3</th>\n",
              "      <td>2018-10-24</td>\n",
              "      <td>4201</td>\n",
              "      <td>Sioux City</td>\n",
              "      <td>WOODBURY</td>\n",
              "      <td>Gold Rum</td>\n",
              "      <td>LUXCO INC</td>\n",
              "      <td>Paramount Gold Rum</td>\n",
              "      <td>1.750</td>\n",
              "      <td>7.84</td>\n",
              "      <td>11.76</td>\n",
              "      <td>3</td>\n",
              "      <td>35.28</td>\n",
              "      <td>5.25</td>\n",
              "      <td>81382.0</td>\n",
              "    </tr>\n",
              "    <tr>\n",
              "      <th>4</th>\n",
              "      <td>2019-12-19</td>\n",
              "      <td>2548</td>\n",
              "      <td>Altoona</td>\n",
              "      <td>POLK</td>\n",
              "      <td>Straight Rye Whiskies</td>\n",
              "      <td>Infinium Spirits</td>\n",
              "      <td>Templeton 4YR Rye</td>\n",
              "      <td>0.750</td>\n",
              "      <td>18.09</td>\n",
              "      <td>27.14</td>\n",
              "      <td>18</td>\n",
              "      <td>488.52</td>\n",
              "      <td>13.50</td>\n",
              "      <td>20048.0</td>\n",
              "    </tr>\n",
              "    <tr>\n",
              "      <th>...</th>\n",
              "      <td>...</td>\n",
              "      <td>...</td>\n",
              "      <td>...</td>\n",
              "      <td>...</td>\n",
              "      <td>...</td>\n",
              "      <td>...</td>\n",
              "      <td>...</td>\n",
              "      <td>...</td>\n",
              "      <td>...</td>\n",
              "      <td>...</td>\n",
              "      <td>...</td>\n",
              "      <td>...</td>\n",
              "      <td>...</td>\n",
              "      <td>...</td>\n",
              "    </tr>\n",
              "    <tr>\n",
              "      <th>6884731</th>\n",
              "      <td>2018-02-27</td>\n",
              "      <td>3385</td>\n",
              "      <td>Cedar Rapids</td>\n",
              "      <td>LINN</td>\n",
              "      <td>American Dry Gins</td>\n",
              "      <td>PERNOD RICARD USA</td>\n",
              "      <td>Seagrams Extra Dry Gin</td>\n",
              "      <td>1.000</td>\n",
              "      <td>7.49</td>\n",
              "      <td>11.24</td>\n",
              "      <td>24</td>\n",
              "      <td>269.76</td>\n",
              "      <td>24.00</td>\n",
              "      <td>135502.0</td>\n",
              "    </tr>\n",
              "    <tr>\n",
              "      <th>6884732</th>\n",
              "      <td>2018-09-04</td>\n",
              "      <td>2647</td>\n",
              "      <td>Cedar Rapids</td>\n",
              "      <td>LINN</td>\n",
              "      <td>American Dry Gins</td>\n",
              "      <td>PERNOD RICARD USA</td>\n",
              "      <td>Seagrams Extra Dry Gin</td>\n",
              "      <td>1.000</td>\n",
              "      <td>7.49</td>\n",
              "      <td>11.24</td>\n",
              "      <td>1</td>\n",
              "      <td>11.24</td>\n",
              "      <td>1.00</td>\n",
              "      <td>135502.0</td>\n",
              "    </tr>\n",
              "    <tr>\n",
              "      <th>6884733</th>\n",
              "      <td>2018-04-23</td>\n",
              "      <td>2573</td>\n",
              "      <td>Muscatine</td>\n",
              "      <td>MUSCATINE</td>\n",
              "      <td>Straight Bourbon Whiskies</td>\n",
              "      <td>DIAGEO AMERICAS</td>\n",
              "      <td>Bulleit Bourbon</td>\n",
              "      <td>0.375</td>\n",
              "      <td>7.49</td>\n",
              "      <td>11.24</td>\n",
              "      <td>3</td>\n",
              "      <td>33.72</td>\n",
              "      <td>1.12</td>\n",
              "      <td>23627.0</td>\n",
              "    </tr>\n",
              "    <tr>\n",
              "      <th>6884734</th>\n",
              "      <td>2018-11-20</td>\n",
              "      <td>2590</td>\n",
              "      <td>Cedar Rapids</td>\n",
              "      <td>LINN</td>\n",
              "      <td>Straight Bourbon Whiskies</td>\n",
              "      <td>DIAGEO AMERICAS</td>\n",
              "      <td>Bulleit Bourbon</td>\n",
              "      <td>0.375</td>\n",
              "      <td>7.49</td>\n",
              "      <td>11.24</td>\n",
              "      <td>2</td>\n",
              "      <td>22.48</td>\n",
              "      <td>0.75</td>\n",
              "      <td>135502.0</td>\n",
              "    </tr>\n",
              "    <tr>\n",
              "      <th>6884735</th>\n",
              "      <td>2018-04-06</td>\n",
              "      <td>2626</td>\n",
              "      <td>Des Moines</td>\n",
              "      <td>POLK</td>\n",
              "      <td>Straight Bourbon Whiskies</td>\n",
              "      <td>DIAGEO AMERICAS</td>\n",
              "      <td>Bulleit Bourbon</td>\n",
              "      <td>0.375</td>\n",
              "      <td>7.49</td>\n",
              "      <td>11.24</td>\n",
              "      <td>4</td>\n",
              "      <td>44.96</td>\n",
              "      <td>1.50</td>\n",
              "      <td>217891.0</td>\n",
              "    </tr>\n",
              "  </tbody>\n",
              "</table>\n",
              "<p>6884736 rows × 14 columns</p>\n",
              "</div>"
            ],
            "text/plain": [
              "              date store_number  ... volume_sold_liters city_population\n",
              "0       2018-10-18         3420  ...             768.00          4774.0\n",
              "1       2019-12-05         2675  ...              13.50         23106.0\n",
              "2       2018-03-08         3420  ...             504.00          4774.0\n",
              "3       2018-10-24         4201  ...               5.25         81382.0\n",
              "4       2019-12-19         2548  ...              13.50         20048.0\n",
              "...            ...          ...  ...                ...             ...\n",
              "6884731 2018-02-27         3385  ...              24.00        135502.0\n",
              "6884732 2018-09-04         2647  ...               1.00        135502.0\n",
              "6884733 2018-04-23         2573  ...               1.12         23627.0\n",
              "6884734 2018-11-20         2590  ...               0.75        135502.0\n",
              "6884735 2018-04-06         2626  ...               1.50        217891.0\n",
              "\n",
              "[6884736 rows x 14 columns]"
            ]
          },
          "metadata": {
            "tags": []
          },
          "execution_count": 31
        }
      ]
    },
    {
      "cell_type": "code",
      "metadata": {
        "colab": {
          "base_uri": "https://localhost:8080/"
        },
        "id": "6Ek-F2HpIpc_",
        "outputId": "a655d633-4e99-477c-f43c-de40f33cdb24"
      },
      "source": [
        "df['city'][df.isnull().any(axis=1)].unique()"
      ],
      "execution_count": 32,
      "outputs": [
        {
          "output_type": "execute_result",
          "data": {
            "text/plain": [
              "array(['Leclaire', 'St Lucas', 'Delaware', 'No_name', 'Tipton', 'Floyd',\n",
              "       'Zwingle', 'Otumwa', 'Holy Cross', 'Amana', 'Wesley', 'Baldwin',\n",
              "       'Bevington', 'Corwith', 'Lost Nation', 'Martelle', 'Harpers Ferry',\n",
              "       'Livermore', 'Arlington', 'Nichols', 'SAGEVILLE', 'Templeton',\n",
              "       'Rudd', 'Pleasant Valley', 'Middletown', 'Lohrville', 'Casey',\n",
              "       'Colesburg', 'Washta', 'Colorado Springs'], dtype=object)"
            ]
          },
          "metadata": {
            "tags": []
          },
          "execution_count": 32
        }
      ]
    },
    {
      "cell_type": "markdown",
      "metadata": {
        "id": "gXcP2XqEgesL"
      },
      "source": [
        "Заменим количество населения в мелких населенных пунктах на 200, чтобы не было пустых значений в датасете"
      ]
    },
    {
      "cell_type": "code",
      "metadata": {
        "colab": {
          "base_uri": "https://localhost:8080/"
        },
        "id": "54QV-GuIIp8s",
        "outputId": "c7bc9aa0-38f8-4a91-944f-c1cfb813d368"
      },
      "source": [
        "df['city_population'].fillna(200, inplace=True) \n",
        "print('Missig values for every column')\n",
        "print(df.isnull().sum())"
      ],
      "execution_count": 33,
      "outputs": [
        {
          "output_type": "stream",
          "text": [
            "Missig values for every column\n",
            "date                    0\n",
            "store_number            0\n",
            "city                    0\n",
            "county                  0\n",
            "category_name           0\n",
            "vendor_name             0\n",
            "item_description        0\n",
            "bottle_volume_liters    0\n",
            "state_bottle_cost       0\n",
            "state_bottle_retail     0\n",
            "bottles_sold            0\n",
            "sale_dollars            0\n",
            "volume_sold_liters      0\n",
            "city_population         0\n",
            "dtype: int64\n"
          ],
          "name": "stdout"
        }
      ]
    },
    {
      "cell_type": "code",
      "metadata": {
        "colab": {
          "base_uri": "https://localhost:8080/"
        },
        "id": "s0NTw1tihzhs",
        "outputId": "a3195af6-3711-4de3-e497-2c52569e8ad3"
      },
      "source": [
        "!pip install chart_studio\n"
      ],
      "execution_count": 34,
      "outputs": [
        {
          "output_type": "stream",
          "text": [
            "Collecting chart_studio\n",
            "\u001b[?25l  Downloading https://files.pythonhosted.org/packages/ca/ce/330794a6b6ca4b9182c38fc69dd2a9cbff60fd49421cb8648ee5fee352dc/chart_studio-1.1.0-py3-none-any.whl (64kB)\n",
            "\r\u001b[K     |█████                           | 10kB 22.6MB/s eta 0:00:01\r\u001b[K     |██████████▏                     | 20kB 29.6MB/s eta 0:00:01\r\u001b[K     |███████████████▎                | 30kB 20.5MB/s eta 0:00:01\r\u001b[K     |████████████████████▍           | 40kB 17.9MB/s eta 0:00:01\r\u001b[K     |█████████████████████████▍      | 51kB 13.5MB/s eta 0:00:01\r\u001b[K     |██████████████████████████████▌ | 61kB 14.3MB/s eta 0:00:01\r\u001b[K     |████████████████████████████████| 71kB 6.1MB/s \n",
            "\u001b[?25hRequirement already satisfied: retrying>=1.3.3 in /usr/local/lib/python3.6/dist-packages (from chart_studio) (1.3.3)\n",
            "Requirement already satisfied: requests in /usr/local/lib/python3.6/dist-packages (from chart_studio) (2.23.0)\n",
            "Requirement already satisfied: six in /usr/local/lib/python3.6/dist-packages (from chart_studio) (1.15.0)\n",
            "Requirement already satisfied: plotly in /usr/local/lib/python3.6/dist-packages (from chart_studio) (4.4.1)\n",
            "Requirement already satisfied: chardet<4,>=3.0.2 in /usr/local/lib/python3.6/dist-packages (from requests->chart_studio) (3.0.4)\n",
            "Requirement already satisfied: urllib3!=1.25.0,!=1.25.1,<1.26,>=1.21.1 in /usr/local/lib/python3.6/dist-packages (from requests->chart_studio) (1.24.3)\n",
            "Requirement already satisfied: idna<3,>=2.5 in /usr/local/lib/python3.6/dist-packages (from requests->chart_studio) (2.10)\n",
            "Requirement already satisfied: certifi>=2017.4.17 in /usr/local/lib/python3.6/dist-packages (from requests->chart_studio) (2020.11.8)\n",
            "Installing collected packages: chart-studio\n",
            "Successfully installed chart-studio-1.1.0\n"
          ],
          "name": "stdout"
        }
      ]
    },
    {
      "cell_type": "markdown",
      "metadata": {
        "id": "xRIklDwyfapu"
      },
      "source": [
        "Вызовем необходимые библиотеки для отображения графиков.\n",
        "Для plotly.io, где нужно указать среду выполнения colab"
      ]
    },
    {
      "cell_type": "code",
      "metadata": {
        "id": "s8wCpLo5iP2-"
      },
      "source": [
        "from chart_studio.plotly import iplot\n",
        "from plotly import graph_objs as go\n",
        "from plotly.subplots import make_subplots\n",
        "#import plotly.graph_objects as go\n",
        "import plotly.io as pio\n",
        "pio.renderers.default = 'colab'"
      ],
      "execution_count": 35,
      "outputs": []
    },
    {
      "cell_type": "code",
      "metadata": {
        "id": "N83HJqnxuUVY"
      },
      "source": [
        "import warnings\n",
        "import matplotlib.pyplot as plt\n",
        "%matplotlib inline\n",
        "import seaborn as sns\n",
        "sns.set(style=\"white\", palette=\"muted\", color_codes=True)"
      ],
      "execution_count": 36,
      "outputs": []
    },
    {
      "cell_type": "markdown",
      "metadata": {
        "id": "YFMzlmVBYI3D"
      },
      "source": [
        "Вычислим среднее потребление алкоголя в литрах на 1 жителя в среднем за месяц в 2020 году по населенным пунктам свыше 2000 жителей и отобразим топ-10 городов по наибольшему потреблению"
      ]
    },
    {
      "cell_type": "code",
      "metadata": {
        "colab": {
          "base_uri": "https://localhost:8080/",
          "height": 487
        },
        "id": "hefQjoFcYesr",
        "outputId": "7ea32b94-ceae-4a11-bdaa-235570a06cc5"
      },
      "source": [
        "population_cons = df[df.date.dt.year==2020][['city','city_population', 'volume_sold_liters']].groupby(['city','city_population']).agg({'volume_sold_liters' : 'sum'})\n",
        "population_cons.columns = ['sum_volume_sold_liters']\n",
        "population_cons=population_cons.sort_values(['sum_volume_sold_liters'], ascending=False).reset_index()\n",
        "population_cons['avg_litres_person']=(population_cons['sum_volume_sold_liters']/population_cons['city_population'])/10\n",
        "population_cons = population_cons[population_cons['city_population']>=5000]\n",
        "population_cons=population_cons.sort_values(['avg_litres_person'], ascending=False)\n",
        "avg_litres_person=population_cons[['city','avg_litres_person']].head(10)\n",
        "population_cons=population_cons.sort_values(['city_population'], ascending=False)\n",
        "top_city=population_cons[['city', 'city_population', 'avg_litres_person']].head(10)\n",
        "\n",
        "fig = make_subplots(rows=1, cols=1, shared_xaxes=True,\n",
        "                    shared_yaxes=False, vertical_spacing=0.001)\n",
        "\n",
        "trace_b=go.Bar(\n",
        "    x=avg_litres_person.avg_litres_person,\n",
        "    y=avg_litres_person.city,\n",
        "    marker=dict(\n",
        "                color='rgba(50, 171, 96, 0.6)',\n",
        "                line=dict(\n",
        "                color='rgba(50, 171, 96, 1.0)',\n",
        "                width=1),\n",
        "               ),\n",
        "              name='avg_litres_person',\n",
        "              orientation='h',\n",
        ")\n",
        "layout = go.Layout(autosize=True, title= 'Average sales by person in liters', showlegend=True, width=1200, height=470)\n",
        "fig = go.Figure(data=trace_b, layout=layout)\n",
        "fig.show()"
      ],
      "execution_count": 37,
      "outputs": [
        {
          "output_type": "display_data",
          "data": {
            "text/html": [
              "<html>\n",
              "<head><meta charset=\"utf-8\" /></head>\n",
              "<body>\n",
              "    <div>\n",
              "            <script src=\"https://cdnjs.cloudflare.com/ajax/libs/mathjax/2.7.5/MathJax.js?config=TeX-AMS-MML_SVG\"></script><script type=\"text/javascript\">if (window.MathJax) {MathJax.Hub.Config({SVG: {font: \"STIX-Web\"}});}</script>\n",
              "                <script type=\"text/javascript\">window.PlotlyConfig = {MathJaxConfig: 'local'};</script>\n",
              "        <script src=\"https://cdn.plot.ly/plotly-latest.min.js\"></script>    \n",
              "            <div id=\"bda5fe0b-7def-4ee5-b951-b783a852cd1d\" class=\"plotly-graph-div\" style=\"height:470px; width:1200px;\"></div>\n",
              "            <script type=\"text/javascript\">\n",
              "                \n",
              "                    window.PLOTLYENV=window.PLOTLYENV || {};\n",
              "                    \n",
              "                if (document.getElementById(\"bda5fe0b-7def-4ee5-b951-b783a852cd1d\")) {\n",
              "                    Plotly.newPlot(\n",
              "                        'bda5fe0b-7def-4ee5-b951-b783a852cd1d',\n",
              "                        [{\"marker\": {\"color\": \"rgba(50, 171, 96, 0.6)\", \"line\": {\"color\": \"rgba(50, 171, 96, 1.0)\", \"width\": 1}}, \"name\": \"avg_litres_person\", \"orientation\": \"h\", \"type\": \"bar\", \"x\": [2.9636791443850288, 1.8951431229982583, 1.7140850187266043, 1.4946389183457156, 1.429564727570668, 1.2879386503067636, 1.2822255704581182, 1.2520136231440433, 1.2462963972736163, 1.2455328793774518], \"y\": [\"Spirit Lake\", \"Coralville\", \"Algona\", \"Clear Lake\", \"Carroll\", \"Washington\", \"Anamosa\", \"Atlantic\", \"DeWitt\", \"Sheldon\"]}],\n",
              "                        {\"autosize\": true, \"height\": 470, \"showlegend\": true, \"template\": {\"data\": {\"bar\": [{\"error_x\": {\"color\": \"#2a3f5f\"}, \"error_y\": {\"color\": \"#2a3f5f\"}, \"marker\": {\"line\": {\"color\": \"#E5ECF6\", \"width\": 0.5}}, \"type\": \"bar\"}], \"barpolar\": [{\"marker\": {\"line\": {\"color\": \"#E5ECF6\", \"width\": 0.5}}, \"type\": \"barpolar\"}], \"carpet\": [{\"aaxis\": {\"endlinecolor\": \"#2a3f5f\", \"gridcolor\": \"white\", \"linecolor\": \"white\", \"minorgridcolor\": \"white\", \"startlinecolor\": \"#2a3f5f\"}, \"baxis\": {\"endlinecolor\": \"#2a3f5f\", \"gridcolor\": \"white\", \"linecolor\": \"white\", \"minorgridcolor\": \"white\", \"startlinecolor\": \"#2a3f5f\"}, \"type\": \"carpet\"}], \"choropleth\": [{\"colorbar\": {\"outlinewidth\": 0, \"ticks\": \"\"}, \"type\": \"choropleth\"}], \"contour\": [{\"colorbar\": {\"outlinewidth\": 0, \"ticks\": \"\"}, \"colorscale\": [[0.0, \"#0d0887\"], [0.1111111111111111, \"#46039f\"], [0.2222222222222222, \"#7201a8\"], [0.3333333333333333, \"#9c179e\"], [0.4444444444444444, \"#bd3786\"], [0.5555555555555556, \"#d8576b\"], [0.6666666666666666, \"#ed7953\"], [0.7777777777777778, \"#fb9f3a\"], [0.8888888888888888, \"#fdca26\"], [1.0, \"#f0f921\"]], \"type\": \"contour\"}], \"contourcarpet\": [{\"colorbar\": {\"outlinewidth\": 0, \"ticks\": \"\"}, \"type\": \"contourcarpet\"}], \"heatmap\": [{\"colorbar\": {\"outlinewidth\": 0, \"ticks\": \"\"}, \"colorscale\": [[0.0, \"#0d0887\"], [0.1111111111111111, \"#46039f\"], [0.2222222222222222, \"#7201a8\"], [0.3333333333333333, \"#9c179e\"], [0.4444444444444444, \"#bd3786\"], [0.5555555555555556, \"#d8576b\"], [0.6666666666666666, \"#ed7953\"], [0.7777777777777778, \"#fb9f3a\"], [0.8888888888888888, \"#fdca26\"], [1.0, \"#f0f921\"]], \"type\": \"heatmap\"}], \"heatmapgl\": [{\"colorbar\": {\"outlinewidth\": 0, \"ticks\": \"\"}, \"colorscale\": [[0.0, \"#0d0887\"], [0.1111111111111111, \"#46039f\"], [0.2222222222222222, \"#7201a8\"], [0.3333333333333333, \"#9c179e\"], [0.4444444444444444, \"#bd3786\"], [0.5555555555555556, \"#d8576b\"], [0.6666666666666666, \"#ed7953\"], [0.7777777777777778, \"#fb9f3a\"], [0.8888888888888888, \"#fdca26\"], [1.0, \"#f0f921\"]], \"type\": \"heatmapgl\"}], \"histogram\": [{\"marker\": {\"colorbar\": {\"outlinewidth\": 0, \"ticks\": \"\"}}, \"type\": \"histogram\"}], \"histogram2d\": [{\"colorbar\": {\"outlinewidth\": 0, \"ticks\": \"\"}, \"colorscale\": [[0.0, \"#0d0887\"], [0.1111111111111111, \"#46039f\"], [0.2222222222222222, \"#7201a8\"], [0.3333333333333333, \"#9c179e\"], [0.4444444444444444, \"#bd3786\"], [0.5555555555555556, \"#d8576b\"], [0.6666666666666666, \"#ed7953\"], [0.7777777777777778, \"#fb9f3a\"], [0.8888888888888888, \"#fdca26\"], [1.0, \"#f0f921\"]], \"type\": \"histogram2d\"}], \"histogram2dcontour\": [{\"colorbar\": {\"outlinewidth\": 0, \"ticks\": \"\"}, \"colorscale\": [[0.0, \"#0d0887\"], [0.1111111111111111, \"#46039f\"], [0.2222222222222222, \"#7201a8\"], [0.3333333333333333, \"#9c179e\"], [0.4444444444444444, \"#bd3786\"], [0.5555555555555556, \"#d8576b\"], [0.6666666666666666, \"#ed7953\"], [0.7777777777777778, \"#fb9f3a\"], [0.8888888888888888, \"#fdca26\"], [1.0, \"#f0f921\"]], \"type\": \"histogram2dcontour\"}], \"mesh3d\": [{\"colorbar\": {\"outlinewidth\": 0, \"ticks\": \"\"}, \"type\": \"mesh3d\"}], \"parcoords\": [{\"line\": {\"colorbar\": {\"outlinewidth\": 0, \"ticks\": \"\"}}, \"type\": \"parcoords\"}], \"pie\": [{\"automargin\": true, \"type\": \"pie\"}], \"scatter\": [{\"marker\": {\"colorbar\": {\"outlinewidth\": 0, \"ticks\": \"\"}}, \"type\": \"scatter\"}], \"scatter3d\": [{\"line\": {\"colorbar\": {\"outlinewidth\": 0, \"ticks\": \"\"}}, \"marker\": {\"colorbar\": {\"outlinewidth\": 0, \"ticks\": \"\"}}, \"type\": \"scatter3d\"}], \"scattercarpet\": [{\"marker\": {\"colorbar\": {\"outlinewidth\": 0, \"ticks\": \"\"}}, \"type\": \"scattercarpet\"}], \"scattergeo\": [{\"marker\": {\"colorbar\": {\"outlinewidth\": 0, \"ticks\": \"\"}}, \"type\": \"scattergeo\"}], \"scattergl\": [{\"marker\": {\"colorbar\": {\"outlinewidth\": 0, \"ticks\": \"\"}}, \"type\": \"scattergl\"}], \"scattermapbox\": [{\"marker\": {\"colorbar\": {\"outlinewidth\": 0, \"ticks\": \"\"}}, \"type\": \"scattermapbox\"}], \"scatterpolar\": [{\"marker\": {\"colorbar\": {\"outlinewidth\": 0, \"ticks\": \"\"}}, \"type\": \"scatterpolar\"}], \"scatterpolargl\": [{\"marker\": {\"colorbar\": {\"outlinewidth\": 0, \"ticks\": \"\"}}, \"type\": \"scatterpolargl\"}], \"scatterternary\": [{\"marker\": {\"colorbar\": {\"outlinewidth\": 0, \"ticks\": \"\"}}, \"type\": \"scatterternary\"}], \"surface\": [{\"colorbar\": {\"outlinewidth\": 0, \"ticks\": \"\"}, \"colorscale\": [[0.0, \"#0d0887\"], [0.1111111111111111, \"#46039f\"], [0.2222222222222222, \"#7201a8\"], [0.3333333333333333, \"#9c179e\"], [0.4444444444444444, \"#bd3786\"], [0.5555555555555556, \"#d8576b\"], [0.6666666666666666, \"#ed7953\"], [0.7777777777777778, \"#fb9f3a\"], [0.8888888888888888, \"#fdca26\"], [1.0, \"#f0f921\"]], \"type\": \"surface\"}], \"table\": [{\"cells\": {\"fill\": {\"color\": \"#EBF0F8\"}, \"line\": {\"color\": \"white\"}}, \"header\": {\"fill\": {\"color\": \"#C8D4E3\"}, \"line\": {\"color\": \"white\"}}, \"type\": \"table\"}]}, \"layout\": {\"annotationdefaults\": {\"arrowcolor\": \"#2a3f5f\", \"arrowhead\": 0, \"arrowwidth\": 1}, \"coloraxis\": {\"colorbar\": {\"outlinewidth\": 0, \"ticks\": \"\"}}, \"colorscale\": {\"diverging\": [[0, \"#8e0152\"], [0.1, \"#c51b7d\"], [0.2, \"#de77ae\"], [0.3, \"#f1b6da\"], [0.4, \"#fde0ef\"], [0.5, \"#f7f7f7\"], [0.6, \"#e6f5d0\"], [0.7, \"#b8e186\"], [0.8, \"#7fbc41\"], [0.9, \"#4d9221\"], [1, \"#276419\"]], \"sequential\": [[0.0, \"#0d0887\"], [0.1111111111111111, \"#46039f\"], [0.2222222222222222, \"#7201a8\"], [0.3333333333333333, \"#9c179e\"], [0.4444444444444444, \"#bd3786\"], [0.5555555555555556, \"#d8576b\"], [0.6666666666666666, \"#ed7953\"], [0.7777777777777778, \"#fb9f3a\"], [0.8888888888888888, \"#fdca26\"], [1.0, \"#f0f921\"]], \"sequentialminus\": [[0.0, \"#0d0887\"], [0.1111111111111111, \"#46039f\"], [0.2222222222222222, \"#7201a8\"], [0.3333333333333333, \"#9c179e\"], [0.4444444444444444, \"#bd3786\"], [0.5555555555555556, \"#d8576b\"], [0.6666666666666666, \"#ed7953\"], [0.7777777777777778, \"#fb9f3a\"], [0.8888888888888888, \"#fdca26\"], [1.0, \"#f0f921\"]]}, \"colorway\": [\"#636efa\", \"#EF553B\", \"#00cc96\", \"#ab63fa\", \"#FFA15A\", \"#19d3f3\", \"#FF6692\", \"#B6E880\", \"#FF97FF\", \"#FECB52\"], \"font\": {\"color\": \"#2a3f5f\"}, \"geo\": {\"bgcolor\": \"white\", \"lakecolor\": \"white\", \"landcolor\": \"#E5ECF6\", \"showlakes\": true, \"showland\": true, \"subunitcolor\": \"white\"}, \"hoverlabel\": {\"align\": \"left\"}, \"hovermode\": \"closest\", \"mapbox\": {\"style\": \"light\"}, \"paper_bgcolor\": \"white\", \"plot_bgcolor\": \"#E5ECF6\", \"polar\": {\"angularaxis\": {\"gridcolor\": \"white\", \"linecolor\": \"white\", \"ticks\": \"\"}, \"bgcolor\": \"#E5ECF6\", \"radialaxis\": {\"gridcolor\": \"white\", \"linecolor\": \"white\", \"ticks\": \"\"}}, \"scene\": {\"xaxis\": {\"backgroundcolor\": \"#E5ECF6\", \"gridcolor\": \"white\", \"gridwidth\": 2, \"linecolor\": \"white\", \"showbackground\": true, \"ticks\": \"\", \"zerolinecolor\": \"white\"}, \"yaxis\": {\"backgroundcolor\": \"#E5ECF6\", \"gridcolor\": \"white\", \"gridwidth\": 2, \"linecolor\": \"white\", \"showbackground\": true, \"ticks\": \"\", \"zerolinecolor\": \"white\"}, \"zaxis\": {\"backgroundcolor\": \"#E5ECF6\", \"gridcolor\": \"white\", \"gridwidth\": 2, \"linecolor\": \"white\", \"showbackground\": true, \"ticks\": \"\", \"zerolinecolor\": \"white\"}}, \"shapedefaults\": {\"line\": {\"color\": \"#2a3f5f\"}}, \"ternary\": {\"aaxis\": {\"gridcolor\": \"white\", \"linecolor\": \"white\", \"ticks\": \"\"}, \"baxis\": {\"gridcolor\": \"white\", \"linecolor\": \"white\", \"ticks\": \"\"}, \"bgcolor\": \"#E5ECF6\", \"caxis\": {\"gridcolor\": \"white\", \"linecolor\": \"white\", \"ticks\": \"\"}}, \"title\": {\"x\": 0.05}, \"xaxis\": {\"automargin\": true, \"gridcolor\": \"white\", \"linecolor\": \"white\", \"ticks\": \"\", \"title\": {\"standoff\": 15}, \"zerolinecolor\": \"white\", \"zerolinewidth\": 2}, \"yaxis\": {\"automargin\": true, \"gridcolor\": \"white\", \"linecolor\": \"white\", \"ticks\": \"\", \"title\": {\"standoff\": 15}, \"zerolinecolor\": \"white\", \"zerolinewidth\": 2}}}, \"title\": {\"text\": \"Average sales by person in liters\"}, \"width\": 1200},\n",
              "                        {\"responsive\": true}\n",
              "                    ).then(function(){\n",
              "                            \n",
              "var gd = document.getElementById('bda5fe0b-7def-4ee5-b951-b783a852cd1d');\n",
              "var x = new MutationObserver(function (mutations, observer) {{\n",
              "        var display = window.getComputedStyle(gd).display;\n",
              "        if (!display || display === 'none') {{\n",
              "            console.log([gd, 'removed!']);\n",
              "            Plotly.purge(gd);\n",
              "            observer.disconnect();\n",
              "        }}\n",
              "}});\n",
              "\n",
              "// Listen for the removal of the full notebook cells\n",
              "var notebookContainer = gd.closest('#notebook-container');\n",
              "if (notebookContainer) {{\n",
              "    x.observe(notebookContainer, {childList: true});\n",
              "}}\n",
              "\n",
              "// Listen for the clearing of the current output cell\n",
              "var outputEl = gd.closest('.output');\n",
              "if (outputEl) {{\n",
              "    x.observe(outputEl, {childList: true});\n",
              "}}\n",
              "\n",
              "                        })\n",
              "                };\n",
              "                \n",
              "            </script>\n",
              "        </div>\n",
              "</body>\n",
              "</html>"
            ]
          },
          "metadata": {
            "tags": []
          }
        }
      ]
    },
    {
      "cell_type": "markdown",
      "metadata": {
        "id": "nGPJHxqdhSNa"
      },
      "source": [
        "Наибольшее потребление в городе Spirit Lake - 3 литра на одного человека"
      ]
    },
    {
      "cell_type": "code",
      "metadata": {
        "colab": {
          "base_uri": "https://localhost:8080/",
          "height": 487
        },
        "id": "7pCI3Sf60USy",
        "outputId": "ff06d40a-2836-4a34-e746-6bae8dab41ea"
      },
      "source": [
        "fig = make_subplots(rows=1, cols=1,\n",
        "                    specs=[[{\"secondary_y\": True}]])\n",
        "\n",
        "# Top left\n",
        "trace_b=go.Bar(\n",
        "    x=top_city.city,\n",
        "    y=top_city.city_population,\n",
        "    marker=dict(\n",
        "                color='rgba(50, 171, 96, 0.6)',\n",
        "                line=dict(\n",
        "                color='rgba(50, 171, 96, 1.0)',\n",
        "                width=1),\n",
        "               ),\n",
        "              name='population',\n",
        "              orientation='v',\n",
        "              yaxis='y1',\n",
        "              text=round(top_city.city_population, 1), textposition='outside'\n",
        "               \n",
        ")\n",
        "\n",
        "trace_a = go.Scatter(x=top_city.city, y= top_city.avg_litres_person, yaxis='y2', mode= 'lines+markers', name= 'litres/person', line=dict(width=3))\n",
        "\n",
        "layout = go.Layout(autosize=True, title= 'Average sales by person in liters in TOP-10 city by population',\n",
        "                   yaxis2=dict(title='Moddel Difference',overlaying='y', side='right'), showlegend=True, width=1100, height=470)\n",
        "fig = go.Figure(data=[trace_b, trace_a], layout=layout)\n",
        "fig.show()"
      ],
      "execution_count": 40,
      "outputs": [
        {
          "output_type": "display_data",
          "data": {
            "text/html": [
              "<html>\n",
              "<head><meta charset=\"utf-8\" /></head>\n",
              "<body>\n",
              "    <div>\n",
              "            <script src=\"https://cdnjs.cloudflare.com/ajax/libs/mathjax/2.7.5/MathJax.js?config=TeX-AMS-MML_SVG\"></script><script type=\"text/javascript\">if (window.MathJax) {MathJax.Hub.Config({SVG: {font: \"STIX-Web\"}});}</script>\n",
              "                <script type=\"text/javascript\">window.PlotlyConfig = {MathJaxConfig: 'local'};</script>\n",
              "        <script src=\"https://cdn.plot.ly/plotly-latest.min.js\"></script>    \n",
              "            <div id=\"c9065f6a-de06-4276-af20-0a5ca3b8593c\" class=\"plotly-graph-div\" style=\"height:470px; width:1100px;\"></div>\n",
              "            <script type=\"text/javascript\">\n",
              "                \n",
              "                    window.PLOTLYENV=window.PLOTLYENV || {};\n",
              "                    \n",
              "                if (document.getElementById(\"c9065f6a-de06-4276-af20-0a5ca3b8593c\")) {\n",
              "                    Plotly.newPlot(\n",
              "                        'c9065f6a-de06-4276-af20-0a5ca3b8593c',\n",
              "                        [{\"marker\": {\"color\": \"rgba(50, 171, 96, 0.6)\", \"line\": {\"color\": \"rgba(50, 171, 96, 1.0)\", \"width\": 1}}, \"name\": \"population\", \"orientation\": \"v\", \"text\": [217891.0, 135502.0, 101965.0, 81382.0, 78440.0, 72820.0, 68619.0, 67962.0, 67228.0, 62289.0], \"textposition\": \"outside\", \"type\": \"bar\", \"x\": [\"Des Moines\", \"Cedar Rapids\", \"Davenport\", \"Sioux City\", \"Iowa City\", \"Ankeny\", \"West Des Moines\", \"Ames\", \"Waterloo\", \"Council Bluffs\"], \"y\": [217891.0, 135502.0, 101965.0, 81382.0, 78440.0, 72820.0, 68619.0, 67962.0, 67228.0, 62289.0], \"yaxis\": \"y\"}, {\"line\": {\"width\": 3}, \"mode\": \"lines+markers\", \"name\": \"litres/person\", \"type\": \"scatter\", \"x\": [\"Des Moines\", \"Cedar Rapids\", \"Davenport\", \"Sioux City\", \"Iowa City\", \"Ankeny\", \"West Des Moines\", \"Ames\", \"Waterloo\", \"Council Bluffs\"], \"y\": [0.8633145242349158, 0.9524231155261409, 1.0155681949689006, 0.7628928509989594, 0.6662640744517634, 0.745329909365521, 1.2100828633468848, 0.7947006415349394, 0.9161439429998804, 1.065594872288801], \"yaxis\": \"y2\"}],\n",
              "                        {\"autosize\": true, \"height\": 470, \"showlegend\": true, \"template\": {\"data\": {\"bar\": [{\"error_x\": {\"color\": \"#2a3f5f\"}, \"error_y\": {\"color\": \"#2a3f5f\"}, \"marker\": {\"line\": {\"color\": \"#E5ECF6\", \"width\": 0.5}}, \"type\": \"bar\"}], \"barpolar\": [{\"marker\": {\"line\": {\"color\": \"#E5ECF6\", \"width\": 0.5}}, \"type\": \"barpolar\"}], \"carpet\": [{\"aaxis\": {\"endlinecolor\": \"#2a3f5f\", \"gridcolor\": \"white\", \"linecolor\": \"white\", \"minorgridcolor\": \"white\", \"startlinecolor\": \"#2a3f5f\"}, \"baxis\": {\"endlinecolor\": \"#2a3f5f\", \"gridcolor\": \"white\", \"linecolor\": \"white\", \"minorgridcolor\": \"white\", \"startlinecolor\": \"#2a3f5f\"}, \"type\": \"carpet\"}], \"choropleth\": [{\"colorbar\": {\"outlinewidth\": 0, \"ticks\": \"\"}, \"type\": \"choropleth\"}], \"contour\": [{\"colorbar\": {\"outlinewidth\": 0, \"ticks\": \"\"}, \"colorscale\": [[0.0, \"#0d0887\"], [0.1111111111111111, \"#46039f\"], [0.2222222222222222, \"#7201a8\"], [0.3333333333333333, \"#9c179e\"], [0.4444444444444444, \"#bd3786\"], [0.5555555555555556, \"#d8576b\"], [0.6666666666666666, \"#ed7953\"], [0.7777777777777778, \"#fb9f3a\"], [0.8888888888888888, \"#fdca26\"], [1.0, \"#f0f921\"]], \"type\": \"contour\"}], \"contourcarpet\": [{\"colorbar\": {\"outlinewidth\": 0, \"ticks\": \"\"}, \"type\": \"contourcarpet\"}], \"heatmap\": [{\"colorbar\": {\"outlinewidth\": 0, \"ticks\": \"\"}, \"colorscale\": [[0.0, \"#0d0887\"], [0.1111111111111111, \"#46039f\"], [0.2222222222222222, \"#7201a8\"], [0.3333333333333333, \"#9c179e\"], [0.4444444444444444, \"#bd3786\"], [0.5555555555555556, \"#d8576b\"], [0.6666666666666666, \"#ed7953\"], [0.7777777777777778, \"#fb9f3a\"], [0.8888888888888888, \"#fdca26\"], [1.0, \"#f0f921\"]], \"type\": \"heatmap\"}], \"heatmapgl\": [{\"colorbar\": {\"outlinewidth\": 0, \"ticks\": \"\"}, \"colorscale\": [[0.0, \"#0d0887\"], [0.1111111111111111, \"#46039f\"], [0.2222222222222222, \"#7201a8\"], [0.3333333333333333, \"#9c179e\"], [0.4444444444444444, \"#bd3786\"], [0.5555555555555556, \"#d8576b\"], [0.6666666666666666, \"#ed7953\"], [0.7777777777777778, \"#fb9f3a\"], [0.8888888888888888, \"#fdca26\"], [1.0, \"#f0f921\"]], \"type\": \"heatmapgl\"}], \"histogram\": [{\"marker\": {\"colorbar\": {\"outlinewidth\": 0, \"ticks\": \"\"}}, \"type\": \"histogram\"}], \"histogram2d\": [{\"colorbar\": {\"outlinewidth\": 0, \"ticks\": \"\"}, \"colorscale\": [[0.0, \"#0d0887\"], [0.1111111111111111, \"#46039f\"], [0.2222222222222222, \"#7201a8\"], [0.3333333333333333, \"#9c179e\"], [0.4444444444444444, \"#bd3786\"], [0.5555555555555556, \"#d8576b\"], [0.6666666666666666, \"#ed7953\"], [0.7777777777777778, \"#fb9f3a\"], [0.8888888888888888, \"#fdca26\"], [1.0, \"#f0f921\"]], \"type\": \"histogram2d\"}], \"histogram2dcontour\": [{\"colorbar\": {\"outlinewidth\": 0, \"ticks\": \"\"}, \"colorscale\": [[0.0, \"#0d0887\"], [0.1111111111111111, \"#46039f\"], [0.2222222222222222, \"#7201a8\"], [0.3333333333333333, \"#9c179e\"], [0.4444444444444444, \"#bd3786\"], [0.5555555555555556, \"#d8576b\"], [0.6666666666666666, \"#ed7953\"], [0.7777777777777778, \"#fb9f3a\"], [0.8888888888888888, \"#fdca26\"], [1.0, \"#f0f921\"]], \"type\": \"histogram2dcontour\"}], \"mesh3d\": [{\"colorbar\": {\"outlinewidth\": 0, \"ticks\": \"\"}, \"type\": \"mesh3d\"}], \"parcoords\": [{\"line\": {\"colorbar\": {\"outlinewidth\": 0, \"ticks\": \"\"}}, \"type\": \"parcoords\"}], \"pie\": [{\"automargin\": true, \"type\": \"pie\"}], \"scatter\": [{\"marker\": {\"colorbar\": {\"outlinewidth\": 0, \"ticks\": \"\"}}, \"type\": \"scatter\"}], \"scatter3d\": [{\"line\": {\"colorbar\": {\"outlinewidth\": 0, \"ticks\": \"\"}}, \"marker\": {\"colorbar\": {\"outlinewidth\": 0, \"ticks\": \"\"}}, \"type\": \"scatter3d\"}], \"scattercarpet\": [{\"marker\": {\"colorbar\": {\"outlinewidth\": 0, \"ticks\": \"\"}}, \"type\": \"scattercarpet\"}], \"scattergeo\": [{\"marker\": {\"colorbar\": {\"outlinewidth\": 0, \"ticks\": \"\"}}, \"type\": \"scattergeo\"}], \"scattergl\": [{\"marker\": {\"colorbar\": {\"outlinewidth\": 0, \"ticks\": \"\"}}, \"type\": \"scattergl\"}], \"scattermapbox\": [{\"marker\": {\"colorbar\": {\"outlinewidth\": 0, \"ticks\": \"\"}}, \"type\": \"scattermapbox\"}], \"scatterpolar\": [{\"marker\": {\"colorbar\": {\"outlinewidth\": 0, \"ticks\": \"\"}}, \"type\": \"scatterpolar\"}], \"scatterpolargl\": [{\"marker\": {\"colorbar\": {\"outlinewidth\": 0, \"ticks\": \"\"}}, \"type\": \"scatterpolargl\"}], \"scatterternary\": [{\"marker\": {\"colorbar\": {\"outlinewidth\": 0, \"ticks\": \"\"}}, \"type\": \"scatterternary\"}], \"surface\": [{\"colorbar\": {\"outlinewidth\": 0, \"ticks\": \"\"}, \"colorscale\": [[0.0, \"#0d0887\"], [0.1111111111111111, \"#46039f\"], [0.2222222222222222, \"#7201a8\"], [0.3333333333333333, \"#9c179e\"], [0.4444444444444444, \"#bd3786\"], [0.5555555555555556, \"#d8576b\"], [0.6666666666666666, \"#ed7953\"], [0.7777777777777778, \"#fb9f3a\"], [0.8888888888888888, \"#fdca26\"], [1.0, \"#f0f921\"]], \"type\": \"surface\"}], \"table\": [{\"cells\": {\"fill\": {\"color\": \"#EBF0F8\"}, \"line\": {\"color\": \"white\"}}, \"header\": {\"fill\": {\"color\": \"#C8D4E3\"}, \"line\": {\"color\": \"white\"}}, \"type\": \"table\"}]}, \"layout\": {\"annotationdefaults\": {\"arrowcolor\": \"#2a3f5f\", \"arrowhead\": 0, \"arrowwidth\": 1}, \"coloraxis\": {\"colorbar\": {\"outlinewidth\": 0, \"ticks\": \"\"}}, \"colorscale\": {\"diverging\": [[0, \"#8e0152\"], [0.1, \"#c51b7d\"], [0.2, \"#de77ae\"], [0.3, \"#f1b6da\"], [0.4, \"#fde0ef\"], [0.5, \"#f7f7f7\"], [0.6, \"#e6f5d0\"], [0.7, \"#b8e186\"], [0.8, \"#7fbc41\"], [0.9, \"#4d9221\"], [1, \"#276419\"]], \"sequential\": [[0.0, \"#0d0887\"], [0.1111111111111111, \"#46039f\"], [0.2222222222222222, \"#7201a8\"], [0.3333333333333333, \"#9c179e\"], [0.4444444444444444, \"#bd3786\"], [0.5555555555555556, \"#d8576b\"], [0.6666666666666666, \"#ed7953\"], [0.7777777777777778, \"#fb9f3a\"], [0.8888888888888888, \"#fdca26\"], [1.0, \"#f0f921\"]], \"sequentialminus\": [[0.0, \"#0d0887\"], [0.1111111111111111, \"#46039f\"], [0.2222222222222222, \"#7201a8\"], [0.3333333333333333, \"#9c179e\"], [0.4444444444444444, \"#bd3786\"], [0.5555555555555556, \"#d8576b\"], [0.6666666666666666, \"#ed7953\"], [0.7777777777777778, \"#fb9f3a\"], [0.8888888888888888, \"#fdca26\"], [1.0, \"#f0f921\"]]}, \"colorway\": [\"#636efa\", \"#EF553B\", \"#00cc96\", \"#ab63fa\", \"#FFA15A\", \"#19d3f3\", \"#FF6692\", \"#B6E880\", \"#FF97FF\", \"#FECB52\"], \"font\": {\"color\": \"#2a3f5f\"}, \"geo\": {\"bgcolor\": \"white\", \"lakecolor\": \"white\", \"landcolor\": \"#E5ECF6\", \"showlakes\": true, \"showland\": true, \"subunitcolor\": \"white\"}, \"hoverlabel\": {\"align\": \"left\"}, \"hovermode\": \"closest\", \"mapbox\": {\"style\": \"light\"}, \"paper_bgcolor\": \"white\", \"plot_bgcolor\": \"#E5ECF6\", \"polar\": {\"angularaxis\": {\"gridcolor\": \"white\", \"linecolor\": \"white\", \"ticks\": \"\"}, \"bgcolor\": \"#E5ECF6\", \"radialaxis\": {\"gridcolor\": \"white\", \"linecolor\": \"white\", \"ticks\": \"\"}}, \"scene\": {\"xaxis\": {\"backgroundcolor\": \"#E5ECF6\", \"gridcolor\": \"white\", \"gridwidth\": 2, \"linecolor\": \"white\", \"showbackground\": true, \"ticks\": \"\", \"zerolinecolor\": \"white\"}, \"yaxis\": {\"backgroundcolor\": \"#E5ECF6\", \"gridcolor\": \"white\", \"gridwidth\": 2, \"linecolor\": \"white\", \"showbackground\": true, \"ticks\": \"\", \"zerolinecolor\": \"white\"}, \"zaxis\": {\"backgroundcolor\": \"#E5ECF6\", \"gridcolor\": \"white\", \"gridwidth\": 2, \"linecolor\": \"white\", \"showbackground\": true, \"ticks\": \"\", \"zerolinecolor\": \"white\"}}, \"shapedefaults\": {\"line\": {\"color\": \"#2a3f5f\"}}, \"ternary\": {\"aaxis\": {\"gridcolor\": \"white\", \"linecolor\": \"white\", \"ticks\": \"\"}, \"baxis\": {\"gridcolor\": \"white\", \"linecolor\": \"white\", \"ticks\": \"\"}, \"bgcolor\": \"#E5ECF6\", \"caxis\": {\"gridcolor\": \"white\", \"linecolor\": \"white\", \"ticks\": \"\"}}, \"title\": {\"x\": 0.05}, \"xaxis\": {\"automargin\": true, \"gridcolor\": \"white\", \"linecolor\": \"white\", \"ticks\": \"\", \"title\": {\"standoff\": 15}, \"zerolinecolor\": \"white\", \"zerolinewidth\": 2}, \"yaxis\": {\"automargin\": true, \"gridcolor\": \"white\", \"linecolor\": \"white\", \"ticks\": \"\", \"title\": {\"standoff\": 15}, \"zerolinecolor\": \"white\", \"zerolinewidth\": 2}}}, \"title\": {\"text\": \"Average sales by person in liters in TOP-10 city by population\"}, \"width\": 1100, \"yaxis2\": {\"overlaying\": \"y\", \"side\": \"right\", \"title\": {\"text\": \"Moddel Difference\"}}},\n",
              "                        {\"responsive\": true}\n",
              "                    ).then(function(){\n",
              "                            \n",
              "var gd = document.getElementById('c9065f6a-de06-4276-af20-0a5ca3b8593c');\n",
              "var x = new MutationObserver(function (mutations, observer) {{\n",
              "        var display = window.getComputedStyle(gd).display;\n",
              "        if (!display || display === 'none') {{\n",
              "            console.log([gd, 'removed!']);\n",
              "            Plotly.purge(gd);\n",
              "            observer.disconnect();\n",
              "        }}\n",
              "}});\n",
              "\n",
              "// Listen for the removal of the full notebook cells\n",
              "var notebookContainer = gd.closest('#notebook-container');\n",
              "if (notebookContainer) {{\n",
              "    x.observe(notebookContainer, {childList: true});\n",
              "}}\n",
              "\n",
              "// Listen for the clearing of the current output cell\n",
              "var outputEl = gd.closest('.output');\n",
              "if (outputEl) {{\n",
              "    x.observe(outputEl, {childList: true});\n",
              "}}\n",
              "\n",
              "                        })\n",
              "                };\n",
              "                \n",
              "            </script>\n",
              "        </div>\n",
              "</body>\n",
              "</html>"
            ]
          },
          "metadata": {
            "tags": []
          }
        }
      ]
    },
    {
      "cell_type": "markdown",
      "metadata": {
        "id": "0aVANLSv9edY"
      },
      "source": [
        "Как видно из двух графиков выше, в отличии от городов с невысокой численностью, в самых крупных городах штата среднее потребление алкоголя на 1 человека в месяц не превышает 1,2 литра. Данная информация полезна для оценки недопродаж по населенным пунктам, что повлечет за собой установление причин низких продаж и действий по их стимулированию"
      ]
    },
    {
      "cell_type": "markdown",
      "metadata": {
        "id": "-iJa11t9hwOk"
      },
      "source": [
        "Построим гистограмму суммарных доходов торговых точек от продаж алкоголя за первые 10 месяцев каждого года"
      ]
    },
    {
      "cell_type": "code",
      "metadata": {
        "colab": {
          "base_uri": "https://localhost:8080/",
          "height": 487
        },
        "id": "Y3WPVZLEuYOK",
        "outputId": "7a0a22f1-da76-4f07-ff40-9803d7331e8f"
      },
      "source": [
        "year_10m_litres = df[df.date.dt.month<=10].groupby(df.date.dt.year)['volume_sold_liters'].sum().to_frame()\n",
        "\n",
        "trace_l = go.Bar(\n",
        "    y= year_10m_litres.volume_sold_liters, x= ['2018','2019','2020'],\n",
        "    marker=dict(color='rgba(0,0,255,0.4)', line=dict(color='blue', width=1)),\n",
        "    xaxis='x2',\n",
        "    yaxis='y2',\n",
        "    name='Total sales by 10 month year in liters', orientation='v', text=year_10m_litres.volume_sold_liters, textposition='outside', texttemplate='%{text:.2s}'\n",
        ")\n",
        "\n",
        "year_10m_sum = df[df.date.dt.month<=10].groupby(df.date.dt.year)['sale_dollars'].sum().to_frame()\n",
        "\n",
        "trace_s = go.Bar(\n",
        "    y= year_10m_sum.sale_dollars, x= ['2018','2019','2020'],\n",
        "    marker=dict(color='rgba(0,255,0,0.4)', line=dict(color='blue', width=1)),\n",
        "    name='Total sales by 10 month year in USD', orientation='v', text=year_10m_sum.sale_dollars, textposition='outside', texttemplate='%{text:.2s}'\n",
        ")\n",
        "layout = go.Layout(autosize=True, title= 'Total sales by 10 month year in USD and liters', showlegend=True, width=1200, height=470,\n",
        "                   xaxis = dict(domain = [0.0, 0.45]),\n",
        "                   xaxis2 = dict(domain = [0.55, 1.0]),\n",
        "                   yaxis2 = dict(overlaying='y',\n",
        "                                 anchor = 'free',\n",
        "                                 position = 0.55\n",
        "                                )\n",
        "                   )\n",
        "\n",
        "fig = go.Figure(data=[trace_s, trace_l], layout=layout)\n",
        "\n",
        "\n",
        "fig.update_layout(showlegend=True,\n",
        "                  annotations=[\n",
        "        dict(\n",
        "            x=2019, y=260000000,\n",
        "            text=\"+3,7%\",\n",
        "            showarrow=False,\n",
        "            yshift=10\n",
        "            ),\n",
        "          dict(\n",
        "            x=2020, y=300000000,\n",
        "            text=\"+14,2%\",\n",
        "            showarrow=False,\n",
        "            yshift=10\n",
        "            ),\n",
        "          dict(\n",
        "            xref='x2', \n",
        "            yref='y2',\n",
        "            x=2019, y=17000000,\n",
        "            text=\"+2,8%\",\n",
        "            showarrow=False,\n",
        "            yshift=10\n",
        "            ),\n",
        "          dict(\n",
        "            xref='x2', \n",
        "            yref='y2',\n",
        "            x=2020, y=18500000,\n",
        "            text=\"+8,1%\",\n",
        "            showarrow=False,\n",
        "            yshift=10\n",
        "            )\n",
        "                  ]\n",
        ")\n",
        "\n",
        "fig.show()"
      ],
      "execution_count": 41,
      "outputs": [
        {
          "output_type": "display_data",
          "data": {
            "text/html": [
              "<html>\n",
              "<head><meta charset=\"utf-8\" /></head>\n",
              "<body>\n",
              "    <div>\n",
              "            <script src=\"https://cdnjs.cloudflare.com/ajax/libs/mathjax/2.7.5/MathJax.js?config=TeX-AMS-MML_SVG\"></script><script type=\"text/javascript\">if (window.MathJax) {MathJax.Hub.Config({SVG: {font: \"STIX-Web\"}});}</script>\n",
              "                <script type=\"text/javascript\">window.PlotlyConfig = {MathJaxConfig: 'local'};</script>\n",
              "        <script src=\"https://cdn.plot.ly/plotly-latest.min.js\"></script>    \n",
              "            <div id=\"1af3b404-d539-465a-b567-d348e28f9599\" class=\"plotly-graph-div\" style=\"height:470px; width:1200px;\"></div>\n",
              "            <script type=\"text/javascript\">\n",
              "                \n",
              "                    window.PLOTLYENV=window.PLOTLYENV || {};\n",
              "                    \n",
              "                if (document.getElementById(\"1af3b404-d539-465a-b567-d348e28f9599\")) {\n",
              "                    Plotly.newPlot(\n",
              "                        '1af3b404-d539-465a-b567-d348e28f9599',\n",
              "                        [{\"marker\": {\"color\": \"rgba(0,255,0,0.4)\", \"line\": {\"color\": \"blue\", \"width\": 1}}, \"name\": \"Total sales by 10 month year in USD\", \"orientation\": \"v\", \"text\": [270426169.56980854, 284431821.07991076, 324042857.899843], \"textposition\": \"outside\", \"texttemplate\": \"%{text:.2s}\", \"type\": \"bar\", \"x\": [\"2018\", \"2019\", \"2020\"], \"y\": [270426169.56980854, 284431821.07991076, 324042857.899843]}, {\"marker\": {\"color\": \"rgba(0,0,255,0.4)\", \"line\": {\"color\": \"blue\", \"width\": 1}}, \"name\": \"Total sales by 10 month year in liters\", \"orientation\": \"v\", \"text\": [17941333.689994704, 18458711.569999773, 19986261.79002819], \"textposition\": \"outside\", \"texttemplate\": \"%{text:.2s}\", \"type\": \"bar\", \"x\": [\"2018\", \"2019\", \"2020\"], \"xaxis\": \"x2\", \"y\": [17941333.689994704, 18458711.569999773, 19986261.79002819], \"yaxis\": \"y2\"}],\n",
              "                        {\"annotations\": [{\"showarrow\": false, \"text\": \"+3,7%\", \"x\": 2019, \"y\": 260000000, \"yshift\": 10}, {\"showarrow\": false, \"text\": \"+14,2%\", \"x\": 2020, \"y\": 300000000, \"yshift\": 10}, {\"showarrow\": false, \"text\": \"+2,8%\", \"x\": 2019, \"xref\": \"x2\", \"y\": 17000000, \"yref\": \"y2\", \"yshift\": 10}, {\"showarrow\": false, \"text\": \"+8,1%\", \"x\": 2020, \"xref\": \"x2\", \"y\": 18500000, \"yref\": \"y2\", \"yshift\": 10}], \"autosize\": true, \"height\": 470, \"showlegend\": true, \"template\": {\"data\": {\"bar\": [{\"error_x\": {\"color\": \"#2a3f5f\"}, \"error_y\": {\"color\": \"#2a3f5f\"}, \"marker\": {\"line\": {\"color\": \"#E5ECF6\", \"width\": 0.5}}, \"type\": \"bar\"}], \"barpolar\": [{\"marker\": {\"line\": {\"color\": \"#E5ECF6\", \"width\": 0.5}}, \"type\": \"barpolar\"}], \"carpet\": [{\"aaxis\": {\"endlinecolor\": \"#2a3f5f\", \"gridcolor\": \"white\", \"linecolor\": \"white\", \"minorgridcolor\": \"white\", \"startlinecolor\": \"#2a3f5f\"}, \"baxis\": {\"endlinecolor\": \"#2a3f5f\", \"gridcolor\": \"white\", \"linecolor\": \"white\", \"minorgridcolor\": \"white\", \"startlinecolor\": \"#2a3f5f\"}, \"type\": \"carpet\"}], \"choropleth\": [{\"colorbar\": {\"outlinewidth\": 0, \"ticks\": \"\"}, \"type\": \"choropleth\"}], \"contour\": [{\"colorbar\": {\"outlinewidth\": 0, \"ticks\": \"\"}, \"colorscale\": [[0.0, \"#0d0887\"], [0.1111111111111111, \"#46039f\"], [0.2222222222222222, \"#7201a8\"], [0.3333333333333333, \"#9c179e\"], [0.4444444444444444, \"#bd3786\"], [0.5555555555555556, \"#d8576b\"], [0.6666666666666666, \"#ed7953\"], [0.7777777777777778, \"#fb9f3a\"], [0.8888888888888888, \"#fdca26\"], [1.0, \"#f0f921\"]], \"type\": \"contour\"}], \"contourcarpet\": [{\"colorbar\": {\"outlinewidth\": 0, \"ticks\": \"\"}, \"type\": \"contourcarpet\"}], \"heatmap\": [{\"colorbar\": {\"outlinewidth\": 0, \"ticks\": \"\"}, \"colorscale\": [[0.0, \"#0d0887\"], [0.1111111111111111, \"#46039f\"], [0.2222222222222222, \"#7201a8\"], [0.3333333333333333, \"#9c179e\"], [0.4444444444444444, \"#bd3786\"], [0.5555555555555556, \"#d8576b\"], [0.6666666666666666, \"#ed7953\"], [0.7777777777777778, \"#fb9f3a\"], [0.8888888888888888, \"#fdca26\"], [1.0, \"#f0f921\"]], \"type\": \"heatmap\"}], \"heatmapgl\": [{\"colorbar\": {\"outlinewidth\": 0, \"ticks\": \"\"}, \"colorscale\": [[0.0, \"#0d0887\"], [0.1111111111111111, \"#46039f\"], [0.2222222222222222, \"#7201a8\"], [0.3333333333333333, \"#9c179e\"], [0.4444444444444444, \"#bd3786\"], [0.5555555555555556, \"#d8576b\"], [0.6666666666666666, \"#ed7953\"], [0.7777777777777778, \"#fb9f3a\"], [0.8888888888888888, \"#fdca26\"], [1.0, \"#f0f921\"]], \"type\": \"heatmapgl\"}], \"histogram\": [{\"marker\": {\"colorbar\": {\"outlinewidth\": 0, \"ticks\": \"\"}}, \"type\": \"histogram\"}], \"histogram2d\": [{\"colorbar\": {\"outlinewidth\": 0, \"ticks\": \"\"}, \"colorscale\": [[0.0, \"#0d0887\"], [0.1111111111111111, \"#46039f\"], [0.2222222222222222, \"#7201a8\"], [0.3333333333333333, \"#9c179e\"], [0.4444444444444444, \"#bd3786\"], [0.5555555555555556, \"#d8576b\"], [0.6666666666666666, \"#ed7953\"], [0.7777777777777778, \"#fb9f3a\"], [0.8888888888888888, \"#fdca26\"], [1.0, \"#f0f921\"]], \"type\": \"histogram2d\"}], \"histogram2dcontour\": [{\"colorbar\": {\"outlinewidth\": 0, \"ticks\": \"\"}, \"colorscale\": [[0.0, \"#0d0887\"], [0.1111111111111111, \"#46039f\"], [0.2222222222222222, \"#7201a8\"], [0.3333333333333333, \"#9c179e\"], [0.4444444444444444, \"#bd3786\"], [0.5555555555555556, \"#d8576b\"], [0.6666666666666666, \"#ed7953\"], [0.7777777777777778, \"#fb9f3a\"], [0.8888888888888888, \"#fdca26\"], [1.0, \"#f0f921\"]], \"type\": \"histogram2dcontour\"}], \"mesh3d\": [{\"colorbar\": {\"outlinewidth\": 0, \"ticks\": \"\"}, \"type\": \"mesh3d\"}], \"parcoords\": [{\"line\": {\"colorbar\": {\"outlinewidth\": 0, \"ticks\": \"\"}}, \"type\": \"parcoords\"}], \"pie\": [{\"automargin\": true, \"type\": \"pie\"}], \"scatter\": [{\"marker\": {\"colorbar\": {\"outlinewidth\": 0, \"ticks\": \"\"}}, \"type\": \"scatter\"}], \"scatter3d\": [{\"line\": {\"colorbar\": {\"outlinewidth\": 0, \"ticks\": \"\"}}, \"marker\": {\"colorbar\": {\"outlinewidth\": 0, \"ticks\": \"\"}}, \"type\": \"scatter3d\"}], \"scattercarpet\": [{\"marker\": {\"colorbar\": {\"outlinewidth\": 0, \"ticks\": \"\"}}, \"type\": \"scattercarpet\"}], \"scattergeo\": [{\"marker\": {\"colorbar\": {\"outlinewidth\": 0, \"ticks\": \"\"}}, \"type\": \"scattergeo\"}], \"scattergl\": [{\"marker\": {\"colorbar\": {\"outlinewidth\": 0, \"ticks\": \"\"}}, \"type\": \"scattergl\"}], \"scattermapbox\": [{\"marker\": {\"colorbar\": {\"outlinewidth\": 0, \"ticks\": \"\"}}, \"type\": \"scattermapbox\"}], \"scatterpolar\": [{\"marker\": {\"colorbar\": {\"outlinewidth\": 0, \"ticks\": \"\"}}, \"type\": \"scatterpolar\"}], \"scatterpolargl\": [{\"marker\": {\"colorbar\": {\"outlinewidth\": 0, \"ticks\": \"\"}}, \"type\": \"scatterpolargl\"}], \"scatterternary\": [{\"marker\": {\"colorbar\": {\"outlinewidth\": 0, \"ticks\": \"\"}}, \"type\": \"scatterternary\"}], \"surface\": [{\"colorbar\": {\"outlinewidth\": 0, \"ticks\": \"\"}, \"colorscale\": [[0.0, \"#0d0887\"], [0.1111111111111111, \"#46039f\"], [0.2222222222222222, \"#7201a8\"], [0.3333333333333333, \"#9c179e\"], [0.4444444444444444, \"#bd3786\"], [0.5555555555555556, \"#d8576b\"], [0.6666666666666666, \"#ed7953\"], [0.7777777777777778, \"#fb9f3a\"], [0.8888888888888888, \"#fdca26\"], [1.0, \"#f0f921\"]], \"type\": \"surface\"}], \"table\": [{\"cells\": {\"fill\": {\"color\": \"#EBF0F8\"}, \"line\": {\"color\": \"white\"}}, \"header\": {\"fill\": {\"color\": \"#C8D4E3\"}, \"line\": {\"color\": \"white\"}}, \"type\": \"table\"}]}, \"layout\": {\"annotationdefaults\": {\"arrowcolor\": \"#2a3f5f\", \"arrowhead\": 0, \"arrowwidth\": 1}, \"coloraxis\": {\"colorbar\": {\"outlinewidth\": 0, \"ticks\": \"\"}}, \"colorscale\": {\"diverging\": [[0, \"#8e0152\"], [0.1, \"#c51b7d\"], [0.2, \"#de77ae\"], [0.3, \"#f1b6da\"], [0.4, \"#fde0ef\"], [0.5, \"#f7f7f7\"], [0.6, \"#e6f5d0\"], [0.7, \"#b8e186\"], [0.8, \"#7fbc41\"], [0.9, \"#4d9221\"], [1, \"#276419\"]], \"sequential\": [[0.0, \"#0d0887\"], [0.1111111111111111, \"#46039f\"], [0.2222222222222222, \"#7201a8\"], [0.3333333333333333, \"#9c179e\"], [0.4444444444444444, \"#bd3786\"], [0.5555555555555556, \"#d8576b\"], [0.6666666666666666, \"#ed7953\"], [0.7777777777777778, \"#fb9f3a\"], [0.8888888888888888, \"#fdca26\"], [1.0, \"#f0f921\"]], \"sequentialminus\": [[0.0, \"#0d0887\"], [0.1111111111111111, \"#46039f\"], [0.2222222222222222, \"#7201a8\"], [0.3333333333333333, \"#9c179e\"], [0.4444444444444444, \"#bd3786\"], [0.5555555555555556, \"#d8576b\"], [0.6666666666666666, \"#ed7953\"], [0.7777777777777778, \"#fb9f3a\"], [0.8888888888888888, \"#fdca26\"], [1.0, \"#f0f921\"]]}, \"colorway\": [\"#636efa\", \"#EF553B\", \"#00cc96\", \"#ab63fa\", \"#FFA15A\", \"#19d3f3\", \"#FF6692\", \"#B6E880\", \"#FF97FF\", \"#FECB52\"], \"font\": {\"color\": \"#2a3f5f\"}, \"geo\": {\"bgcolor\": \"white\", \"lakecolor\": \"white\", \"landcolor\": \"#E5ECF6\", \"showlakes\": true, \"showland\": true, \"subunitcolor\": \"white\"}, \"hoverlabel\": {\"align\": \"left\"}, \"hovermode\": \"closest\", \"mapbox\": {\"style\": \"light\"}, \"paper_bgcolor\": \"white\", \"plot_bgcolor\": \"#E5ECF6\", \"polar\": {\"angularaxis\": {\"gridcolor\": \"white\", \"linecolor\": \"white\", \"ticks\": \"\"}, \"bgcolor\": \"#E5ECF6\", \"radialaxis\": {\"gridcolor\": \"white\", \"linecolor\": \"white\", \"ticks\": \"\"}}, \"scene\": {\"xaxis\": {\"backgroundcolor\": \"#E5ECF6\", \"gridcolor\": \"white\", \"gridwidth\": 2, \"linecolor\": \"white\", \"showbackground\": true, \"ticks\": \"\", \"zerolinecolor\": \"white\"}, \"yaxis\": {\"backgroundcolor\": \"#E5ECF6\", \"gridcolor\": \"white\", \"gridwidth\": 2, \"linecolor\": \"white\", \"showbackground\": true, \"ticks\": \"\", \"zerolinecolor\": \"white\"}, \"zaxis\": {\"backgroundcolor\": \"#E5ECF6\", \"gridcolor\": \"white\", \"gridwidth\": 2, \"linecolor\": \"white\", \"showbackground\": true, \"ticks\": \"\", \"zerolinecolor\": \"white\"}}, \"shapedefaults\": {\"line\": {\"color\": \"#2a3f5f\"}}, \"ternary\": {\"aaxis\": {\"gridcolor\": \"white\", \"linecolor\": \"white\", \"ticks\": \"\"}, \"baxis\": {\"gridcolor\": \"white\", \"linecolor\": \"white\", \"ticks\": \"\"}, \"bgcolor\": \"#E5ECF6\", \"caxis\": {\"gridcolor\": \"white\", \"linecolor\": \"white\", \"ticks\": \"\"}}, \"title\": {\"x\": 0.05}, \"xaxis\": {\"automargin\": true, \"gridcolor\": \"white\", \"linecolor\": \"white\", \"ticks\": \"\", \"title\": {\"standoff\": 15}, \"zerolinecolor\": \"white\", \"zerolinewidth\": 2}, \"yaxis\": {\"automargin\": true, \"gridcolor\": \"white\", \"linecolor\": \"white\", \"ticks\": \"\", \"title\": {\"standoff\": 15}, \"zerolinecolor\": \"white\", \"zerolinewidth\": 2}}}, \"title\": {\"text\": \"Total sales by 10 month year in USD and liters\"}, \"width\": 1200, \"xaxis\": {\"domain\": [0.0, 0.45]}, \"xaxis2\": {\"domain\": [0.55, 1.0]}, \"yaxis2\": {\"anchor\": \"free\", \"overlaying\": \"y\", \"position\": 0.55}},\n",
              "                        {\"responsive\": true}\n",
              "                    ).then(function(){\n",
              "                            \n",
              "var gd = document.getElementById('1af3b404-d539-465a-b567-d348e28f9599');\n",
              "var x = new MutationObserver(function (mutations, observer) {{\n",
              "        var display = window.getComputedStyle(gd).display;\n",
              "        if (!display || display === 'none') {{\n",
              "            console.log([gd, 'removed!']);\n",
              "            Plotly.purge(gd);\n",
              "            observer.disconnect();\n",
              "        }}\n",
              "}});\n",
              "\n",
              "// Listen for the removal of the full notebook cells\n",
              "var notebookContainer = gd.closest('#notebook-container');\n",
              "if (notebookContainer) {{\n",
              "    x.observe(notebookContainer, {childList: true});\n",
              "}}\n",
              "\n",
              "// Listen for the clearing of the current output cell\n",
              "var outputEl = gd.closest('.output');\n",
              "if (outputEl) {{\n",
              "    x.observe(outputEl, {childList: true});\n",
              "}}\n",
              "\n",
              "                        })\n",
              "                };\n",
              "                \n",
              "            </script>\n",
              "        </div>\n",
              "</body>\n",
              "</html>"
            ]
          },
          "metadata": {
            "tags": []
          }
        }
      ]
    },
    {
      "cell_type": "markdown",
      "metadata": {
        "id": "OVW2Ph4Fdz4z"
      },
      "source": [
        "В 2020 году за первые 10 месяцев продажи выросли на 14,2% в USD и на 8,1% в литрах относительно аналогичного периода 2019, что на 10,5 пп и 6,1 пп выше чем 2019 к 2018. То есть рынок алкоголя в 2020 показывает существенный прирост. По цене прирост выше чем в литрах, посмотрим как изменилась средняя цена за литр."
      ]
    },
    {
      "cell_type": "code",
      "metadata": {
        "colab": {
          "base_uri": "https://localhost:8080/",
          "height": 487
        },
        "id": "u3igI5e_e5-8",
        "outputId": "c135d41d-06a5-4568-8393-28694928b8c7"
      },
      "source": [
        "year_10m_litres['avg_price_litres'] = year_10m_sum['sale_dollars'] / year_10m_litres['volume_sold_liters']\n",
        "trace_с = go.Bar(\n",
        "    y= year_10m_litres.avg_price_litres, x= ['2018','2019','2020'],\n",
        "    marker=dict(color='rgba(0,0,255,0.4)', line=dict(color='blue', width=1)),\n",
        "    name='Average cost per litres', orientation='v', text=round(year_10m_litres.avg_price_litres, 1), textposition='outside'\n",
        ")\n",
        "layout = go.Layout(autosize=True, title= 'Average cost per litres', showlegend=True, width=600, height=470)\n",
        "fig = go.Figure(data=[trace_с], layout=layout)\n",
        "fig.show()"
      ],
      "execution_count": 42,
      "outputs": [
        {
          "output_type": "display_data",
          "data": {
            "text/html": [
              "<html>\n",
              "<head><meta charset=\"utf-8\" /></head>\n",
              "<body>\n",
              "    <div>\n",
              "            <script src=\"https://cdnjs.cloudflare.com/ajax/libs/mathjax/2.7.5/MathJax.js?config=TeX-AMS-MML_SVG\"></script><script type=\"text/javascript\">if (window.MathJax) {MathJax.Hub.Config({SVG: {font: \"STIX-Web\"}});}</script>\n",
              "                <script type=\"text/javascript\">window.PlotlyConfig = {MathJaxConfig: 'local'};</script>\n",
              "        <script src=\"https://cdn.plot.ly/plotly-latest.min.js\"></script>    \n",
              "            <div id=\"b8a8d2ca-3a93-4ff6-a6b3-1e324234c66c\" class=\"plotly-graph-div\" style=\"height:470px; width:600px;\"></div>\n",
              "            <script type=\"text/javascript\">\n",
              "                \n",
              "                    window.PLOTLYENV=window.PLOTLYENV || {};\n",
              "                    \n",
              "                if (document.getElementById(\"b8a8d2ca-3a93-4ff6-a6b3-1e324234c66c\")) {\n",
              "                    Plotly.newPlot(\n",
              "                        'b8a8d2ca-3a93-4ff6-a6b3-1e324234c66c',\n",
              "                        [{\"marker\": {\"color\": \"rgba(0,0,255,0.4)\", \"line\": {\"color\": \"blue\", \"width\": 1}}, \"name\": \"Average cost per litres\", \"orientation\": \"v\", \"text\": [15.1, 15.4, 16.2], \"textposition\": \"outside\", \"type\": \"bar\", \"x\": [\"2018\", \"2019\", \"2020\"], \"y\": [15.072801957895493, 15.409083131359328, 16.21327996721822]}],\n",
              "                        {\"autosize\": true, \"height\": 470, \"showlegend\": true, \"template\": {\"data\": {\"bar\": [{\"error_x\": {\"color\": \"#2a3f5f\"}, \"error_y\": {\"color\": \"#2a3f5f\"}, \"marker\": {\"line\": {\"color\": \"#E5ECF6\", \"width\": 0.5}}, \"type\": \"bar\"}], \"barpolar\": [{\"marker\": {\"line\": {\"color\": \"#E5ECF6\", \"width\": 0.5}}, \"type\": \"barpolar\"}], \"carpet\": [{\"aaxis\": {\"endlinecolor\": \"#2a3f5f\", \"gridcolor\": \"white\", \"linecolor\": \"white\", \"minorgridcolor\": \"white\", \"startlinecolor\": \"#2a3f5f\"}, \"baxis\": {\"endlinecolor\": \"#2a3f5f\", \"gridcolor\": \"white\", \"linecolor\": \"white\", \"minorgridcolor\": \"white\", \"startlinecolor\": \"#2a3f5f\"}, \"type\": \"carpet\"}], \"choropleth\": [{\"colorbar\": {\"outlinewidth\": 0, \"ticks\": \"\"}, \"type\": \"choropleth\"}], \"contour\": [{\"colorbar\": {\"outlinewidth\": 0, \"ticks\": \"\"}, \"colorscale\": [[0.0, \"#0d0887\"], [0.1111111111111111, \"#46039f\"], [0.2222222222222222, \"#7201a8\"], [0.3333333333333333, \"#9c179e\"], [0.4444444444444444, \"#bd3786\"], [0.5555555555555556, \"#d8576b\"], [0.6666666666666666, \"#ed7953\"], [0.7777777777777778, \"#fb9f3a\"], [0.8888888888888888, \"#fdca26\"], [1.0, \"#f0f921\"]], \"type\": \"contour\"}], \"contourcarpet\": [{\"colorbar\": {\"outlinewidth\": 0, \"ticks\": \"\"}, \"type\": \"contourcarpet\"}], \"heatmap\": [{\"colorbar\": {\"outlinewidth\": 0, \"ticks\": \"\"}, \"colorscale\": [[0.0, \"#0d0887\"], [0.1111111111111111, \"#46039f\"], [0.2222222222222222, \"#7201a8\"], [0.3333333333333333, \"#9c179e\"], [0.4444444444444444, \"#bd3786\"], [0.5555555555555556, \"#d8576b\"], [0.6666666666666666, \"#ed7953\"], [0.7777777777777778, \"#fb9f3a\"], [0.8888888888888888, \"#fdca26\"], [1.0, \"#f0f921\"]], \"type\": \"heatmap\"}], \"heatmapgl\": [{\"colorbar\": {\"outlinewidth\": 0, \"ticks\": \"\"}, \"colorscale\": [[0.0, \"#0d0887\"], [0.1111111111111111, \"#46039f\"], [0.2222222222222222, \"#7201a8\"], [0.3333333333333333, \"#9c179e\"], [0.4444444444444444, \"#bd3786\"], [0.5555555555555556, \"#d8576b\"], [0.6666666666666666, \"#ed7953\"], [0.7777777777777778, \"#fb9f3a\"], [0.8888888888888888, \"#fdca26\"], [1.0, \"#f0f921\"]], \"type\": \"heatmapgl\"}], \"histogram\": [{\"marker\": {\"colorbar\": {\"outlinewidth\": 0, \"ticks\": \"\"}}, \"type\": \"histogram\"}], \"histogram2d\": [{\"colorbar\": {\"outlinewidth\": 0, \"ticks\": \"\"}, \"colorscale\": [[0.0, \"#0d0887\"], [0.1111111111111111, \"#46039f\"], [0.2222222222222222, \"#7201a8\"], [0.3333333333333333, \"#9c179e\"], [0.4444444444444444, \"#bd3786\"], [0.5555555555555556, \"#d8576b\"], [0.6666666666666666, \"#ed7953\"], [0.7777777777777778, \"#fb9f3a\"], [0.8888888888888888, \"#fdca26\"], [1.0, \"#f0f921\"]], \"type\": \"histogram2d\"}], \"histogram2dcontour\": [{\"colorbar\": {\"outlinewidth\": 0, \"ticks\": \"\"}, \"colorscale\": [[0.0, \"#0d0887\"], [0.1111111111111111, \"#46039f\"], [0.2222222222222222, \"#7201a8\"], [0.3333333333333333, \"#9c179e\"], [0.4444444444444444, \"#bd3786\"], [0.5555555555555556, \"#d8576b\"], [0.6666666666666666, \"#ed7953\"], [0.7777777777777778, \"#fb9f3a\"], [0.8888888888888888, \"#fdca26\"], [1.0, \"#f0f921\"]], \"type\": \"histogram2dcontour\"}], \"mesh3d\": [{\"colorbar\": {\"outlinewidth\": 0, \"ticks\": \"\"}, \"type\": \"mesh3d\"}], \"parcoords\": [{\"line\": {\"colorbar\": {\"outlinewidth\": 0, \"ticks\": \"\"}}, \"type\": \"parcoords\"}], \"pie\": [{\"automargin\": true, \"type\": \"pie\"}], \"scatter\": [{\"marker\": {\"colorbar\": {\"outlinewidth\": 0, \"ticks\": \"\"}}, \"type\": \"scatter\"}], \"scatter3d\": [{\"line\": {\"colorbar\": {\"outlinewidth\": 0, \"ticks\": \"\"}}, \"marker\": {\"colorbar\": {\"outlinewidth\": 0, \"ticks\": \"\"}}, \"type\": \"scatter3d\"}], \"scattercarpet\": [{\"marker\": {\"colorbar\": {\"outlinewidth\": 0, \"ticks\": \"\"}}, \"type\": \"scattercarpet\"}], \"scattergeo\": [{\"marker\": {\"colorbar\": {\"outlinewidth\": 0, \"ticks\": \"\"}}, \"type\": \"scattergeo\"}], \"scattergl\": [{\"marker\": {\"colorbar\": {\"outlinewidth\": 0, \"ticks\": \"\"}}, \"type\": \"scattergl\"}], \"scattermapbox\": [{\"marker\": {\"colorbar\": {\"outlinewidth\": 0, \"ticks\": \"\"}}, \"type\": \"scattermapbox\"}], \"scatterpolar\": [{\"marker\": {\"colorbar\": {\"outlinewidth\": 0, \"ticks\": \"\"}}, \"type\": \"scatterpolar\"}], \"scatterpolargl\": [{\"marker\": {\"colorbar\": {\"outlinewidth\": 0, \"ticks\": \"\"}}, \"type\": \"scatterpolargl\"}], \"scatterternary\": [{\"marker\": {\"colorbar\": {\"outlinewidth\": 0, \"ticks\": \"\"}}, \"type\": \"scatterternary\"}], \"surface\": [{\"colorbar\": {\"outlinewidth\": 0, \"ticks\": \"\"}, \"colorscale\": [[0.0, \"#0d0887\"], [0.1111111111111111, \"#46039f\"], [0.2222222222222222, \"#7201a8\"], [0.3333333333333333, \"#9c179e\"], [0.4444444444444444, \"#bd3786\"], [0.5555555555555556, \"#d8576b\"], [0.6666666666666666, \"#ed7953\"], [0.7777777777777778, \"#fb9f3a\"], [0.8888888888888888, \"#fdca26\"], [1.0, \"#f0f921\"]], \"type\": \"surface\"}], \"table\": [{\"cells\": {\"fill\": {\"color\": \"#EBF0F8\"}, \"line\": {\"color\": \"white\"}}, \"header\": {\"fill\": {\"color\": \"#C8D4E3\"}, \"line\": {\"color\": \"white\"}}, \"type\": \"table\"}]}, \"layout\": {\"annotationdefaults\": {\"arrowcolor\": \"#2a3f5f\", \"arrowhead\": 0, \"arrowwidth\": 1}, \"coloraxis\": {\"colorbar\": {\"outlinewidth\": 0, \"ticks\": \"\"}}, \"colorscale\": {\"diverging\": [[0, \"#8e0152\"], [0.1, \"#c51b7d\"], [0.2, \"#de77ae\"], [0.3, \"#f1b6da\"], [0.4, \"#fde0ef\"], [0.5, \"#f7f7f7\"], [0.6, \"#e6f5d0\"], [0.7, \"#b8e186\"], [0.8, \"#7fbc41\"], [0.9, \"#4d9221\"], [1, \"#276419\"]], \"sequential\": [[0.0, \"#0d0887\"], [0.1111111111111111, \"#46039f\"], [0.2222222222222222, \"#7201a8\"], [0.3333333333333333, \"#9c179e\"], [0.4444444444444444, \"#bd3786\"], [0.5555555555555556, \"#d8576b\"], [0.6666666666666666, \"#ed7953\"], [0.7777777777777778, \"#fb9f3a\"], [0.8888888888888888, \"#fdca26\"], [1.0, \"#f0f921\"]], \"sequentialminus\": [[0.0, \"#0d0887\"], [0.1111111111111111, \"#46039f\"], [0.2222222222222222, \"#7201a8\"], [0.3333333333333333, \"#9c179e\"], [0.4444444444444444, \"#bd3786\"], [0.5555555555555556, \"#d8576b\"], [0.6666666666666666, \"#ed7953\"], [0.7777777777777778, \"#fb9f3a\"], [0.8888888888888888, \"#fdca26\"], [1.0, \"#f0f921\"]]}, \"colorway\": [\"#636efa\", \"#EF553B\", \"#00cc96\", \"#ab63fa\", \"#FFA15A\", \"#19d3f3\", \"#FF6692\", \"#B6E880\", \"#FF97FF\", \"#FECB52\"], \"font\": {\"color\": \"#2a3f5f\"}, \"geo\": {\"bgcolor\": \"white\", \"lakecolor\": \"white\", \"landcolor\": \"#E5ECF6\", \"showlakes\": true, \"showland\": true, \"subunitcolor\": \"white\"}, \"hoverlabel\": {\"align\": \"left\"}, \"hovermode\": \"closest\", \"mapbox\": {\"style\": \"light\"}, \"paper_bgcolor\": \"white\", \"plot_bgcolor\": \"#E5ECF6\", \"polar\": {\"angularaxis\": {\"gridcolor\": \"white\", \"linecolor\": \"white\", \"ticks\": \"\"}, \"bgcolor\": \"#E5ECF6\", \"radialaxis\": {\"gridcolor\": \"white\", \"linecolor\": \"white\", \"ticks\": \"\"}}, \"scene\": {\"xaxis\": {\"backgroundcolor\": \"#E5ECF6\", \"gridcolor\": \"white\", \"gridwidth\": 2, \"linecolor\": \"white\", \"showbackground\": true, \"ticks\": \"\", \"zerolinecolor\": \"white\"}, \"yaxis\": {\"backgroundcolor\": \"#E5ECF6\", \"gridcolor\": \"white\", \"gridwidth\": 2, \"linecolor\": \"white\", \"showbackground\": true, \"ticks\": \"\", \"zerolinecolor\": \"white\"}, \"zaxis\": {\"backgroundcolor\": \"#E5ECF6\", \"gridcolor\": \"white\", \"gridwidth\": 2, \"linecolor\": \"white\", \"showbackground\": true, \"ticks\": \"\", \"zerolinecolor\": \"white\"}}, \"shapedefaults\": {\"line\": {\"color\": \"#2a3f5f\"}}, \"ternary\": {\"aaxis\": {\"gridcolor\": \"white\", \"linecolor\": \"white\", \"ticks\": \"\"}, \"baxis\": {\"gridcolor\": \"white\", \"linecolor\": \"white\", \"ticks\": \"\"}, \"bgcolor\": \"#E5ECF6\", \"caxis\": {\"gridcolor\": \"white\", \"linecolor\": \"white\", \"ticks\": \"\"}}, \"title\": {\"x\": 0.05}, \"xaxis\": {\"automargin\": true, \"gridcolor\": \"white\", \"linecolor\": \"white\", \"ticks\": \"\", \"title\": {\"standoff\": 15}, \"zerolinecolor\": \"white\", \"zerolinewidth\": 2}, \"yaxis\": {\"automargin\": true, \"gridcolor\": \"white\", \"linecolor\": \"white\", \"ticks\": \"\", \"title\": {\"standoff\": 15}, \"zerolinecolor\": \"white\", \"zerolinewidth\": 2}}}, \"title\": {\"text\": \"Average cost per litres\"}, \"width\": 600},\n",
              "                        {\"responsive\": true}\n",
              "                    ).then(function(){\n",
              "                            \n",
              "var gd = document.getElementById('b8a8d2ca-3a93-4ff6-a6b3-1e324234c66c');\n",
              "var x = new MutationObserver(function (mutations, observer) {{\n",
              "        var display = window.getComputedStyle(gd).display;\n",
              "        if (!display || display === 'none') {{\n",
              "            console.log([gd, 'removed!']);\n",
              "            Plotly.purge(gd);\n",
              "            observer.disconnect();\n",
              "        }}\n",
              "}});\n",
              "\n",
              "// Listen for the removal of the full notebook cells\n",
              "var notebookContainer = gd.closest('#notebook-container');\n",
              "if (notebookContainer) {{\n",
              "    x.observe(notebookContainer, {childList: true});\n",
              "}}\n",
              "\n",
              "// Listen for the clearing of the current output cell\n",
              "var outputEl = gd.closest('.output');\n",
              "if (outputEl) {{\n",
              "    x.observe(outputEl, {childList: true});\n",
              "}}\n",
              "\n",
              "                        })\n",
              "                };\n",
              "                \n",
              "            </script>\n",
              "        </div>\n",
              "</body>\n",
              "</html>"
            ]
          },
          "metadata": {
            "tags": []
          }
        }
      ]
    },
    {
      "cell_type": "markdown",
      "metadata": {
        "id": "_1jpOElRl_ab"
      },
      "source": [
        "Цена за литр в 2020 выросла на 80 центов относительно 2019 года. Было или незначительное повышение цен, или предпочтения потребителей сместились в сторону более дорогих сегментов продукции"
      ]
    },
    {
      "cell_type": "markdown",
      "metadata": {
        "id": "8NN09rS7m29z"
      },
      "source": [
        "Следует посмотреть помесячную динамику потребления алкоголя в литрах"
      ]
    },
    {
      "cell_type": "code",
      "metadata": {
        "colab": {
          "base_uri": "https://localhost:8080/",
          "height": 542
        },
        "id": "sX715wu62znd",
        "outputId": "2cd1e49d-1b16-4481-d20b-9e9584ed855a"
      },
      "source": [
        "monthly_df = df.groupby([df.date.dt.year, df.date.dt.month])['volume_sold_liters'].sum()\n",
        "monthly_df.index = monthly_df.index.set_names(['year', 'month'])\n",
        "monthly_df = monthly_df.reset_index()\n",
        "traces = []\n",
        "for i in range(2018, 2021):\n",
        "    store_sales = monthly_df[monthly_df.year == i]\n",
        "    trace = go.Scatter(x= monthly_df.month, y= store_sales.volume_sold_liters, mode= 'lines+markers', name= str(i), line=dict(width=3))\n",
        "    traces.append(trace)\n",
        "layout = go.Layout(autosize=True, title= 'Sales in liters per month', showlegend=True)\n",
        "fig = go.Figure(traces, layout=layout)\n",
        "fig.show()"
      ],
      "execution_count": 43,
      "outputs": [
        {
          "output_type": "display_data",
          "data": {
            "text/html": [
              "<html>\n",
              "<head><meta charset=\"utf-8\" /></head>\n",
              "<body>\n",
              "    <div>\n",
              "            <script src=\"https://cdnjs.cloudflare.com/ajax/libs/mathjax/2.7.5/MathJax.js?config=TeX-AMS-MML_SVG\"></script><script type=\"text/javascript\">if (window.MathJax) {MathJax.Hub.Config({SVG: {font: \"STIX-Web\"}});}</script>\n",
              "                <script type=\"text/javascript\">window.PlotlyConfig = {MathJaxConfig: 'local'};</script>\n",
              "        <script src=\"https://cdn.plot.ly/plotly-latest.min.js\"></script>    \n",
              "            <div id=\"ec2187fc-553b-4def-97d0-7d904fbf7c22\" class=\"plotly-graph-div\" style=\"height:525px; width:100%;\"></div>\n",
              "            <script type=\"text/javascript\">\n",
              "                \n",
              "                    window.PLOTLYENV=window.PLOTLYENV || {};\n",
              "                    \n",
              "                if (document.getElementById(\"ec2187fc-553b-4def-97d0-7d904fbf7c22\")) {\n",
              "                    Plotly.newPlot(\n",
              "                        'ec2187fc-553b-4def-97d0-7d904fbf7c22',\n",
              "                        [{\"line\": {\"width\": 3}, \"mode\": \"lines+markers\", \"name\": \"2018\", \"type\": \"scatter\", \"x\": [1, 2, 3, 4, 5, 6, 7, 8, 9, 10, 11, 12, 1, 2, 3, 4, 5, 6, 7, 8, 9, 10, 11, 12, 1, 2, 3, 4, 5, 6, 7, 8, 9, 10], \"y\": [1515722.010000104, 1541561.0300001036, 1629002.7300001455, 1767687.5100001607, 2067618.2700002508, 1913407.5800002038, 1754940.8700002008, 2025107.2500004766, 1576146.3300002373, 2150140.110000482, 1801354.8500003559, 2153293.6300004725]}, {\"line\": {\"width\": 3}, \"mode\": \"lines+markers\", \"name\": \"2019\", \"type\": \"scatter\", \"x\": [1, 2, 3, 4, 5, 6, 7, 8, 9, 10, 11, 12, 1, 2, 3, 4, 5, 6, 7, 8, 9, 10, 11, 12, 1, 2, 3, 4, 5, 6, 7, 8, 9, 10], \"y\": [1561962.780000261, 1680941.5700002953, 1607152.3700002674, 1856193.5000003963, 2173322.880000459, 1862667.6400003706, 2062816.3800004649, 1807243.960000638, 1748074.9300005871, 2098335.5600007856, 1801591.590000613, 2041118.8600008516]}, {\"line\": {\"width\": 3}, \"mode\": \"lines+markers\", \"name\": \"2020\", \"type\": \"scatter\", \"x\": [1, 2, 3, 4, 5, 6, 7, 8, 9, 10, 11, 12, 1, 2, 3, 4, 5, 6, 7, 8, 9, 10, 11, 12, 1, 2, 3, 4, 5, 6, 7, 8, 9, 10], \"y\": [1566948.2900004778, 1630476.3700004832, 1956066.8100007055, 2036555.5500007162, 2068350.6700008162, 2222712.870000739, 2125808.960000774, 2035082.2900007085, 2210607.5900007356, 2133652.3900007764]}],\n",
              "                        {\"autosize\": true, \"showlegend\": true, \"template\": {\"data\": {\"bar\": [{\"error_x\": {\"color\": \"#2a3f5f\"}, \"error_y\": {\"color\": \"#2a3f5f\"}, \"marker\": {\"line\": {\"color\": \"#E5ECF6\", \"width\": 0.5}}, \"type\": \"bar\"}], \"barpolar\": [{\"marker\": {\"line\": {\"color\": \"#E5ECF6\", \"width\": 0.5}}, \"type\": \"barpolar\"}], \"carpet\": [{\"aaxis\": {\"endlinecolor\": \"#2a3f5f\", \"gridcolor\": \"white\", \"linecolor\": \"white\", \"minorgridcolor\": \"white\", \"startlinecolor\": \"#2a3f5f\"}, \"baxis\": {\"endlinecolor\": \"#2a3f5f\", \"gridcolor\": \"white\", \"linecolor\": \"white\", \"minorgridcolor\": \"white\", \"startlinecolor\": \"#2a3f5f\"}, \"type\": \"carpet\"}], \"choropleth\": [{\"colorbar\": {\"outlinewidth\": 0, \"ticks\": \"\"}, \"type\": \"choropleth\"}], \"contour\": [{\"colorbar\": {\"outlinewidth\": 0, \"ticks\": \"\"}, \"colorscale\": [[0.0, \"#0d0887\"], [0.1111111111111111, \"#46039f\"], [0.2222222222222222, \"#7201a8\"], [0.3333333333333333, \"#9c179e\"], [0.4444444444444444, \"#bd3786\"], [0.5555555555555556, \"#d8576b\"], [0.6666666666666666, \"#ed7953\"], [0.7777777777777778, \"#fb9f3a\"], [0.8888888888888888, \"#fdca26\"], [1.0, \"#f0f921\"]], \"type\": \"contour\"}], \"contourcarpet\": [{\"colorbar\": {\"outlinewidth\": 0, \"ticks\": \"\"}, \"type\": \"contourcarpet\"}], \"heatmap\": [{\"colorbar\": {\"outlinewidth\": 0, \"ticks\": \"\"}, \"colorscale\": [[0.0, \"#0d0887\"], [0.1111111111111111, \"#46039f\"], [0.2222222222222222, \"#7201a8\"], [0.3333333333333333, \"#9c179e\"], [0.4444444444444444, \"#bd3786\"], [0.5555555555555556, \"#d8576b\"], [0.6666666666666666, \"#ed7953\"], [0.7777777777777778, \"#fb9f3a\"], [0.8888888888888888, \"#fdca26\"], [1.0, \"#f0f921\"]], \"type\": \"heatmap\"}], \"heatmapgl\": [{\"colorbar\": {\"outlinewidth\": 0, \"ticks\": \"\"}, \"colorscale\": [[0.0, \"#0d0887\"], [0.1111111111111111, \"#46039f\"], [0.2222222222222222, \"#7201a8\"], [0.3333333333333333, \"#9c179e\"], [0.4444444444444444, \"#bd3786\"], [0.5555555555555556, \"#d8576b\"], [0.6666666666666666, \"#ed7953\"], [0.7777777777777778, \"#fb9f3a\"], [0.8888888888888888, \"#fdca26\"], [1.0, \"#f0f921\"]], \"type\": \"heatmapgl\"}], \"histogram\": [{\"marker\": {\"colorbar\": {\"outlinewidth\": 0, \"ticks\": \"\"}}, \"type\": \"histogram\"}], \"histogram2d\": [{\"colorbar\": {\"outlinewidth\": 0, \"ticks\": \"\"}, \"colorscale\": [[0.0, \"#0d0887\"], [0.1111111111111111, \"#46039f\"], [0.2222222222222222, \"#7201a8\"], [0.3333333333333333, \"#9c179e\"], [0.4444444444444444, \"#bd3786\"], [0.5555555555555556, \"#d8576b\"], [0.6666666666666666, \"#ed7953\"], [0.7777777777777778, \"#fb9f3a\"], [0.8888888888888888, \"#fdca26\"], [1.0, \"#f0f921\"]], \"type\": \"histogram2d\"}], \"histogram2dcontour\": [{\"colorbar\": {\"outlinewidth\": 0, \"ticks\": \"\"}, \"colorscale\": [[0.0, \"#0d0887\"], [0.1111111111111111, \"#46039f\"], [0.2222222222222222, \"#7201a8\"], [0.3333333333333333, \"#9c179e\"], [0.4444444444444444, \"#bd3786\"], [0.5555555555555556, \"#d8576b\"], [0.6666666666666666, \"#ed7953\"], [0.7777777777777778, \"#fb9f3a\"], [0.8888888888888888, \"#fdca26\"], [1.0, \"#f0f921\"]], \"type\": \"histogram2dcontour\"}], \"mesh3d\": [{\"colorbar\": {\"outlinewidth\": 0, \"ticks\": \"\"}, \"type\": \"mesh3d\"}], \"parcoords\": [{\"line\": {\"colorbar\": {\"outlinewidth\": 0, \"ticks\": \"\"}}, \"type\": \"parcoords\"}], \"pie\": [{\"automargin\": true, \"type\": \"pie\"}], \"scatter\": [{\"marker\": {\"colorbar\": {\"outlinewidth\": 0, \"ticks\": \"\"}}, \"type\": \"scatter\"}], \"scatter3d\": [{\"line\": {\"colorbar\": {\"outlinewidth\": 0, \"ticks\": \"\"}}, \"marker\": {\"colorbar\": {\"outlinewidth\": 0, \"ticks\": \"\"}}, \"type\": \"scatter3d\"}], \"scattercarpet\": [{\"marker\": {\"colorbar\": {\"outlinewidth\": 0, \"ticks\": \"\"}}, \"type\": \"scattercarpet\"}], \"scattergeo\": [{\"marker\": {\"colorbar\": {\"outlinewidth\": 0, \"ticks\": \"\"}}, \"type\": \"scattergeo\"}], \"scattergl\": [{\"marker\": {\"colorbar\": {\"outlinewidth\": 0, \"ticks\": \"\"}}, \"type\": \"scattergl\"}], \"scattermapbox\": [{\"marker\": {\"colorbar\": {\"outlinewidth\": 0, \"ticks\": \"\"}}, \"type\": \"scattermapbox\"}], \"scatterpolar\": [{\"marker\": {\"colorbar\": {\"outlinewidth\": 0, \"ticks\": \"\"}}, \"type\": \"scatterpolar\"}], \"scatterpolargl\": [{\"marker\": {\"colorbar\": {\"outlinewidth\": 0, \"ticks\": \"\"}}, \"type\": \"scatterpolargl\"}], \"scatterternary\": [{\"marker\": {\"colorbar\": {\"outlinewidth\": 0, \"ticks\": \"\"}}, \"type\": \"scatterternary\"}], \"surface\": [{\"colorbar\": {\"outlinewidth\": 0, \"ticks\": \"\"}, \"colorscale\": [[0.0, \"#0d0887\"], [0.1111111111111111, \"#46039f\"], [0.2222222222222222, \"#7201a8\"], [0.3333333333333333, \"#9c179e\"], [0.4444444444444444, \"#bd3786\"], [0.5555555555555556, \"#d8576b\"], [0.6666666666666666, \"#ed7953\"], [0.7777777777777778, \"#fb9f3a\"], [0.8888888888888888, \"#fdca26\"], [1.0, \"#f0f921\"]], \"type\": \"surface\"}], \"table\": [{\"cells\": {\"fill\": {\"color\": \"#EBF0F8\"}, \"line\": {\"color\": \"white\"}}, \"header\": {\"fill\": {\"color\": \"#C8D4E3\"}, \"line\": {\"color\": \"white\"}}, \"type\": \"table\"}]}, \"layout\": {\"annotationdefaults\": {\"arrowcolor\": \"#2a3f5f\", \"arrowhead\": 0, \"arrowwidth\": 1}, \"coloraxis\": {\"colorbar\": {\"outlinewidth\": 0, \"ticks\": \"\"}}, \"colorscale\": {\"diverging\": [[0, \"#8e0152\"], [0.1, \"#c51b7d\"], [0.2, \"#de77ae\"], [0.3, \"#f1b6da\"], [0.4, \"#fde0ef\"], [0.5, \"#f7f7f7\"], [0.6, \"#e6f5d0\"], [0.7, \"#b8e186\"], [0.8, \"#7fbc41\"], [0.9, \"#4d9221\"], [1, \"#276419\"]], \"sequential\": [[0.0, \"#0d0887\"], [0.1111111111111111, \"#46039f\"], [0.2222222222222222, \"#7201a8\"], [0.3333333333333333, \"#9c179e\"], [0.4444444444444444, \"#bd3786\"], [0.5555555555555556, \"#d8576b\"], [0.6666666666666666, \"#ed7953\"], [0.7777777777777778, \"#fb9f3a\"], [0.8888888888888888, \"#fdca26\"], [1.0, \"#f0f921\"]], \"sequentialminus\": [[0.0, \"#0d0887\"], [0.1111111111111111, \"#46039f\"], [0.2222222222222222, \"#7201a8\"], [0.3333333333333333, \"#9c179e\"], [0.4444444444444444, \"#bd3786\"], [0.5555555555555556, \"#d8576b\"], [0.6666666666666666, \"#ed7953\"], [0.7777777777777778, \"#fb9f3a\"], [0.8888888888888888, \"#fdca26\"], [1.0, \"#f0f921\"]]}, \"colorway\": [\"#636efa\", \"#EF553B\", \"#00cc96\", \"#ab63fa\", \"#FFA15A\", \"#19d3f3\", \"#FF6692\", \"#B6E880\", \"#FF97FF\", \"#FECB52\"], \"font\": {\"color\": \"#2a3f5f\"}, \"geo\": {\"bgcolor\": \"white\", \"lakecolor\": \"white\", \"landcolor\": \"#E5ECF6\", \"showlakes\": true, \"showland\": true, \"subunitcolor\": \"white\"}, \"hoverlabel\": {\"align\": \"left\"}, \"hovermode\": \"closest\", \"mapbox\": {\"style\": \"light\"}, \"paper_bgcolor\": \"white\", \"plot_bgcolor\": \"#E5ECF6\", \"polar\": {\"angularaxis\": {\"gridcolor\": \"white\", \"linecolor\": \"white\", \"ticks\": \"\"}, \"bgcolor\": \"#E5ECF6\", \"radialaxis\": {\"gridcolor\": \"white\", \"linecolor\": \"white\", \"ticks\": \"\"}}, \"scene\": {\"xaxis\": {\"backgroundcolor\": \"#E5ECF6\", \"gridcolor\": \"white\", \"gridwidth\": 2, \"linecolor\": \"white\", \"showbackground\": true, \"ticks\": \"\", \"zerolinecolor\": \"white\"}, \"yaxis\": {\"backgroundcolor\": \"#E5ECF6\", \"gridcolor\": \"white\", \"gridwidth\": 2, \"linecolor\": \"white\", \"showbackground\": true, \"ticks\": \"\", \"zerolinecolor\": \"white\"}, \"zaxis\": {\"backgroundcolor\": \"#E5ECF6\", \"gridcolor\": \"white\", \"gridwidth\": 2, \"linecolor\": \"white\", \"showbackground\": true, \"ticks\": \"\", \"zerolinecolor\": \"white\"}}, \"shapedefaults\": {\"line\": {\"color\": \"#2a3f5f\"}}, \"ternary\": {\"aaxis\": {\"gridcolor\": \"white\", \"linecolor\": \"white\", \"ticks\": \"\"}, \"baxis\": {\"gridcolor\": \"white\", \"linecolor\": \"white\", \"ticks\": \"\"}, \"bgcolor\": \"#E5ECF6\", \"caxis\": {\"gridcolor\": \"white\", \"linecolor\": \"white\", \"ticks\": \"\"}}, \"title\": {\"x\": 0.05}, \"xaxis\": {\"automargin\": true, \"gridcolor\": \"white\", \"linecolor\": \"white\", \"ticks\": \"\", \"title\": {\"standoff\": 15}, \"zerolinecolor\": \"white\", \"zerolinewidth\": 2}, \"yaxis\": {\"automargin\": true, \"gridcolor\": \"white\", \"linecolor\": \"white\", \"ticks\": \"\", \"title\": {\"standoff\": 15}, \"zerolinecolor\": \"white\", \"zerolinewidth\": 2}}}, \"title\": {\"text\": \"Sales in liters per month\"}},\n",
              "                        {\"responsive\": true}\n",
              "                    ).then(function(){\n",
              "                            \n",
              "var gd = document.getElementById('ec2187fc-553b-4def-97d0-7d904fbf7c22');\n",
              "var x = new MutationObserver(function (mutations, observer) {{\n",
              "        var display = window.getComputedStyle(gd).display;\n",
              "        if (!display || display === 'none') {{\n",
              "            console.log([gd, 'removed!']);\n",
              "            Plotly.purge(gd);\n",
              "            observer.disconnect();\n",
              "        }}\n",
              "}});\n",
              "\n",
              "// Listen for the removal of the full notebook cells\n",
              "var notebookContainer = gd.closest('#notebook-container');\n",
              "if (notebookContainer) {{\n",
              "    x.observe(notebookContainer, {childList: true});\n",
              "}}\n",
              "\n",
              "// Listen for the clearing of the current output cell\n",
              "var outputEl = gd.closest('.output');\n",
              "if (outputEl) {{\n",
              "    x.observe(outputEl, {childList: true});\n",
              "}}\n",
              "\n",
              "                        })\n",
              "                };\n",
              "                \n",
              "            </script>\n",
              "        </div>\n",
              "</body>\n",
              "</html>"
            ]
          },
          "metadata": {
            "tags": []
          }
        }
      ]
    },
    {
      "cell_type": "markdown",
      "metadata": {
        "id": "B1h4Zkl7noU4"
      },
      "source": [
        "Динамика показывает, что значительный скачки продаж, нетипичный для двух предыдущих годов произошли в марте 2020. Согласно https://en.wikipedia.org/wiki/COVID-19_pandemic_in_Iowa в марте это могло быть из-за паники, вызванной Covid. Таким образом произошел сдвиг пиков сезонного спроса из-за накопленных запасов с мая на июнь."
      ]
    },
    {
      "cell_type": "code",
      "metadata": {
        "colab": {
          "base_uri": "https://localhost:8080/",
          "height": 542
        },
        "id": "6dAImlQz-NAn",
        "outputId": "bee9488c-b157-47a0-bfbb-67b9106c3e0d"
      },
      "source": [
        "monthly_df = df.groupby([df.date.dt.year, df.date.dt.month])['volume_sold_liters'].sum()\n",
        "monthly_df.index = monthly_df.index.set_names(['year', 'month'])\n",
        "monthly_df = monthly_df.reset_index()\n",
        "x_axis = []\n",
        "for y in range(2018, 2021):\n",
        "    for m in range(1,13):\n",
        "        x_axis.append(\"{}/{}\".format(m,y))\n",
        "trace = go.Scatter(x= x_axis, y= monthly_df.volume_sold_liters, mode= 'lines+markers', name= 'sales avg per month', line=dict(width=3))\n",
        "layout = go.Layout(autosize=True, title= 'Sales in liters per month', showlegend=True)\n",
        "fig = go.Figure(data=[trace], layout=layout)\n",
        "fig.show()"
      ],
      "execution_count": 44,
      "outputs": [
        {
          "output_type": "display_data",
          "data": {
            "text/html": [
              "<html>\n",
              "<head><meta charset=\"utf-8\" /></head>\n",
              "<body>\n",
              "    <div>\n",
              "            <script src=\"https://cdnjs.cloudflare.com/ajax/libs/mathjax/2.7.5/MathJax.js?config=TeX-AMS-MML_SVG\"></script><script type=\"text/javascript\">if (window.MathJax) {MathJax.Hub.Config({SVG: {font: \"STIX-Web\"}});}</script>\n",
              "                <script type=\"text/javascript\">window.PlotlyConfig = {MathJaxConfig: 'local'};</script>\n",
              "        <script src=\"https://cdn.plot.ly/plotly-latest.min.js\"></script>    \n",
              "            <div id=\"ccf8397a-313a-46a5-a907-c7802006f753\" class=\"plotly-graph-div\" style=\"height:525px; width:100%;\"></div>\n",
              "            <script type=\"text/javascript\">\n",
              "                \n",
              "                    window.PLOTLYENV=window.PLOTLYENV || {};\n",
              "                    \n",
              "                if (document.getElementById(\"ccf8397a-313a-46a5-a907-c7802006f753\")) {\n",
              "                    Plotly.newPlot(\n",
              "                        'ccf8397a-313a-46a5-a907-c7802006f753',\n",
              "                        [{\"line\": {\"width\": 3}, \"mode\": \"lines+markers\", \"name\": \"sales avg per month\", \"type\": \"scatter\", \"x\": [\"1/2018\", \"2/2018\", \"3/2018\", \"4/2018\", \"5/2018\", \"6/2018\", \"7/2018\", \"8/2018\", \"9/2018\", \"10/2018\", \"11/2018\", \"12/2018\", \"1/2019\", \"2/2019\", \"3/2019\", \"4/2019\", \"5/2019\", \"6/2019\", \"7/2019\", \"8/2019\", \"9/2019\", \"10/2019\", \"11/2019\", \"12/2019\", \"1/2020\", \"2/2020\", \"3/2020\", \"4/2020\", \"5/2020\", \"6/2020\", \"7/2020\", \"8/2020\", \"9/2020\", \"10/2020\", \"11/2020\", \"12/2020\"], \"y\": [1515722.010000104, 1541561.0300001036, 1629002.7300001455, 1767687.5100001607, 2067618.2700002508, 1913407.5800002038, 1754940.8700002008, 2025107.2500004766, 1576146.3300002373, 2150140.110000482, 1801354.8500003559, 2153293.6300004725, 1561962.780000261, 1680941.5700002953, 1607152.3700002674, 1856193.5000003963, 2173322.880000459, 1862667.6400003706, 2062816.3800004649, 1807243.960000638, 1748074.9300005871, 2098335.5600007856, 1801591.590000613, 2041118.8600008516, 1566948.2900004778, 1630476.3700004832, 1956066.8100007055, 2036555.5500007162, 2068350.6700008162, 2222712.870000739, 2125808.960000774, 2035082.2900007085, 2210607.5900007356, 2133652.3900007764]}],\n",
              "                        {\"autosize\": true, \"showlegend\": true, \"template\": {\"data\": {\"bar\": [{\"error_x\": {\"color\": \"#2a3f5f\"}, \"error_y\": {\"color\": \"#2a3f5f\"}, \"marker\": {\"line\": {\"color\": \"#E5ECF6\", \"width\": 0.5}}, \"type\": \"bar\"}], \"barpolar\": [{\"marker\": {\"line\": {\"color\": \"#E5ECF6\", \"width\": 0.5}}, \"type\": \"barpolar\"}], \"carpet\": [{\"aaxis\": {\"endlinecolor\": \"#2a3f5f\", \"gridcolor\": \"white\", \"linecolor\": \"white\", \"minorgridcolor\": \"white\", \"startlinecolor\": \"#2a3f5f\"}, \"baxis\": {\"endlinecolor\": \"#2a3f5f\", \"gridcolor\": \"white\", \"linecolor\": \"white\", \"minorgridcolor\": \"white\", \"startlinecolor\": \"#2a3f5f\"}, \"type\": \"carpet\"}], \"choropleth\": [{\"colorbar\": {\"outlinewidth\": 0, \"ticks\": \"\"}, \"type\": \"choropleth\"}], \"contour\": [{\"colorbar\": {\"outlinewidth\": 0, \"ticks\": \"\"}, \"colorscale\": [[0.0, \"#0d0887\"], [0.1111111111111111, \"#46039f\"], [0.2222222222222222, \"#7201a8\"], [0.3333333333333333, \"#9c179e\"], [0.4444444444444444, \"#bd3786\"], [0.5555555555555556, \"#d8576b\"], [0.6666666666666666, \"#ed7953\"], [0.7777777777777778, \"#fb9f3a\"], [0.8888888888888888, \"#fdca26\"], [1.0, \"#f0f921\"]], \"type\": \"contour\"}], \"contourcarpet\": [{\"colorbar\": {\"outlinewidth\": 0, \"ticks\": \"\"}, \"type\": \"contourcarpet\"}], \"heatmap\": [{\"colorbar\": {\"outlinewidth\": 0, \"ticks\": \"\"}, \"colorscale\": [[0.0, \"#0d0887\"], [0.1111111111111111, \"#46039f\"], [0.2222222222222222, \"#7201a8\"], [0.3333333333333333, \"#9c179e\"], [0.4444444444444444, \"#bd3786\"], [0.5555555555555556, \"#d8576b\"], [0.6666666666666666, \"#ed7953\"], [0.7777777777777778, \"#fb9f3a\"], [0.8888888888888888, \"#fdca26\"], [1.0, \"#f0f921\"]], \"type\": \"heatmap\"}], \"heatmapgl\": [{\"colorbar\": {\"outlinewidth\": 0, \"ticks\": \"\"}, \"colorscale\": [[0.0, \"#0d0887\"], [0.1111111111111111, \"#46039f\"], [0.2222222222222222, \"#7201a8\"], [0.3333333333333333, \"#9c179e\"], [0.4444444444444444, \"#bd3786\"], [0.5555555555555556, \"#d8576b\"], [0.6666666666666666, \"#ed7953\"], [0.7777777777777778, \"#fb9f3a\"], [0.8888888888888888, \"#fdca26\"], [1.0, \"#f0f921\"]], \"type\": \"heatmapgl\"}], \"histogram\": [{\"marker\": {\"colorbar\": {\"outlinewidth\": 0, \"ticks\": \"\"}}, \"type\": \"histogram\"}], \"histogram2d\": [{\"colorbar\": {\"outlinewidth\": 0, \"ticks\": \"\"}, \"colorscale\": [[0.0, \"#0d0887\"], [0.1111111111111111, \"#46039f\"], [0.2222222222222222, \"#7201a8\"], [0.3333333333333333, \"#9c179e\"], [0.4444444444444444, \"#bd3786\"], [0.5555555555555556, \"#d8576b\"], [0.6666666666666666, \"#ed7953\"], [0.7777777777777778, \"#fb9f3a\"], [0.8888888888888888, \"#fdca26\"], [1.0, \"#f0f921\"]], \"type\": \"histogram2d\"}], \"histogram2dcontour\": [{\"colorbar\": {\"outlinewidth\": 0, \"ticks\": \"\"}, \"colorscale\": [[0.0, \"#0d0887\"], [0.1111111111111111, \"#46039f\"], [0.2222222222222222, \"#7201a8\"], [0.3333333333333333, \"#9c179e\"], [0.4444444444444444, \"#bd3786\"], [0.5555555555555556, \"#d8576b\"], [0.6666666666666666, \"#ed7953\"], [0.7777777777777778, \"#fb9f3a\"], [0.8888888888888888, \"#fdca26\"], [1.0, \"#f0f921\"]], \"type\": \"histogram2dcontour\"}], \"mesh3d\": [{\"colorbar\": {\"outlinewidth\": 0, \"ticks\": \"\"}, \"type\": \"mesh3d\"}], \"parcoords\": [{\"line\": {\"colorbar\": {\"outlinewidth\": 0, \"ticks\": \"\"}}, \"type\": \"parcoords\"}], \"pie\": [{\"automargin\": true, \"type\": \"pie\"}], \"scatter\": [{\"marker\": {\"colorbar\": {\"outlinewidth\": 0, \"ticks\": \"\"}}, \"type\": \"scatter\"}], \"scatter3d\": [{\"line\": {\"colorbar\": {\"outlinewidth\": 0, \"ticks\": \"\"}}, \"marker\": {\"colorbar\": {\"outlinewidth\": 0, \"ticks\": \"\"}}, \"type\": \"scatter3d\"}], \"scattercarpet\": [{\"marker\": {\"colorbar\": {\"outlinewidth\": 0, \"ticks\": \"\"}}, \"type\": \"scattercarpet\"}], \"scattergeo\": [{\"marker\": {\"colorbar\": {\"outlinewidth\": 0, \"ticks\": \"\"}}, \"type\": \"scattergeo\"}], \"scattergl\": [{\"marker\": {\"colorbar\": {\"outlinewidth\": 0, \"ticks\": \"\"}}, \"type\": \"scattergl\"}], \"scattermapbox\": [{\"marker\": {\"colorbar\": {\"outlinewidth\": 0, \"ticks\": \"\"}}, \"type\": \"scattermapbox\"}], \"scatterpolar\": [{\"marker\": {\"colorbar\": {\"outlinewidth\": 0, \"ticks\": \"\"}}, \"type\": \"scatterpolar\"}], \"scatterpolargl\": [{\"marker\": {\"colorbar\": {\"outlinewidth\": 0, \"ticks\": \"\"}}, \"type\": \"scatterpolargl\"}], \"scatterternary\": [{\"marker\": {\"colorbar\": {\"outlinewidth\": 0, \"ticks\": \"\"}}, \"type\": \"scatterternary\"}], \"surface\": [{\"colorbar\": {\"outlinewidth\": 0, \"ticks\": \"\"}, \"colorscale\": [[0.0, \"#0d0887\"], [0.1111111111111111, \"#46039f\"], [0.2222222222222222, \"#7201a8\"], [0.3333333333333333, \"#9c179e\"], [0.4444444444444444, \"#bd3786\"], [0.5555555555555556, \"#d8576b\"], [0.6666666666666666, \"#ed7953\"], [0.7777777777777778, \"#fb9f3a\"], [0.8888888888888888, \"#fdca26\"], [1.0, \"#f0f921\"]], \"type\": \"surface\"}], \"table\": [{\"cells\": {\"fill\": {\"color\": \"#EBF0F8\"}, \"line\": {\"color\": \"white\"}}, \"header\": {\"fill\": {\"color\": \"#C8D4E3\"}, \"line\": {\"color\": \"white\"}}, \"type\": \"table\"}]}, \"layout\": {\"annotationdefaults\": {\"arrowcolor\": \"#2a3f5f\", \"arrowhead\": 0, \"arrowwidth\": 1}, \"coloraxis\": {\"colorbar\": {\"outlinewidth\": 0, \"ticks\": \"\"}}, \"colorscale\": {\"diverging\": [[0, \"#8e0152\"], [0.1, \"#c51b7d\"], [0.2, \"#de77ae\"], [0.3, \"#f1b6da\"], [0.4, \"#fde0ef\"], [0.5, \"#f7f7f7\"], [0.6, \"#e6f5d0\"], [0.7, \"#b8e186\"], [0.8, \"#7fbc41\"], [0.9, \"#4d9221\"], [1, \"#276419\"]], \"sequential\": [[0.0, \"#0d0887\"], [0.1111111111111111, \"#46039f\"], [0.2222222222222222, \"#7201a8\"], [0.3333333333333333, \"#9c179e\"], [0.4444444444444444, \"#bd3786\"], [0.5555555555555556, \"#d8576b\"], [0.6666666666666666, \"#ed7953\"], [0.7777777777777778, \"#fb9f3a\"], [0.8888888888888888, \"#fdca26\"], [1.0, \"#f0f921\"]], \"sequentialminus\": [[0.0, \"#0d0887\"], [0.1111111111111111, \"#46039f\"], [0.2222222222222222, \"#7201a8\"], [0.3333333333333333, \"#9c179e\"], [0.4444444444444444, \"#bd3786\"], [0.5555555555555556, \"#d8576b\"], [0.6666666666666666, \"#ed7953\"], [0.7777777777777778, \"#fb9f3a\"], [0.8888888888888888, \"#fdca26\"], [1.0, \"#f0f921\"]]}, \"colorway\": [\"#636efa\", \"#EF553B\", \"#00cc96\", \"#ab63fa\", \"#FFA15A\", \"#19d3f3\", \"#FF6692\", \"#B6E880\", \"#FF97FF\", \"#FECB52\"], \"font\": {\"color\": \"#2a3f5f\"}, \"geo\": {\"bgcolor\": \"white\", \"lakecolor\": \"white\", \"landcolor\": \"#E5ECF6\", \"showlakes\": true, \"showland\": true, \"subunitcolor\": \"white\"}, \"hoverlabel\": {\"align\": \"left\"}, \"hovermode\": \"closest\", \"mapbox\": {\"style\": \"light\"}, \"paper_bgcolor\": \"white\", \"plot_bgcolor\": \"#E5ECF6\", \"polar\": {\"angularaxis\": {\"gridcolor\": \"white\", \"linecolor\": \"white\", \"ticks\": \"\"}, \"bgcolor\": \"#E5ECF6\", \"radialaxis\": {\"gridcolor\": \"white\", \"linecolor\": \"white\", \"ticks\": \"\"}}, \"scene\": {\"xaxis\": {\"backgroundcolor\": \"#E5ECF6\", \"gridcolor\": \"white\", \"gridwidth\": 2, \"linecolor\": \"white\", \"showbackground\": true, \"ticks\": \"\", \"zerolinecolor\": \"white\"}, \"yaxis\": {\"backgroundcolor\": \"#E5ECF6\", \"gridcolor\": \"white\", \"gridwidth\": 2, \"linecolor\": \"white\", \"showbackground\": true, \"ticks\": \"\", \"zerolinecolor\": \"white\"}, \"zaxis\": {\"backgroundcolor\": \"#E5ECF6\", \"gridcolor\": \"white\", \"gridwidth\": 2, \"linecolor\": \"white\", \"showbackground\": true, \"ticks\": \"\", \"zerolinecolor\": \"white\"}}, \"shapedefaults\": {\"line\": {\"color\": \"#2a3f5f\"}}, \"ternary\": {\"aaxis\": {\"gridcolor\": \"white\", \"linecolor\": \"white\", \"ticks\": \"\"}, \"baxis\": {\"gridcolor\": \"white\", \"linecolor\": \"white\", \"ticks\": \"\"}, \"bgcolor\": \"#E5ECF6\", \"caxis\": {\"gridcolor\": \"white\", \"linecolor\": \"white\", \"ticks\": \"\"}}, \"title\": {\"x\": 0.05}, \"xaxis\": {\"automargin\": true, \"gridcolor\": \"white\", \"linecolor\": \"white\", \"ticks\": \"\", \"title\": {\"standoff\": 15}, \"zerolinecolor\": \"white\", \"zerolinewidth\": 2}, \"yaxis\": {\"automargin\": true, \"gridcolor\": \"white\", \"linecolor\": \"white\", \"ticks\": \"\", \"title\": {\"standoff\": 15}, \"zerolinecolor\": \"white\", \"zerolinewidth\": 2}}}, \"title\": {\"text\": \"Sales in liters per month\"}},\n",
              "                        {\"responsive\": true}\n",
              "                    ).then(function(){\n",
              "                            \n",
              "var gd = document.getElementById('ccf8397a-313a-46a5-a907-c7802006f753');\n",
              "var x = new MutationObserver(function (mutations, observer) {{\n",
              "        var display = window.getComputedStyle(gd).display;\n",
              "        if (!display || display === 'none') {{\n",
              "            console.log([gd, 'removed!']);\n",
              "            Plotly.purge(gd);\n",
              "            observer.disconnect();\n",
              "        }}\n",
              "}});\n",
              "\n",
              "// Listen for the removal of the full notebook cells\n",
              "var notebookContainer = gd.closest('#notebook-container');\n",
              "if (notebookContainer) {{\n",
              "    x.observe(notebookContainer, {childList: true});\n",
              "}}\n",
              "\n",
              "// Listen for the clearing of the current output cell\n",
              "var outputEl = gd.closest('.output');\n",
              "if (outputEl) {{\n",
              "    x.observe(outputEl, {childList: true});\n",
              "}}\n",
              "\n",
              "                        })\n",
              "                };\n",
              "                \n",
              "            </script>\n",
              "        </div>\n",
              "</body>\n",
              "</html>"
            ]
          },
          "metadata": {
            "tags": []
          }
        }
      ]
    },
    {
      "cell_type": "markdown",
      "metadata": {
        "id": "OpGDlZvE3shO"
      },
      "source": [
        "Посмотрим как изменились покупательские предпочтения в течении трех лет по категориям продукции."
      ]
    },
    {
      "cell_type": "code",
      "metadata": {
        "colab": {
          "base_uri": "https://localhost:8080/",
          "height": 542
        },
        "id": "RnZZxtjYtACb",
        "outputId": "1eb0e1b9-d372-4f56-e2c3-38d5ba1776b6"
      },
      "source": [
        "category_percent= df.groupby([df.date.dt.year, 'category_name']).agg({'volume_sold_liters': 'sum'})\n",
        "category_percent= category_percent.groupby(level=0).apply(lambda x: 100*x / float(x.sum()))\n",
        "category_percent=category_percent.sort_values(['date','volume_sold_liters'], ascending=False).reset_index()\n",
        "category_percent=category_percent.groupby(['date']).head(5)\n",
        "fig = go.Figure(data=[\n",
        "                      go.Bar(name='2020', x=category_percent[category_percent['date']==2020].category_name, \n",
        "                      y=category_percent[category_percent['date']==2020].volume_sold_liters, \n",
        "                      text=round(category_percent[category_percent['date']==2020].volume_sold_liters, 0), textposition='outside'),\n",
        "                      go.Bar(name='2019', x=category_percent[category_percent['date']==2019].category_name, \n",
        "                      y=category_percent[category_percent['date']==2019].volume_sold_liters, \n",
        "                      text=round(category_percent[category_percent['date']==2019].volume_sold_liters, 0), textposition='outside'), \n",
        "                      go.Bar(name='2018', x=category_percent[category_percent['date']==2018].category_name, \n",
        "                      y=category_percent[category_percent['date']==2018].volume_sold_liters, \n",
        "                      text=round(category_percent[category_percent['date']==2018].volume_sold_liters, 0), textposition='outside')            \n",
        "])   \n",
        "fig.update_layout(barmode='group', title= 'TOP-5 sales categories in liters per year (percentage of TOTAL SUM by year)', showlegend=True)\n",
        "fig.show()"
      ],
      "execution_count": 45,
      "outputs": [
        {
          "output_type": "display_data",
          "data": {
            "text/html": [
              "<html>\n",
              "<head><meta charset=\"utf-8\" /></head>\n",
              "<body>\n",
              "    <div>\n",
              "            <script src=\"https://cdnjs.cloudflare.com/ajax/libs/mathjax/2.7.5/MathJax.js?config=TeX-AMS-MML_SVG\"></script><script type=\"text/javascript\">if (window.MathJax) {MathJax.Hub.Config({SVG: {font: \"STIX-Web\"}});}</script>\n",
              "                <script type=\"text/javascript\">window.PlotlyConfig = {MathJaxConfig: 'local'};</script>\n",
              "        <script src=\"https://cdn.plot.ly/plotly-latest.min.js\"></script>    \n",
              "            <div id=\"039c83b0-b94c-47ad-8e8a-4af7e6a89578\" class=\"plotly-graph-div\" style=\"height:525px; width:100%;\"></div>\n",
              "            <script type=\"text/javascript\">\n",
              "                \n",
              "                    window.PLOTLYENV=window.PLOTLYENV || {};\n",
              "                    \n",
              "                if (document.getElementById(\"039c83b0-b94c-47ad-8e8a-4af7e6a89578\")) {\n",
              "                    Plotly.newPlot(\n",
              "                        '039c83b0-b94c-47ad-8e8a-4af7e6a89578',\n",
              "                        [{\"name\": \"2020\", \"text\": [24.0, 12.0, 6.0, 5.0, 5.0], \"textposition\": \"outside\", \"type\": \"bar\", \"x\": [\"American Vodkas\", \"Canadian Whiskies\", \"Spiced Rum\", \"Cocktails /RTD\", \"Straight Bourbon Whiskies\"], \"y\": [23.52911344508017, 12.273045984155905, 6.15609253460112, 5.484632351550886, 5.153743560566025]}, {\"name\": \"2019\", \"text\": [23.0, 13.0, 6.0, 5.0, 5.0], \"textposition\": \"outside\", \"type\": \"bar\", \"x\": [\"American Vodkas\", \"Canadian Whiskies\", \"Spiced Rum\", \"Whiskey Liqueur\", \"Straight Bourbon Whiskies\"], \"y\": [23.421559689402116, 12.854509579836076, 6.242198855084801, 4.9854544656524835, 4.815333161432332]}, {\"name\": \"2018\", \"text\": [23.0, 13.0, 7.0, 5.0, 5.0], \"textposition\": \"outside\", \"type\": \"bar\", \"x\": [\"American Vodkas\", \"Canadian Whiskies\", \"Spiced Rum\", \"Straight Bourbon Whiskies\", \"Whiskey Liqueur\"], \"y\": [22.90289556807852, 13.037701747454397, 6.61499721160951, 4.6546811286518555, 4.568062360638713]}],\n",
              "                        {\"barmode\": \"group\", \"showlegend\": true, \"template\": {\"data\": {\"bar\": [{\"error_x\": {\"color\": \"#2a3f5f\"}, \"error_y\": {\"color\": \"#2a3f5f\"}, \"marker\": {\"line\": {\"color\": \"#E5ECF6\", \"width\": 0.5}}, \"type\": \"bar\"}], \"barpolar\": [{\"marker\": {\"line\": {\"color\": \"#E5ECF6\", \"width\": 0.5}}, \"type\": \"barpolar\"}], \"carpet\": [{\"aaxis\": {\"endlinecolor\": \"#2a3f5f\", \"gridcolor\": \"white\", \"linecolor\": \"white\", \"minorgridcolor\": \"white\", \"startlinecolor\": \"#2a3f5f\"}, \"baxis\": {\"endlinecolor\": \"#2a3f5f\", \"gridcolor\": \"white\", \"linecolor\": \"white\", \"minorgridcolor\": \"white\", \"startlinecolor\": \"#2a3f5f\"}, \"type\": \"carpet\"}], \"choropleth\": [{\"colorbar\": {\"outlinewidth\": 0, \"ticks\": \"\"}, \"type\": \"choropleth\"}], \"contour\": [{\"colorbar\": {\"outlinewidth\": 0, \"ticks\": \"\"}, \"colorscale\": [[0.0, \"#0d0887\"], [0.1111111111111111, \"#46039f\"], [0.2222222222222222, \"#7201a8\"], [0.3333333333333333, \"#9c179e\"], [0.4444444444444444, \"#bd3786\"], [0.5555555555555556, \"#d8576b\"], [0.6666666666666666, \"#ed7953\"], [0.7777777777777778, \"#fb9f3a\"], [0.8888888888888888, \"#fdca26\"], [1.0, \"#f0f921\"]], \"type\": \"contour\"}], \"contourcarpet\": [{\"colorbar\": {\"outlinewidth\": 0, \"ticks\": \"\"}, \"type\": \"contourcarpet\"}], \"heatmap\": [{\"colorbar\": {\"outlinewidth\": 0, \"ticks\": \"\"}, \"colorscale\": [[0.0, \"#0d0887\"], [0.1111111111111111, \"#46039f\"], [0.2222222222222222, \"#7201a8\"], [0.3333333333333333, \"#9c179e\"], [0.4444444444444444, \"#bd3786\"], [0.5555555555555556, \"#d8576b\"], [0.6666666666666666, \"#ed7953\"], [0.7777777777777778, \"#fb9f3a\"], [0.8888888888888888, \"#fdca26\"], [1.0, \"#f0f921\"]], \"type\": \"heatmap\"}], \"heatmapgl\": [{\"colorbar\": {\"outlinewidth\": 0, \"ticks\": \"\"}, \"colorscale\": [[0.0, \"#0d0887\"], [0.1111111111111111, \"#46039f\"], [0.2222222222222222, \"#7201a8\"], [0.3333333333333333, \"#9c179e\"], [0.4444444444444444, \"#bd3786\"], [0.5555555555555556, \"#d8576b\"], [0.6666666666666666, \"#ed7953\"], [0.7777777777777778, \"#fb9f3a\"], [0.8888888888888888, \"#fdca26\"], [1.0, \"#f0f921\"]], \"type\": \"heatmapgl\"}], \"histogram\": [{\"marker\": {\"colorbar\": {\"outlinewidth\": 0, \"ticks\": \"\"}}, \"type\": \"histogram\"}], \"histogram2d\": [{\"colorbar\": {\"outlinewidth\": 0, \"ticks\": \"\"}, \"colorscale\": [[0.0, \"#0d0887\"], [0.1111111111111111, \"#46039f\"], [0.2222222222222222, \"#7201a8\"], [0.3333333333333333, \"#9c179e\"], [0.4444444444444444, \"#bd3786\"], [0.5555555555555556, \"#d8576b\"], [0.6666666666666666, \"#ed7953\"], [0.7777777777777778, \"#fb9f3a\"], [0.8888888888888888, \"#fdca26\"], [1.0, \"#f0f921\"]], \"type\": \"histogram2d\"}], \"histogram2dcontour\": [{\"colorbar\": {\"outlinewidth\": 0, \"ticks\": \"\"}, \"colorscale\": [[0.0, \"#0d0887\"], [0.1111111111111111, \"#46039f\"], [0.2222222222222222, \"#7201a8\"], [0.3333333333333333, \"#9c179e\"], [0.4444444444444444, \"#bd3786\"], [0.5555555555555556, \"#d8576b\"], [0.6666666666666666, \"#ed7953\"], [0.7777777777777778, \"#fb9f3a\"], [0.8888888888888888, \"#fdca26\"], [1.0, \"#f0f921\"]], \"type\": \"histogram2dcontour\"}], \"mesh3d\": [{\"colorbar\": {\"outlinewidth\": 0, \"ticks\": \"\"}, \"type\": \"mesh3d\"}], \"parcoords\": [{\"line\": {\"colorbar\": {\"outlinewidth\": 0, \"ticks\": \"\"}}, \"type\": \"parcoords\"}], \"pie\": [{\"automargin\": true, \"type\": \"pie\"}], \"scatter\": [{\"marker\": {\"colorbar\": {\"outlinewidth\": 0, \"ticks\": \"\"}}, \"type\": \"scatter\"}], \"scatter3d\": [{\"line\": {\"colorbar\": {\"outlinewidth\": 0, \"ticks\": \"\"}}, \"marker\": {\"colorbar\": {\"outlinewidth\": 0, \"ticks\": \"\"}}, \"type\": \"scatter3d\"}], \"scattercarpet\": [{\"marker\": {\"colorbar\": {\"outlinewidth\": 0, \"ticks\": \"\"}}, \"type\": \"scattercarpet\"}], \"scattergeo\": [{\"marker\": {\"colorbar\": {\"outlinewidth\": 0, \"ticks\": \"\"}}, \"type\": \"scattergeo\"}], \"scattergl\": [{\"marker\": {\"colorbar\": {\"outlinewidth\": 0, \"ticks\": \"\"}}, \"type\": \"scattergl\"}], \"scattermapbox\": [{\"marker\": {\"colorbar\": {\"outlinewidth\": 0, \"ticks\": \"\"}}, \"type\": \"scattermapbox\"}], \"scatterpolar\": [{\"marker\": {\"colorbar\": {\"outlinewidth\": 0, \"ticks\": \"\"}}, \"type\": \"scatterpolar\"}], \"scatterpolargl\": [{\"marker\": {\"colorbar\": {\"outlinewidth\": 0, \"ticks\": \"\"}}, \"type\": \"scatterpolargl\"}], \"scatterternary\": [{\"marker\": {\"colorbar\": {\"outlinewidth\": 0, \"ticks\": \"\"}}, \"type\": \"scatterternary\"}], \"surface\": [{\"colorbar\": {\"outlinewidth\": 0, \"ticks\": \"\"}, \"colorscale\": [[0.0, \"#0d0887\"], [0.1111111111111111, \"#46039f\"], [0.2222222222222222, \"#7201a8\"], [0.3333333333333333, \"#9c179e\"], [0.4444444444444444, \"#bd3786\"], [0.5555555555555556, \"#d8576b\"], [0.6666666666666666, \"#ed7953\"], [0.7777777777777778, \"#fb9f3a\"], [0.8888888888888888, \"#fdca26\"], [1.0, \"#f0f921\"]], \"type\": \"surface\"}], \"table\": [{\"cells\": {\"fill\": {\"color\": \"#EBF0F8\"}, \"line\": {\"color\": \"white\"}}, \"header\": {\"fill\": {\"color\": \"#C8D4E3\"}, \"line\": {\"color\": \"white\"}}, \"type\": \"table\"}]}, \"layout\": {\"annotationdefaults\": {\"arrowcolor\": \"#2a3f5f\", \"arrowhead\": 0, \"arrowwidth\": 1}, \"coloraxis\": {\"colorbar\": {\"outlinewidth\": 0, \"ticks\": \"\"}}, \"colorscale\": {\"diverging\": [[0, \"#8e0152\"], [0.1, \"#c51b7d\"], [0.2, \"#de77ae\"], [0.3, \"#f1b6da\"], [0.4, \"#fde0ef\"], [0.5, \"#f7f7f7\"], [0.6, \"#e6f5d0\"], [0.7, \"#b8e186\"], [0.8, \"#7fbc41\"], [0.9, \"#4d9221\"], [1, \"#276419\"]], \"sequential\": [[0.0, \"#0d0887\"], [0.1111111111111111, \"#46039f\"], [0.2222222222222222, \"#7201a8\"], [0.3333333333333333, \"#9c179e\"], [0.4444444444444444, \"#bd3786\"], [0.5555555555555556, \"#d8576b\"], [0.6666666666666666, \"#ed7953\"], [0.7777777777777778, \"#fb9f3a\"], [0.8888888888888888, \"#fdca26\"], [1.0, \"#f0f921\"]], \"sequentialminus\": [[0.0, \"#0d0887\"], [0.1111111111111111, \"#46039f\"], [0.2222222222222222, \"#7201a8\"], [0.3333333333333333, \"#9c179e\"], [0.4444444444444444, \"#bd3786\"], [0.5555555555555556, \"#d8576b\"], [0.6666666666666666, \"#ed7953\"], [0.7777777777777778, \"#fb9f3a\"], [0.8888888888888888, \"#fdca26\"], [1.0, \"#f0f921\"]]}, \"colorway\": [\"#636efa\", \"#EF553B\", \"#00cc96\", \"#ab63fa\", \"#FFA15A\", \"#19d3f3\", \"#FF6692\", \"#B6E880\", \"#FF97FF\", \"#FECB52\"], \"font\": {\"color\": \"#2a3f5f\"}, \"geo\": {\"bgcolor\": \"white\", \"lakecolor\": \"white\", \"landcolor\": \"#E5ECF6\", \"showlakes\": true, \"showland\": true, \"subunitcolor\": \"white\"}, \"hoverlabel\": {\"align\": \"left\"}, \"hovermode\": \"closest\", \"mapbox\": {\"style\": \"light\"}, \"paper_bgcolor\": \"white\", \"plot_bgcolor\": \"#E5ECF6\", \"polar\": {\"angularaxis\": {\"gridcolor\": \"white\", \"linecolor\": \"white\", \"ticks\": \"\"}, \"bgcolor\": \"#E5ECF6\", \"radialaxis\": {\"gridcolor\": \"white\", \"linecolor\": \"white\", \"ticks\": \"\"}}, \"scene\": {\"xaxis\": {\"backgroundcolor\": \"#E5ECF6\", \"gridcolor\": \"white\", \"gridwidth\": 2, \"linecolor\": \"white\", \"showbackground\": true, \"ticks\": \"\", \"zerolinecolor\": \"white\"}, \"yaxis\": {\"backgroundcolor\": \"#E5ECF6\", \"gridcolor\": \"white\", \"gridwidth\": 2, \"linecolor\": \"white\", \"showbackground\": true, \"ticks\": \"\", \"zerolinecolor\": \"white\"}, \"zaxis\": {\"backgroundcolor\": \"#E5ECF6\", \"gridcolor\": \"white\", \"gridwidth\": 2, \"linecolor\": \"white\", \"showbackground\": true, \"ticks\": \"\", \"zerolinecolor\": \"white\"}}, \"shapedefaults\": {\"line\": {\"color\": \"#2a3f5f\"}}, \"ternary\": {\"aaxis\": {\"gridcolor\": \"white\", \"linecolor\": \"white\", \"ticks\": \"\"}, \"baxis\": {\"gridcolor\": \"white\", \"linecolor\": \"white\", \"ticks\": \"\"}, \"bgcolor\": \"#E5ECF6\", \"caxis\": {\"gridcolor\": \"white\", \"linecolor\": \"white\", \"ticks\": \"\"}}, \"title\": {\"x\": 0.05}, \"xaxis\": {\"automargin\": true, \"gridcolor\": \"white\", \"linecolor\": \"white\", \"ticks\": \"\", \"title\": {\"standoff\": 15}, \"zerolinecolor\": \"white\", \"zerolinewidth\": 2}, \"yaxis\": {\"automargin\": true, \"gridcolor\": \"white\", \"linecolor\": \"white\", \"ticks\": \"\", \"title\": {\"standoff\": 15}, \"zerolinecolor\": \"white\", \"zerolinewidth\": 2}}}, \"title\": {\"text\": \"TOP-5 sales categories in liters per year (percentage of TOTAL SUM by year)\"}},\n",
              "                        {\"responsive\": true}\n",
              "                    ).then(function(){\n",
              "                            \n",
              "var gd = document.getElementById('039c83b0-b94c-47ad-8e8a-4af7e6a89578');\n",
              "var x = new MutationObserver(function (mutations, observer) {{\n",
              "        var display = window.getComputedStyle(gd).display;\n",
              "        if (!display || display === 'none') {{\n",
              "            console.log([gd, 'removed!']);\n",
              "            Plotly.purge(gd);\n",
              "            observer.disconnect();\n",
              "        }}\n",
              "}});\n",
              "\n",
              "// Listen for the removal of the full notebook cells\n",
              "var notebookContainer = gd.closest('#notebook-container');\n",
              "if (notebookContainer) {{\n",
              "    x.observe(notebookContainer, {childList: true});\n",
              "}}\n",
              "\n",
              "// Listen for the clearing of the current output cell\n",
              "var outputEl = gd.closest('.output');\n",
              "if (outputEl) {{\n",
              "    x.observe(outputEl, {childList: true});\n",
              "}}\n",
              "\n",
              "                        })\n",
              "                };\n",
              "                \n",
              "            </script>\n",
              "        </div>\n",
              "</body>\n",
              "</html>"
            ]
          },
          "metadata": {
            "tags": []
          }
        }
      ]
    },
    {
      "cell_type": "markdown",
      "metadata": {
        "id": "JFbVzygG3urZ"
      },
      "source": [
        "ТОП-5 категорий занимают более 50% рынка. Существенных изменений в доле рынка по категориям в 2020 году в сравнении с 2019 не произошло. Стоить отметить, что в 2020 выросла до 5% доля рынка по категории Cocktails/RTD."
      ]
    },
    {
      "cell_type": "markdown",
      "metadata": {
        "id": "b-xNDH3U5qym"
      },
      "source": [
        "Посмотрим как изменились покупательские предпочтения в течении трех лет по компаниям производителям (брендам)"
      ]
    },
    {
      "cell_type": "code",
      "metadata": {
        "colab": {
          "base_uri": "https://localhost:8080/",
          "height": 542
        },
        "id": "hqTBB4US5ugH",
        "outputId": "0eaf8c5a-6b92-48c8-f70d-49165862154d"
      },
      "source": [
        "brand_percent= df.groupby([df.date.dt.year, 'vendor_name']).agg({'volume_sold_liters': 'sum'})\n",
        "brand_percent= brand_percent.groupby(level=0).apply(lambda x: 100*x / float(x.sum()))\n",
        "brand_percent=brand_percent.sort_values(['date','volume_sold_liters'], ascending=False).reset_index()\n",
        "brand_percent=brand_percent.groupby(['date']).head(5)\n",
        "fig = go.Figure(data=[\n",
        "                      go.Bar(name='2020', x=brand_percent[brand_percent['date']==2020].vendor_name, \n",
        "                      y=brand_percent[brand_percent['date']==2020].volume_sold_liters, \n",
        "                      text=round(brand_percent[brand_percent['date']==2020].volume_sold_liters, 0), textposition='outside'),\n",
        "                      go.Bar(name='2019', x=brand_percent[brand_percent['date']==2019].vendor_name, \n",
        "                      y=brand_percent[brand_percent['date']==2019].volume_sold_liters, \n",
        "                      text=round(brand_percent[brand_percent['date']==2019].volume_sold_liters, 0), textposition='outside'), \n",
        "                      go.Bar(name='2018', x=brand_percent[brand_percent['date']==2018].vendor_name, \n",
        "                      y=brand_percent[brand_percent['date']==2018].volume_sold_liters, \n",
        "                      text=round(brand_percent[brand_percent['date']==2018].volume_sold_liters, 0), textposition='outside')            \n",
        "])   \n",
        "fig.update_layout(barmode='group', title= 'TOP-5 sales vendor_name in liters per year (percentage of TOTAL SUM by year)', showlegend=True)\n",
        "fig.show()"
      ],
      "execution_count": 46,
      "outputs": [
        {
          "output_type": "display_data",
          "data": {
            "text/html": [
              "<html>\n",
              "<head><meta charset=\"utf-8\" /></head>\n",
              "<body>\n",
              "    <div>\n",
              "            <script src=\"https://cdnjs.cloudflare.com/ajax/libs/mathjax/2.7.5/MathJax.js?config=TeX-AMS-MML_SVG\"></script><script type=\"text/javascript\">if (window.MathJax) {MathJax.Hub.Config({SVG: {font: \"STIX-Web\"}});}</script>\n",
              "                <script type=\"text/javascript\">window.PlotlyConfig = {MathJaxConfig: 'local'};</script>\n",
              "        <script src=\"https://cdn.plot.ly/plotly-latest.min.js\"></script>    \n",
              "            <div id=\"5d19163b-894c-4210-9077-c6fbbd59cefc\" class=\"plotly-graph-div\" style=\"height:525px; width:100%;\"></div>\n",
              "            <script type=\"text/javascript\">\n",
              "                \n",
              "                    window.PLOTLYENV=window.PLOTLYENV || {};\n",
              "                    \n",
              "                if (document.getElementById(\"5d19163b-894c-4210-9077-c6fbbd59cefc\")) {\n",
              "                    Plotly.newPlot(\n",
              "                        '5d19163b-894c-4210-9077-c6fbbd59cefc',\n",
              "                        [{\"name\": \"2020\", \"text\": [14.0, 11.0, 10.0, 9.0, 7.0], \"textposition\": \"outside\", \"type\": \"bar\", \"x\": [\"DIAGEO AMERICAS\", \"SAZERAC COMPANY  INC\", \"Heaven Hill Brands\", \"LUXCO INC\", \"Jim Beam Brands\"], \"y\": [13.743496502056955, 10.795121432263342, 10.319778314081574, 8.609598123351535, 7.114521439480037]}, {\"name\": \"2019\", \"text\": [15.0, 10.0, 10.0, 8.0, 7.0], \"textposition\": \"outside\", \"type\": \"bar\", \"x\": [\"DIAGEO AMERICAS\", \"SAZERAC COMPANY  INC\", \"LUXCO INC\", \"CONSTELLATION BRANDS INC\", \"Jim Beam Brands\"], \"y\": [14.966069504480153, 10.335768669518846, 10.027323181429898, 7.891669232669516, 7.198290936607197]}, {\"name\": \"2018\", \"text\": [16.0, 10.0, 9.0, 9.0, 7.0], \"textposition\": \"outside\", \"type\": \"bar\", \"x\": [\"DIAGEO AMERICAS\", \"LUXCO INC\", \"SAZERAC COMPANY  INC\", \"CONSTELLATION BRANDS INC\", \"Jim Beam Brands\"], \"y\": [15.928821109376825, 10.221270745581595, 9.153538875028483, 9.121113291444345, 7.482742574776326]}],\n",
              "                        {\"barmode\": \"group\", \"showlegend\": true, \"template\": {\"data\": {\"bar\": [{\"error_x\": {\"color\": \"#2a3f5f\"}, \"error_y\": {\"color\": \"#2a3f5f\"}, \"marker\": {\"line\": {\"color\": \"#E5ECF6\", \"width\": 0.5}}, \"type\": \"bar\"}], \"barpolar\": [{\"marker\": {\"line\": {\"color\": \"#E5ECF6\", \"width\": 0.5}}, \"type\": \"barpolar\"}], \"carpet\": [{\"aaxis\": {\"endlinecolor\": \"#2a3f5f\", \"gridcolor\": \"white\", \"linecolor\": \"white\", \"minorgridcolor\": \"white\", \"startlinecolor\": \"#2a3f5f\"}, \"baxis\": {\"endlinecolor\": \"#2a3f5f\", \"gridcolor\": \"white\", \"linecolor\": \"white\", \"minorgridcolor\": \"white\", \"startlinecolor\": \"#2a3f5f\"}, \"type\": \"carpet\"}], \"choropleth\": [{\"colorbar\": {\"outlinewidth\": 0, \"ticks\": \"\"}, \"type\": \"choropleth\"}], \"contour\": [{\"colorbar\": {\"outlinewidth\": 0, \"ticks\": \"\"}, \"colorscale\": [[0.0, \"#0d0887\"], [0.1111111111111111, \"#46039f\"], [0.2222222222222222, \"#7201a8\"], [0.3333333333333333, \"#9c179e\"], [0.4444444444444444, \"#bd3786\"], [0.5555555555555556, \"#d8576b\"], [0.6666666666666666, \"#ed7953\"], [0.7777777777777778, \"#fb9f3a\"], [0.8888888888888888, \"#fdca26\"], [1.0, \"#f0f921\"]], \"type\": \"contour\"}], \"contourcarpet\": [{\"colorbar\": {\"outlinewidth\": 0, \"ticks\": \"\"}, \"type\": \"contourcarpet\"}], \"heatmap\": [{\"colorbar\": {\"outlinewidth\": 0, \"ticks\": \"\"}, \"colorscale\": [[0.0, \"#0d0887\"], [0.1111111111111111, \"#46039f\"], [0.2222222222222222, \"#7201a8\"], [0.3333333333333333, \"#9c179e\"], [0.4444444444444444, \"#bd3786\"], [0.5555555555555556, \"#d8576b\"], [0.6666666666666666, \"#ed7953\"], [0.7777777777777778, \"#fb9f3a\"], [0.8888888888888888, \"#fdca26\"], [1.0, \"#f0f921\"]], \"type\": \"heatmap\"}], \"heatmapgl\": [{\"colorbar\": {\"outlinewidth\": 0, \"ticks\": \"\"}, \"colorscale\": [[0.0, \"#0d0887\"], [0.1111111111111111, \"#46039f\"], [0.2222222222222222, \"#7201a8\"], [0.3333333333333333, \"#9c179e\"], [0.4444444444444444, \"#bd3786\"], [0.5555555555555556, \"#d8576b\"], [0.6666666666666666, \"#ed7953\"], [0.7777777777777778, \"#fb9f3a\"], [0.8888888888888888, \"#fdca26\"], [1.0, \"#f0f921\"]], \"type\": \"heatmapgl\"}], \"histogram\": [{\"marker\": {\"colorbar\": {\"outlinewidth\": 0, \"ticks\": \"\"}}, \"type\": \"histogram\"}], \"histogram2d\": [{\"colorbar\": {\"outlinewidth\": 0, \"ticks\": \"\"}, \"colorscale\": [[0.0, \"#0d0887\"], [0.1111111111111111, \"#46039f\"], [0.2222222222222222, \"#7201a8\"], [0.3333333333333333, \"#9c179e\"], [0.4444444444444444, \"#bd3786\"], [0.5555555555555556, \"#d8576b\"], [0.6666666666666666, \"#ed7953\"], [0.7777777777777778, \"#fb9f3a\"], [0.8888888888888888, \"#fdca26\"], [1.0, \"#f0f921\"]], \"type\": \"histogram2d\"}], \"histogram2dcontour\": [{\"colorbar\": {\"outlinewidth\": 0, \"ticks\": \"\"}, \"colorscale\": [[0.0, \"#0d0887\"], [0.1111111111111111, \"#46039f\"], [0.2222222222222222, \"#7201a8\"], [0.3333333333333333, \"#9c179e\"], [0.4444444444444444, \"#bd3786\"], [0.5555555555555556, \"#d8576b\"], [0.6666666666666666, \"#ed7953\"], [0.7777777777777778, \"#fb9f3a\"], [0.8888888888888888, \"#fdca26\"], [1.0, \"#f0f921\"]], \"type\": \"histogram2dcontour\"}], \"mesh3d\": [{\"colorbar\": {\"outlinewidth\": 0, \"ticks\": \"\"}, \"type\": \"mesh3d\"}], \"parcoords\": [{\"line\": {\"colorbar\": {\"outlinewidth\": 0, \"ticks\": \"\"}}, \"type\": \"parcoords\"}], \"pie\": [{\"automargin\": true, \"type\": \"pie\"}], \"scatter\": [{\"marker\": {\"colorbar\": {\"outlinewidth\": 0, \"ticks\": \"\"}}, \"type\": \"scatter\"}], \"scatter3d\": [{\"line\": {\"colorbar\": {\"outlinewidth\": 0, \"ticks\": \"\"}}, \"marker\": {\"colorbar\": {\"outlinewidth\": 0, \"ticks\": \"\"}}, \"type\": \"scatter3d\"}], \"scattercarpet\": [{\"marker\": {\"colorbar\": {\"outlinewidth\": 0, \"ticks\": \"\"}}, \"type\": \"scattercarpet\"}], \"scattergeo\": [{\"marker\": {\"colorbar\": {\"outlinewidth\": 0, \"ticks\": \"\"}}, \"type\": \"scattergeo\"}], \"scattergl\": [{\"marker\": {\"colorbar\": {\"outlinewidth\": 0, \"ticks\": \"\"}}, \"type\": \"scattergl\"}], \"scattermapbox\": [{\"marker\": {\"colorbar\": {\"outlinewidth\": 0, \"ticks\": \"\"}}, \"type\": \"scattermapbox\"}], \"scatterpolar\": [{\"marker\": {\"colorbar\": {\"outlinewidth\": 0, \"ticks\": \"\"}}, \"type\": \"scatterpolar\"}], \"scatterpolargl\": [{\"marker\": {\"colorbar\": {\"outlinewidth\": 0, \"ticks\": \"\"}}, \"type\": \"scatterpolargl\"}], \"scatterternary\": [{\"marker\": {\"colorbar\": {\"outlinewidth\": 0, \"ticks\": \"\"}}, \"type\": \"scatterternary\"}], \"surface\": [{\"colorbar\": {\"outlinewidth\": 0, \"ticks\": \"\"}, \"colorscale\": [[0.0, \"#0d0887\"], [0.1111111111111111, \"#46039f\"], [0.2222222222222222, \"#7201a8\"], [0.3333333333333333, \"#9c179e\"], [0.4444444444444444, \"#bd3786\"], [0.5555555555555556, \"#d8576b\"], [0.6666666666666666, \"#ed7953\"], [0.7777777777777778, \"#fb9f3a\"], [0.8888888888888888, \"#fdca26\"], [1.0, \"#f0f921\"]], \"type\": \"surface\"}], \"table\": [{\"cells\": {\"fill\": {\"color\": \"#EBF0F8\"}, \"line\": {\"color\": \"white\"}}, \"header\": {\"fill\": {\"color\": \"#C8D4E3\"}, \"line\": {\"color\": \"white\"}}, \"type\": \"table\"}]}, \"layout\": {\"annotationdefaults\": {\"arrowcolor\": \"#2a3f5f\", \"arrowhead\": 0, \"arrowwidth\": 1}, \"coloraxis\": {\"colorbar\": {\"outlinewidth\": 0, \"ticks\": \"\"}}, \"colorscale\": {\"diverging\": [[0, \"#8e0152\"], [0.1, \"#c51b7d\"], [0.2, \"#de77ae\"], [0.3, \"#f1b6da\"], [0.4, \"#fde0ef\"], [0.5, \"#f7f7f7\"], [0.6, \"#e6f5d0\"], [0.7, \"#b8e186\"], [0.8, \"#7fbc41\"], [0.9, \"#4d9221\"], [1, \"#276419\"]], \"sequential\": [[0.0, \"#0d0887\"], [0.1111111111111111, \"#46039f\"], [0.2222222222222222, \"#7201a8\"], [0.3333333333333333, \"#9c179e\"], [0.4444444444444444, \"#bd3786\"], [0.5555555555555556, \"#d8576b\"], [0.6666666666666666, \"#ed7953\"], [0.7777777777777778, \"#fb9f3a\"], [0.8888888888888888, \"#fdca26\"], [1.0, \"#f0f921\"]], \"sequentialminus\": [[0.0, \"#0d0887\"], [0.1111111111111111, \"#46039f\"], [0.2222222222222222, \"#7201a8\"], [0.3333333333333333, \"#9c179e\"], [0.4444444444444444, \"#bd3786\"], [0.5555555555555556, \"#d8576b\"], [0.6666666666666666, \"#ed7953\"], [0.7777777777777778, \"#fb9f3a\"], [0.8888888888888888, \"#fdca26\"], [1.0, \"#f0f921\"]]}, \"colorway\": [\"#636efa\", \"#EF553B\", \"#00cc96\", \"#ab63fa\", \"#FFA15A\", \"#19d3f3\", \"#FF6692\", \"#B6E880\", \"#FF97FF\", \"#FECB52\"], \"font\": {\"color\": \"#2a3f5f\"}, \"geo\": {\"bgcolor\": \"white\", \"lakecolor\": \"white\", \"landcolor\": \"#E5ECF6\", \"showlakes\": true, \"showland\": true, \"subunitcolor\": \"white\"}, \"hoverlabel\": {\"align\": \"left\"}, \"hovermode\": \"closest\", \"mapbox\": {\"style\": \"light\"}, \"paper_bgcolor\": \"white\", \"plot_bgcolor\": \"#E5ECF6\", \"polar\": {\"angularaxis\": {\"gridcolor\": \"white\", \"linecolor\": \"white\", \"ticks\": \"\"}, \"bgcolor\": \"#E5ECF6\", \"radialaxis\": {\"gridcolor\": \"white\", \"linecolor\": \"white\", \"ticks\": \"\"}}, \"scene\": {\"xaxis\": {\"backgroundcolor\": \"#E5ECF6\", \"gridcolor\": \"white\", \"gridwidth\": 2, \"linecolor\": \"white\", \"showbackground\": true, \"ticks\": \"\", \"zerolinecolor\": \"white\"}, \"yaxis\": {\"backgroundcolor\": \"#E5ECF6\", \"gridcolor\": \"white\", \"gridwidth\": 2, \"linecolor\": \"white\", \"showbackground\": true, \"ticks\": \"\", \"zerolinecolor\": \"white\"}, \"zaxis\": {\"backgroundcolor\": \"#E5ECF6\", \"gridcolor\": \"white\", \"gridwidth\": 2, \"linecolor\": \"white\", \"showbackground\": true, \"ticks\": \"\", \"zerolinecolor\": \"white\"}}, \"shapedefaults\": {\"line\": {\"color\": \"#2a3f5f\"}}, \"ternary\": {\"aaxis\": {\"gridcolor\": \"white\", \"linecolor\": \"white\", \"ticks\": \"\"}, \"baxis\": {\"gridcolor\": \"white\", \"linecolor\": \"white\", \"ticks\": \"\"}, \"bgcolor\": \"#E5ECF6\", \"caxis\": {\"gridcolor\": \"white\", \"linecolor\": \"white\", \"ticks\": \"\"}}, \"title\": {\"x\": 0.05}, \"xaxis\": {\"automargin\": true, \"gridcolor\": \"white\", \"linecolor\": \"white\", \"ticks\": \"\", \"title\": {\"standoff\": 15}, \"zerolinecolor\": \"white\", \"zerolinewidth\": 2}, \"yaxis\": {\"automargin\": true, \"gridcolor\": \"white\", \"linecolor\": \"white\", \"ticks\": \"\", \"title\": {\"standoff\": 15}, \"zerolinecolor\": \"white\", \"zerolinewidth\": 2}}}, \"title\": {\"text\": \"TOP-5 sales vendor_name in liters per year (percentage of TOTAL SUM by year)\"}},\n",
              "                        {\"responsive\": true}\n",
              "                    ).then(function(){\n",
              "                            \n",
              "var gd = document.getElementById('5d19163b-894c-4210-9077-c6fbbd59cefc');\n",
              "var x = new MutationObserver(function (mutations, observer) {{\n",
              "        var display = window.getComputedStyle(gd).display;\n",
              "        if (!display || display === 'none') {{\n",
              "            console.log([gd, 'removed!']);\n",
              "            Plotly.purge(gd);\n",
              "            observer.disconnect();\n",
              "        }}\n",
              "}});\n",
              "\n",
              "// Listen for the removal of the full notebook cells\n",
              "var notebookContainer = gd.closest('#notebook-container');\n",
              "if (notebookContainer) {{\n",
              "    x.observe(notebookContainer, {childList: true});\n",
              "}}\n",
              "\n",
              "// Listen for the clearing of the current output cell\n",
              "var outputEl = gd.closest('.output');\n",
              "if (outputEl) {{\n",
              "    x.observe(outputEl, {childList: true});\n",
              "}}\n",
              "\n",
              "                        })\n",
              "                };\n",
              "                \n",
              "            </script>\n",
              "        </div>\n",
              "</body>\n",
              "</html>"
            ]
          },
          "metadata": {
            "tags": []
          }
        }
      ]
    },
    {
      "cell_type": "markdown",
      "metadata": {
        "id": "zStb2hB_73FN"
      },
      "source": [
        "В 2020 году 10% рынка занял Heaven Hill Brands (рост +4% относительно 2019), Diageo Americas по сравнению с 2018 потерял 2,2% рынка."
      ]
    },
    {
      "cell_type": "markdown",
      "metadata": {
        "id": "MrkUa47T9ElX"
      },
      "source": [
        "По 2020 году выведем топ 5 позиций в каждом из топ 5 брендов. Так же интересно, какой они имеют объем в литрах"
      ]
    },
    {
      "cell_type": "code",
      "metadata": {
        "colab": {
          "base_uri": "https://localhost:8080/",
          "height": 661
        },
        "id": "5UqhEZqx9cOG",
        "outputId": "869c45e4-aa84-4c2b-daf5-203851caa447"
      },
      "source": [
        "brand_percent_2020=brand_percent[brand_percent.date==2020]\n",
        "brand_percent_2020.rename(columns={\"volume_sold_liters\": \"%_volume_sold_liters\"}, inplace=True)\n",
        "product_percent= df[df.date.dt.year==2020].groupby([df.date.dt.year, 'vendor_name', 'bottle_volume_liters', 'item_description']).agg({'volume_sold_liters': 'sum'})\n",
        "product_percent= product_percent.groupby(['date', 'vendor_name']).apply(lambda x: 100*x / float(x.sum()))\n",
        "product_percent=product_percent.sort_values(['date', 'vendor_name', 'volume_sold_liters'], ascending=False).reset_index()\n",
        "product_percent=product_percent.groupby(['date', 'vendor_name']).head(5)\n",
        "product_percent = pd.merge(product_percent, brand_percent_2020, on=['vendor_name'], how=\"inner\")\n",
        "product_percent.drop([\"date_y\"], axis=1, inplace=True)\n",
        "product_percent.rename(columns={'date_x': \"date\",\n",
        "                                 \"volume_sold_liters\": \"item_percent_sold_liters_in_total_vendor\",\n",
        "                                 '%_volume_sold_liters': \"vendor_percent_sold_liters_in_total_sum\"}, \n",
        "                      inplace=True)\n",
        "product_percent=product_percent.round({'item_percent_sold_liters_in_total_vendor': 1, 'vendor_percent_sold_liters_in_total_sum': 1})\n",
        "\n",
        "fig = go.Figure(data=[go.Table(\n",
        "    columnwidth = [30,90,60,90,120,120],\n",
        "    header=dict(values=list(product_percent.columns),\n",
        "                fill_color='paleturquoise',\n",
        "                align='center'),\n",
        "    cells=dict(values=[product_percent.date,\n",
        "                       product_percent.vendor_name,\n",
        "                       product_percent.bottle_volume_liters,\n",
        "                       product_percent.item_description,\n",
        "                       product_percent.item_percent_sold_liters_in_total_vendor,\n",
        "                       product_percent.vendor_percent_sold_liters_in_total_sum\n",
        "                       ],\n",
        "               fill_color='lavender',\n",
        "               align='center'))\n",
        "])\n",
        "\n",
        "fig.show()\n"
      ],
      "execution_count": 47,
      "outputs": [
        {
          "output_type": "stream",
          "text": [
            "/usr/local/lib/python3.6/dist-packages/pandas/core/frame.py:4308: SettingWithCopyWarning:\n",
            "\n",
            "\n",
            "A value is trying to be set on a copy of a slice from a DataFrame\n",
            "\n",
            "See the caveats in the documentation: https://pandas.pydata.org/pandas-docs/stable/user_guide/indexing.html#returning-a-view-versus-a-copy\n",
            "\n"
          ],
          "name": "stderr"
        },
        {
          "output_type": "display_data",
          "data": {
            "text/html": [
              "<html>\n",
              "<head><meta charset=\"utf-8\" /></head>\n",
              "<body>\n",
              "    <div>\n",
              "            <script src=\"https://cdnjs.cloudflare.com/ajax/libs/mathjax/2.7.5/MathJax.js?config=TeX-AMS-MML_SVG\"></script><script type=\"text/javascript\">if (window.MathJax) {MathJax.Hub.Config({SVG: {font: \"STIX-Web\"}});}</script>\n",
              "                <script type=\"text/javascript\">window.PlotlyConfig = {MathJaxConfig: 'local'};</script>\n",
              "        <script src=\"https://cdn.plot.ly/plotly-latest.min.js\"></script>    \n",
              "            <div id=\"beefbec6-295d-4612-af2e-6fc703d458e3\" class=\"plotly-graph-div\" style=\"height:525px; width:100%;\"></div>\n",
              "            <script type=\"text/javascript\">\n",
              "                \n",
              "                    window.PLOTLYENV=window.PLOTLYENV || {};\n",
              "                    \n",
              "                if (document.getElementById(\"beefbec6-295d-4612-af2e-6fc703d458e3\")) {\n",
              "                    Plotly.newPlot(\n",
              "                        'beefbec6-295d-4612-af2e-6fc703d458e3',\n",
              "                        [{\"cells\": {\"align\": \"center\", \"fill\": {\"color\": \"lavender\"}, \"values\": [[2020, 2020, 2020, 2020, 2020, 2020, 2020, 2020, 2020, 2020, 2020, 2020, 2020, 2020, 2020, 2020, 2020, 2020, 2020, 2020, 2020, 2020, 2020, 2020, 2020], [\"SAZERAC COMPANY  INC\", \"SAZERAC COMPANY  INC\", \"SAZERAC COMPANY  INC\", \"SAZERAC COMPANY  INC\", \"SAZERAC COMPANY  INC\", \"LUXCO INC\", \"LUXCO INC\", \"LUXCO INC\", \"LUXCO INC\", \"LUXCO INC\", \"Jim Beam Brands\", \"Jim Beam Brands\", \"Jim Beam Brands\", \"Jim Beam Brands\", \"Jim Beam Brands\", \"Heaven Hill Brands\", \"Heaven Hill Brands\", \"Heaven Hill Brands\", \"Heaven Hill Brands\", \"Heaven Hill Brands\", \"DIAGEO AMERICAS\", \"DIAGEO AMERICAS\", \"DIAGEO AMERICAS\", \"DIAGEO AMERICAS\", \"DIAGEO AMERICAS\"], [0.1, 1.75, 1.75, 1.75, 1.75, 1.75, 0.75, 1.75, 0.75, 1.0, 1.75, 1.75, 1.75, 0.75, 1.75, 1.75, 1.75, 0.75, 1.0, 0.375, 1.75, 1.0, 1.75, 1.75, 1.75], [\"Fireball Cinnamon Whiskey\", \"Platinum 7x Vodka\", \"Fris Danish Vodka\", \"Nikolai Vodka\", \"Fireball Cinnamon Whiskey\", \"Hawkeye Vodka\", \"Hawkeye Vodka\", \"Paramount White Rum\", \"Hawkeye Vodka PET\", \"Juarez Gold\", \"Windsor Canadian PET\", \"Jim Beam\", \"Pinnacle\", \"Jim Beam\", \"Kessler Blend Whiskey\", \"Black Velvet\", \"Admiral Nelson Spiced Rum\", \"Black Velvet\", \"Black Velvet\", \"Black Velvet\", \"Captain Morgan Original Spiced Barrel\", \"Captain Morgan Original Spiced\", \"Captain Morgan Original Spiced\", \"Seagrams 7 Crown\", \"Smirnoff 80prf PET\"], [8.0, 6.0, 5.6, 5.6, 5.2, 23.8, 4.7, 4.6, 4.6, 4.0, 6.3, 5.6, 4.7, 4.2, 4.2, 44.1, 7.2, 5.2, 4.2, 3.5, 9.0, 6.8, 6.6, 4.7, 3.7], [10.8, 10.8, 10.8, 10.8, 10.8, 8.6, 8.6, 8.6, 8.6, 8.6, 7.1, 7.1, 7.1, 7.1, 7.1, 10.3, 10.3, 10.3, 10.3, 10.3, 13.7, 13.7, 13.7, 13.7, 13.7]]}, \"columnwidth\": [30, 90, 60, 90, 120, 120], \"header\": {\"align\": \"center\", \"fill\": {\"color\": \"paleturquoise\"}, \"values\": [\"date\", \"vendor_name\", \"bottle_volume_liters\", \"item_description\", \"item_percent_sold_liters_in_total_vendor\", \"vendor_percent_sold_liters_in_total_sum\"]}, \"type\": \"table\"}],\n",
              "                        {\"template\": {\"data\": {\"bar\": [{\"error_x\": {\"color\": \"#2a3f5f\"}, \"error_y\": {\"color\": \"#2a3f5f\"}, \"marker\": {\"line\": {\"color\": \"#E5ECF6\", \"width\": 0.5}}, \"type\": \"bar\"}], \"barpolar\": [{\"marker\": {\"line\": {\"color\": \"#E5ECF6\", \"width\": 0.5}}, \"type\": \"barpolar\"}], \"carpet\": [{\"aaxis\": {\"endlinecolor\": \"#2a3f5f\", \"gridcolor\": \"white\", \"linecolor\": \"white\", \"minorgridcolor\": \"white\", \"startlinecolor\": \"#2a3f5f\"}, \"baxis\": {\"endlinecolor\": \"#2a3f5f\", \"gridcolor\": \"white\", \"linecolor\": \"white\", \"minorgridcolor\": \"white\", \"startlinecolor\": \"#2a3f5f\"}, \"type\": \"carpet\"}], \"choropleth\": [{\"colorbar\": {\"outlinewidth\": 0, \"ticks\": \"\"}, \"type\": \"choropleth\"}], \"contour\": [{\"colorbar\": {\"outlinewidth\": 0, \"ticks\": \"\"}, \"colorscale\": [[0.0, \"#0d0887\"], [0.1111111111111111, \"#46039f\"], [0.2222222222222222, \"#7201a8\"], [0.3333333333333333, \"#9c179e\"], [0.4444444444444444, \"#bd3786\"], [0.5555555555555556, \"#d8576b\"], [0.6666666666666666, \"#ed7953\"], [0.7777777777777778, \"#fb9f3a\"], [0.8888888888888888, \"#fdca26\"], [1.0, \"#f0f921\"]], \"type\": \"contour\"}], \"contourcarpet\": [{\"colorbar\": {\"outlinewidth\": 0, \"ticks\": \"\"}, \"type\": \"contourcarpet\"}], \"heatmap\": [{\"colorbar\": {\"outlinewidth\": 0, \"ticks\": \"\"}, \"colorscale\": [[0.0, \"#0d0887\"], [0.1111111111111111, \"#46039f\"], [0.2222222222222222, \"#7201a8\"], [0.3333333333333333, \"#9c179e\"], [0.4444444444444444, \"#bd3786\"], [0.5555555555555556, \"#d8576b\"], [0.6666666666666666, \"#ed7953\"], [0.7777777777777778, \"#fb9f3a\"], [0.8888888888888888, \"#fdca26\"], [1.0, \"#f0f921\"]], \"type\": \"heatmap\"}], \"heatmapgl\": [{\"colorbar\": {\"outlinewidth\": 0, \"ticks\": \"\"}, \"colorscale\": [[0.0, \"#0d0887\"], [0.1111111111111111, \"#46039f\"], [0.2222222222222222, \"#7201a8\"], [0.3333333333333333, \"#9c179e\"], [0.4444444444444444, \"#bd3786\"], [0.5555555555555556, \"#d8576b\"], [0.6666666666666666, \"#ed7953\"], [0.7777777777777778, \"#fb9f3a\"], [0.8888888888888888, \"#fdca26\"], [1.0, \"#f0f921\"]], \"type\": \"heatmapgl\"}], \"histogram\": [{\"marker\": {\"colorbar\": {\"outlinewidth\": 0, \"ticks\": \"\"}}, \"type\": \"histogram\"}], \"histogram2d\": [{\"colorbar\": {\"outlinewidth\": 0, \"ticks\": \"\"}, \"colorscale\": [[0.0, \"#0d0887\"], [0.1111111111111111, \"#46039f\"], [0.2222222222222222, \"#7201a8\"], [0.3333333333333333, \"#9c179e\"], [0.4444444444444444, \"#bd3786\"], [0.5555555555555556, \"#d8576b\"], [0.6666666666666666, \"#ed7953\"], [0.7777777777777778, \"#fb9f3a\"], [0.8888888888888888, \"#fdca26\"], [1.0, \"#f0f921\"]], \"type\": \"histogram2d\"}], \"histogram2dcontour\": [{\"colorbar\": {\"outlinewidth\": 0, \"ticks\": \"\"}, \"colorscale\": [[0.0, \"#0d0887\"], [0.1111111111111111, \"#46039f\"], [0.2222222222222222, \"#7201a8\"], [0.3333333333333333, \"#9c179e\"], [0.4444444444444444, \"#bd3786\"], [0.5555555555555556, \"#d8576b\"], [0.6666666666666666, \"#ed7953\"], [0.7777777777777778, \"#fb9f3a\"], [0.8888888888888888, \"#fdca26\"], [1.0, \"#f0f921\"]], \"type\": \"histogram2dcontour\"}], \"mesh3d\": [{\"colorbar\": {\"outlinewidth\": 0, \"ticks\": \"\"}, \"type\": \"mesh3d\"}], \"parcoords\": [{\"line\": {\"colorbar\": {\"outlinewidth\": 0, \"ticks\": \"\"}}, \"type\": \"parcoords\"}], \"pie\": [{\"automargin\": true, \"type\": \"pie\"}], \"scatter\": [{\"marker\": {\"colorbar\": {\"outlinewidth\": 0, \"ticks\": \"\"}}, \"type\": \"scatter\"}], \"scatter3d\": [{\"line\": {\"colorbar\": {\"outlinewidth\": 0, \"ticks\": \"\"}}, \"marker\": {\"colorbar\": {\"outlinewidth\": 0, \"ticks\": \"\"}}, \"type\": \"scatter3d\"}], \"scattercarpet\": [{\"marker\": {\"colorbar\": {\"outlinewidth\": 0, \"ticks\": \"\"}}, \"type\": \"scattercarpet\"}], \"scattergeo\": [{\"marker\": {\"colorbar\": {\"outlinewidth\": 0, \"ticks\": \"\"}}, \"type\": \"scattergeo\"}], \"scattergl\": [{\"marker\": {\"colorbar\": {\"outlinewidth\": 0, \"ticks\": \"\"}}, \"type\": \"scattergl\"}], \"scattermapbox\": [{\"marker\": {\"colorbar\": {\"outlinewidth\": 0, \"ticks\": \"\"}}, \"type\": \"scattermapbox\"}], \"scatterpolar\": [{\"marker\": {\"colorbar\": {\"outlinewidth\": 0, \"ticks\": \"\"}}, \"type\": \"scatterpolar\"}], \"scatterpolargl\": [{\"marker\": {\"colorbar\": {\"outlinewidth\": 0, \"ticks\": \"\"}}, \"type\": \"scatterpolargl\"}], \"scatterternary\": [{\"marker\": {\"colorbar\": {\"outlinewidth\": 0, \"ticks\": \"\"}}, \"type\": \"scatterternary\"}], \"surface\": [{\"colorbar\": {\"outlinewidth\": 0, \"ticks\": \"\"}, \"colorscale\": [[0.0, \"#0d0887\"], [0.1111111111111111, \"#46039f\"], [0.2222222222222222, \"#7201a8\"], [0.3333333333333333, \"#9c179e\"], [0.4444444444444444, \"#bd3786\"], [0.5555555555555556, \"#d8576b\"], [0.6666666666666666, \"#ed7953\"], [0.7777777777777778, \"#fb9f3a\"], [0.8888888888888888, \"#fdca26\"], [1.0, \"#f0f921\"]], \"type\": \"surface\"}], \"table\": [{\"cells\": {\"fill\": {\"color\": \"#EBF0F8\"}, \"line\": {\"color\": \"white\"}}, \"header\": {\"fill\": {\"color\": \"#C8D4E3\"}, \"line\": {\"color\": \"white\"}}, \"type\": \"table\"}]}, \"layout\": {\"annotationdefaults\": {\"arrowcolor\": \"#2a3f5f\", \"arrowhead\": 0, \"arrowwidth\": 1}, \"coloraxis\": {\"colorbar\": {\"outlinewidth\": 0, \"ticks\": \"\"}}, \"colorscale\": {\"diverging\": [[0, \"#8e0152\"], [0.1, \"#c51b7d\"], [0.2, \"#de77ae\"], [0.3, \"#f1b6da\"], [0.4, \"#fde0ef\"], [0.5, \"#f7f7f7\"], [0.6, \"#e6f5d0\"], [0.7, \"#b8e186\"], [0.8, \"#7fbc41\"], [0.9, \"#4d9221\"], [1, \"#276419\"]], \"sequential\": [[0.0, \"#0d0887\"], [0.1111111111111111, \"#46039f\"], [0.2222222222222222, \"#7201a8\"], [0.3333333333333333, \"#9c179e\"], [0.4444444444444444, \"#bd3786\"], [0.5555555555555556, \"#d8576b\"], [0.6666666666666666, \"#ed7953\"], [0.7777777777777778, \"#fb9f3a\"], [0.8888888888888888, \"#fdca26\"], [1.0, \"#f0f921\"]], \"sequentialminus\": [[0.0, \"#0d0887\"], [0.1111111111111111, \"#46039f\"], [0.2222222222222222, \"#7201a8\"], [0.3333333333333333, \"#9c179e\"], [0.4444444444444444, \"#bd3786\"], [0.5555555555555556, \"#d8576b\"], [0.6666666666666666, \"#ed7953\"], [0.7777777777777778, \"#fb9f3a\"], [0.8888888888888888, \"#fdca26\"], [1.0, \"#f0f921\"]]}, \"colorway\": [\"#636efa\", \"#EF553B\", \"#00cc96\", \"#ab63fa\", \"#FFA15A\", \"#19d3f3\", \"#FF6692\", \"#B6E880\", \"#FF97FF\", \"#FECB52\"], \"font\": {\"color\": \"#2a3f5f\"}, \"geo\": {\"bgcolor\": \"white\", \"lakecolor\": \"white\", \"landcolor\": \"#E5ECF6\", \"showlakes\": true, \"showland\": true, \"subunitcolor\": \"white\"}, \"hoverlabel\": {\"align\": \"left\"}, \"hovermode\": \"closest\", \"mapbox\": {\"style\": \"light\"}, \"paper_bgcolor\": \"white\", \"plot_bgcolor\": \"#E5ECF6\", \"polar\": {\"angularaxis\": {\"gridcolor\": \"white\", \"linecolor\": \"white\", \"ticks\": \"\"}, \"bgcolor\": \"#E5ECF6\", \"radialaxis\": {\"gridcolor\": \"white\", \"linecolor\": \"white\", \"ticks\": \"\"}}, \"scene\": {\"xaxis\": {\"backgroundcolor\": \"#E5ECF6\", \"gridcolor\": \"white\", \"gridwidth\": 2, \"linecolor\": \"white\", \"showbackground\": true, \"ticks\": \"\", \"zerolinecolor\": \"white\"}, \"yaxis\": {\"backgroundcolor\": \"#E5ECF6\", \"gridcolor\": \"white\", \"gridwidth\": 2, \"linecolor\": \"white\", \"showbackground\": true, \"ticks\": \"\", \"zerolinecolor\": \"white\"}, \"zaxis\": {\"backgroundcolor\": \"#E5ECF6\", \"gridcolor\": \"white\", \"gridwidth\": 2, \"linecolor\": \"white\", \"showbackground\": true, \"ticks\": \"\", \"zerolinecolor\": \"white\"}}, \"shapedefaults\": {\"line\": {\"color\": \"#2a3f5f\"}}, \"ternary\": {\"aaxis\": {\"gridcolor\": \"white\", \"linecolor\": \"white\", \"ticks\": \"\"}, \"baxis\": {\"gridcolor\": \"white\", \"linecolor\": \"white\", \"ticks\": \"\"}, \"bgcolor\": \"#E5ECF6\", \"caxis\": {\"gridcolor\": \"white\", \"linecolor\": \"white\", \"ticks\": \"\"}}, \"title\": {\"x\": 0.05}, \"xaxis\": {\"automargin\": true, \"gridcolor\": \"white\", \"linecolor\": \"white\", \"ticks\": \"\", \"title\": {\"standoff\": 15}, \"zerolinecolor\": \"white\", \"zerolinewidth\": 2}, \"yaxis\": {\"automargin\": true, \"gridcolor\": \"white\", \"linecolor\": \"white\", \"ticks\": \"\", \"title\": {\"standoff\": 15}, \"zerolinecolor\": \"white\", \"zerolinewidth\": 2}}}},\n",
              "                        {\"responsive\": true}\n",
              "                    ).then(function(){\n",
              "                            \n",
              "var gd = document.getElementById('beefbec6-295d-4612-af2e-6fc703d458e3');\n",
              "var x = new MutationObserver(function (mutations, observer) {{\n",
              "        var display = window.getComputedStyle(gd).display;\n",
              "        if (!display || display === 'none') {{\n",
              "            console.log([gd, 'removed!']);\n",
              "            Plotly.purge(gd);\n",
              "            observer.disconnect();\n",
              "        }}\n",
              "}});\n",
              "\n",
              "// Listen for the removal of the full notebook cells\n",
              "var notebookContainer = gd.closest('#notebook-container');\n",
              "if (notebookContainer) {{\n",
              "    x.observe(notebookContainer, {childList: true});\n",
              "}}\n",
              "\n",
              "// Listen for the clearing of the current output cell\n",
              "var outputEl = gd.closest('.output');\n",
              "if (outputEl) {{\n",
              "    x.observe(outputEl, {childList: true});\n",
              "}}\n",
              "\n",
              "                        })\n",
              "                };\n",
              "                \n",
              "            </script>\n",
              "        </div>\n",
              "</body>\n",
              "</html>"
            ]
          },
          "metadata": {
            "tags": []
          }
        }
      ]
    },
    {
      "cell_type": "markdown",
      "metadata": {
        "id": "XYiQ-7v94M18"
      },
      "source": [
        "Только у производителей LUXCO INC и Heaven Hill Brands есть явные продукты-лидеры продаж внутри бренда"
      ]
    },
    {
      "cell_type": "markdown",
      "metadata": {
        "id": "Zt5WskHbD065"
      },
      "source": [
        "Посмотрим как всплеск продаж в марте 2020 года повлиял на прирост продаж разных ценовых сегментов продукции. Для этого для каждого продукта определим среднюю взвешенную цену, затем найдем квартили и медиану цен и постром на их основе ценовые диапазоны."
      ]
    },
    {
      "cell_type": "code",
      "metadata": {
        "colab": {
          "base_uri": "https://localhost:8080/",
          "height": 297
        },
        "id": "u2Z9VeZ8EWH5",
        "outputId": "f98b7cca-c04d-413f-9a5d-dc3042b4b6f8"
      },
      "source": [
        "prod_avg_price= df[df.date.dt.year==2020][['item_description', \n",
        "                                          'bottle_volume_liters', \n",
        "                                          'bottles_sold', \n",
        "                                          'sale_dollars']].groupby(['item_description', \n",
        "                                                                    'bottle_volume_liters']).agg({\n",
        "                                                                                                  'bottles_sold': 'sum',\n",
        "                                                                                                  'sale_dollars': 'sum'})\n",
        "prod_avg_price.columns = ['sum_bottles_sold',\n",
        "                          'sum_sale_dollars'\n",
        "                          ]\n",
        "\n",
        "prod_avg_price['avg_price']=prod_avg_price['sum_sale_dollars']/prod_avg_price['sum_bottles_sold']\n",
        "\n",
        "prod_avg_price.describe()"
      ],
      "execution_count": 48,
      "outputs": [
        {
          "output_type": "execute_result",
          "data": {
            "text/html": [
              "<div>\n",
              "<style scoped>\n",
              "    .dataframe tbody tr th:only-of-type {\n",
              "        vertical-align: middle;\n",
              "    }\n",
              "\n",
              "    .dataframe tbody tr th {\n",
              "        vertical-align: top;\n",
              "    }\n",
              "\n",
              "    .dataframe thead th {\n",
              "        text-align: right;\n",
              "    }\n",
              "</style>\n",
              "<table border=\"1\" class=\"dataframe\">\n",
              "  <thead>\n",
              "    <tr style=\"text-align: right;\">\n",
              "      <th></th>\n",
              "      <th>sum_bottles_sold</th>\n",
              "      <th>sum_sale_dollars</th>\n",
              "      <th>avg_price</th>\n",
              "    </tr>\n",
              "  </thead>\n",
              "  <tbody>\n",
              "    <tr>\n",
              "      <th>count</th>\n",
              "      <td>4.051000e+03</td>\n",
              "      <td>4.051000e+03</td>\n",
              "      <td>4051.000000</td>\n",
              "    </tr>\n",
              "    <tr>\n",
              "      <th>mean</th>\n",
              "      <td>6.060129e+03</td>\n",
              "      <td>7.999083e+04</td>\n",
              "      <td>27.462575</td>\n",
              "    </tr>\n",
              "    <tr>\n",
              "      <th>std</th>\n",
              "      <td>3.411288e+04</td>\n",
              "      <td>3.263911e+05</td>\n",
              "      <td>64.829578</td>\n",
              "    </tr>\n",
              "    <tr>\n",
              "      <th>min</th>\n",
              "      <td>1.000000e+00</td>\n",
              "      <td>8.310000e+00</td>\n",
              "      <td>1.340000</td>\n",
              "    </tr>\n",
              "    <tr>\n",
              "      <th>25%</th>\n",
              "      <td>4.800000e+01</td>\n",
              "      <td>1.079010e+03</td>\n",
              "      <td>10.500000</td>\n",
              "    </tr>\n",
              "    <tr>\n",
              "      <th>50%</th>\n",
              "      <td>5.170000e+02</td>\n",
              "      <td>1.083318e+04</td>\n",
              "      <td>17.700000</td>\n",
              "    </tr>\n",
              "    <tr>\n",
              "      <th>75%</th>\n",
              "      <td>3.220500e+03</td>\n",
              "      <td>4.356797e+04</td>\n",
              "      <td>30.000000</td>\n",
              "    </tr>\n",
              "    <tr>\n",
              "      <th>max</th>\n",
              "      <td>1.734853e+06</td>\n",
              "      <td>8.551140e+06</td>\n",
              "      <td>2623.680000</td>\n",
              "    </tr>\n",
              "  </tbody>\n",
              "</table>\n",
              "</div>"
            ],
            "text/plain": [
              "       sum_bottles_sold  sum_sale_dollars    avg_price\n",
              "count      4.051000e+03      4.051000e+03  4051.000000\n",
              "mean       6.060129e+03      7.999083e+04    27.462575\n",
              "std        3.411288e+04      3.263911e+05    64.829578\n",
              "min        1.000000e+00      8.310000e+00     1.340000\n",
              "25%        4.800000e+01      1.079010e+03    10.500000\n",
              "50%        5.170000e+02      1.083318e+04    17.700000\n",
              "75%        3.220500e+03      4.356797e+04    30.000000\n",
              "max        1.734853e+06      8.551140e+06  2623.680000"
            ]
          },
          "metadata": {
            "tags": []
          },
          "execution_count": 48
        }
      ]
    },
    {
      "cell_type": "markdown",
      "metadata": {
        "id": "xgAl-6ZnIace"
      },
      "source": [
        "Таким образом имеем четыре диапазона:\n",
        "\n",
        "1.   '<=' 11 USD\n",
        "2.   11-18 USD\n",
        "3.   18-30 USD\n",
        "4.   '>'30 USD\n",
        "\n"
      ]
    },
    {
      "cell_type": "markdown",
      "metadata": {
        "id": "ftKifksEK4yQ"
      },
      "source": [
        "Добавим ценовые диапазоны в основной датафрейм"
      ]
    },
    {
      "cell_type": "code",
      "metadata": {
        "id": "eGU5a9X0JfU8"
      },
      "source": [
        "df['price_range']=np.where(\n",
        "    df['state_bottle_retail'].between(0, 11, inclusive=False), \n",
        "    '0-11', \n",
        "                  np.where(\n",
        "    df['state_bottle_retail'].between(11, 18, inclusive=False), \n",
        "    '11-18',\n",
        "                  np.where(\n",
        "    df['state_bottle_retail'].between(18, 30, inclusive=False), \n",
        "    '18-30', '>=30'\n",
        "     )))"
      ],
      "execution_count": 49,
      "outputs": []
    },
    {
      "cell_type": "markdown",
      "metadata": {
        "id": "c9ItTIciFFXz"
      },
      "source": [
        "Ранее сравнение продаж месяц к месяцу по годам позволило заметить значительный скачек продаж в марте 2020, что нетипично для данного месяца. По четырем ценовым диапазонам оценим влияние паники связанной с Covid в марте 2020 на прирост в процентом выражении марта к февралю 2020."
      ]
    },
    {
      "cell_type": "code",
      "metadata": {
        "colab": {
          "base_uri": "https://localhost:8080/",
          "height": 145
        },
        "id": "G1dyrBo4KrNq",
        "outputId": "b386a35e-d06c-4e27-e46d-da80e0023b90"
      },
      "source": [
        "feb_mar_2020=pd.pivot_table(df[(df.date.dt.year==2020) & (df.date.dt.month.between(2,3))],index=[\"price_range\"],values=\"volume_sold_liters\",\n",
        "              columns=df.date.dt.month, aggfunc=np.sum)\n",
        "feb_mar_2020.reset_index()\n",
        "feb_mar_2020[\"mar/feb'20\"]=feb_mar_2020[3]/feb_mar_2020[2]-1\n",
        "feb_mar_2020.rename(columns={2: \"feb'20\", 3: \"mar'20\"}, inplace=True)\n",
        "feb_mar_2020.style.format({\"feb'20\": \"{:.0f}\", \"mar'20\": \"{:.0f}\", \"mar/feb'20\": '{:+.1%}'})"
      ],
      "execution_count": 50,
      "outputs": [
        {
          "output_type": "execute_result",
          "data": {
            "text/html": [
              "<style  type=\"text/css\" >\n",
              "</style><table id=\"T_1b2b7d26_3477_11eb_9099_0242ac1c0002\" ><thead>    <tr>        <th class=\"index_name level0\" >date</th>        <th class=\"col_heading level0 col0\" >feb'20</th>        <th class=\"col_heading level0 col1\" >mar'20</th>        <th class=\"col_heading level0 col2\" >mar/feb'20</th>    </tr>    <tr>        <th class=\"index_name level0\" >price_range</th>        <th class=\"blank\" ></th>        <th class=\"blank\" ></th>        <th class=\"blank\" ></th>    </tr></thead><tbody>\n",
              "                <tr>\n",
              "                        <th id=\"T_1b2b7d26_3477_11eb_9099_0242ac1c0002level0_row0\" class=\"row_heading level0 row0\" >0-11</th>\n",
              "                        <td id=\"T_1b2b7d26_3477_11eb_9099_0242ac1c0002row0_col0\" class=\"data row0 col0\" >547965</td>\n",
              "                        <td id=\"T_1b2b7d26_3477_11eb_9099_0242ac1c0002row0_col1\" class=\"data row0 col1\" >633537</td>\n",
              "                        <td id=\"T_1b2b7d26_3477_11eb_9099_0242ac1c0002row0_col2\" class=\"data row0 col2\" >+15.6%</td>\n",
              "            </tr>\n",
              "            <tr>\n",
              "                        <th id=\"T_1b2b7d26_3477_11eb_9099_0242ac1c0002level0_row1\" class=\"row_heading level0 row1\" >11-18</th>\n",
              "                        <td id=\"T_1b2b7d26_3477_11eb_9099_0242ac1c0002row1_col0\" class=\"data row1 col0\" >589325</td>\n",
              "                        <td id=\"T_1b2b7d26_3477_11eb_9099_0242ac1c0002row1_col1\" class=\"data row1 col1\" >704719</td>\n",
              "                        <td id=\"T_1b2b7d26_3477_11eb_9099_0242ac1c0002row1_col2\" class=\"data row1 col2\" >+19.6%</td>\n",
              "            </tr>\n",
              "            <tr>\n",
              "                        <th id=\"T_1b2b7d26_3477_11eb_9099_0242ac1c0002level0_row2\" class=\"row_heading level0 row2\" >18-30</th>\n",
              "                        <td id=\"T_1b2b7d26_3477_11eb_9099_0242ac1c0002row2_col0\" class=\"data row2 col0\" >402907</td>\n",
              "                        <td id=\"T_1b2b7d26_3477_11eb_9099_0242ac1c0002row2_col1\" class=\"data row2 col1\" >491274</td>\n",
              "                        <td id=\"T_1b2b7d26_3477_11eb_9099_0242ac1c0002row2_col2\" class=\"data row2 col2\" >+21.9%</td>\n",
              "            </tr>\n",
              "            <tr>\n",
              "                        <th id=\"T_1b2b7d26_3477_11eb_9099_0242ac1c0002level0_row3\" class=\"row_heading level0 row3\" >>=30</th>\n",
              "                        <td id=\"T_1b2b7d26_3477_11eb_9099_0242ac1c0002row3_col0\" class=\"data row3 col0\" >90278</td>\n",
              "                        <td id=\"T_1b2b7d26_3477_11eb_9099_0242ac1c0002row3_col1\" class=\"data row3 col1\" >126537</td>\n",
              "                        <td id=\"T_1b2b7d26_3477_11eb_9099_0242ac1c0002row3_col2\" class=\"data row3 col2\" >+40.2%</td>\n",
              "            </tr>\n",
              "    </tbody></table>"
            ],
            "text/plain": [
              "<pandas.io.formats.style.Styler at 0x7f38eafc0358>"
            ]
          },
          "metadata": {
            "tags": []
          },
          "execution_count": 50
        }
      ]
    },
    {
      "cell_type": "markdown",
      "metadata": {
        "id": "9t9kk8sOGWrR"
      },
      "source": [
        "Наиболее значимый прирост (+40%) показал сегмент от 30 долларов и выше в то время как остальные сегменты приросли от 15% до 22%. Эти данные необходимо учесть при планировании запасов, так как очевидно, что объемы страховых запасов более дорогой продукции значительно ниже чем дешевой. И в случае прогнозов подобного поведения покупателей необходимо принять меры по обеспечении торговых точек продукцией."
      ]
    }
  ]
}